{
 "cells": [
  {
   "cell_type": "markdown",
   "metadata": {},
   "source": [
    "# Imports\n",
    "Imports of the required libraries to complete lab3"
   ]
  },
  {
   "cell_type": "code",
   "execution_count": 2,
   "metadata": {},
   "outputs": [
    {
     "name": "stderr",
     "output_type": "stream",
     "text": [
      "c:\\Users\\Bruker\\miniconda3\\envs\\Intro_ai\\lib\\site-packages\\huggingface_hub\\snapshot_download.py:6: FutureWarning: snapshot_download.py has been made private and will no longer be available from version 0.11. Please use `from huggingface_hub import snapshot_download` to import the only public function in this module. Other members of the file may be changed without a deprecation notice.\n",
      "  warnings.warn(\n"
     ]
    },
    {
     "name": "stdout",
     "output_type": "stream",
     "text": [
      "\n",
      "GPUs detected:          0\n",
      "Using GPU:              False\n",
      "Device:                 cpu\n",
      "Got model from pickle:  True\n",
      "\n"
     ]
    }
   ],
   "source": [
    "# regex\n",
    "import re\n",
    "\n",
    "# pandas + numpy\n",
    "import numpy as np\n",
    "import pandas as pd\n",
    "\n",
    "# setting pandas options\n",
    "pd.set_option('display.max_colwidth', 200)\n",
    "\n",
    "\n",
    "# storing and loading models\n",
    "import pickle\n",
    "\n",
    "# to set types for functions\n",
    "from typing import Tuple\n",
    "\n",
    "# Plotting\n",
    "import plotly.graph_objects as go\n",
    "import plotly.express as px\n",
    "from plotly.subplots import make_subplots\n",
    "\n",
    "\n",
    "# gpu debug\n",
    "import torch\n",
    "\n",
    "# setting device to use GPU for NLP backend if you have GPU available\n",
    "device = \"cuda\" if torch.cuda.is_available() else \"cpu\"\n",
    "\n",
    "\n",
    "# SBERT\n",
    "from sentence_transformers import SentenceTransformer\n",
    "\n",
    "# UMAP\n",
    "from umap import UMAP\n",
    "\n",
    "#HDBSCAN\n",
    "from hdbscan import HDBSCAN\n",
    "\n",
    "# topic finding\n",
    "from sklearn.feature_extraction.text import TfidfVectorizer\n",
    "\n",
    "# Loading model from pickle if possible, to avoid downloading it again\n",
    "try:\n",
    "    model = pickle.load(open(f'model-{device}.pkl', 'rb'))\n",
    "\n",
    "    model_load = True\n",
    "\n",
    "except:\n",
    "    model = SentenceTransformer('all-mpnet-base-v2', device=device)\n",
    "    pickle.dump(model, open(f'model-{device}.pkl', 'wb'))\n",
    "\n",
    "    model_load = False\n",
    "\n",
    "print(f\"\"\"\n",
    "GPUs detected:          {torch.cuda.device_count()}\n",
    "Using GPU:              {torch.cuda.is_available()}\n",
    "Device:                 {device}\n",
    "Got model from pickle:  {model_load}\n",
    "\"\"\")"
   ]
  },
  {
   "cell_type": "markdown",
   "metadata": {},
   "source": [
    "# Functions\n",
    "Creating a function that finds the most relevant word per cluster id."
   ]
  },
  {
   "cell_type": "code",
   "execution_count": 3,
   "metadata": {},
   "outputs": [],
   "source": [
    "def tfidf_most_relevant_word(input: list, num_words=5) -> list:\n",
    "  \"\"\"\n",
    "  Function that finds the most relevant words per cluster id.\n",
    "\n",
    "  Args:\n",
    "      input (list): A list of title strings aggregated by cluster id.\n",
    "      num_words (int, optional): How many words you want. Defaults to 5.\n",
    "\n",
    "  Returns:\n",
    "      list: Returns a list of most relevant words, with lenght of unique cluster Ids\n",
    "  \"\"\"\n",
    "\n",
    "  most_relevant_words = []\n",
    "  \n",
    "  for corpus in input:\n",
    "        \n",
    "    vectorizer = TfidfVectorizer(stop_words='english')\n",
    "    X = vectorizer.fit_transform(corpus)\n",
    "    \n",
    "    importance = np.argsort(np.asarray(X.sum(axis=0)).ravel())[::-1]\n",
    "    tfidf_feature_names = np.array(vectorizer.get_feature_names_out()) # get_feature_names\n",
    "    most_relevant_words.append(tfidf_feature_names[importance[:num_words]])\n",
    "\n",
    "  return most_relevant_words\n"
   ]
  },
  {
   "cell_type": "markdown",
   "metadata": {},
   "source": [
    "## Cleaning\n",
    "Here we define a function who's main task is to \"clean\" a string. We're casting all elements in the string to lower case as well as removing punctation and other non-alphanumeric characters.\n",
    "The function takes a string as an argument and returning the \"cleaned\" string.\n",
    " "
   ]
  },
  {
   "cell_type": "code",
   "execution_count": 4,
   "metadata": {},
   "outputs": [],
   "source": [
    "def string_cleaner(input: str) -> str:\n",
    "    \"\"\"\n",
    "    Function to clean up strings.\n",
    "\n",
    "    Args:\n",
    "        input (str): String to be cleaned.\n",
    "\n",
    "    Returns:\n",
    "        str: Cleaned string.\n",
    "    \"\"\"\n",
    "    \n",
    "    # turning lowercase\n",
    "    input = input.lower()\n",
    "\n",
    "    # removing punctuation and other non-alphanumeric characters\n",
    "    input = re.sub(r'[^\\w\\s]', '', input)\n",
    "    \n",
    "    return input"
   ]
  },
  {
   "cell_type": "markdown",
   "metadata": {},
   "source": [
    "## Topic Modeling\n",
    "Creating a function that maps topics to cluster ids\n",
    "The function returning a Dictionary with cluster ids as keys and topics as values. "
   ]
  },
  {
   "cell_type": "code",
   "execution_count": 5,
   "metadata": {},
   "outputs": [],
   "source": [
    "def tfidf_most_relevant_word(input: list, num_words=5) -> list:\n",
    "  \"\"\"\n",
    "  Function that finds the most relevant words per cluster id.\n",
    "\n",
    "  Args:\n",
    "      input (list): A list of title strings aggregated by cluster id.\n",
    "      num_words (int, optional): How many words you want. Defaults to 5.\n",
    "\n",
    "  Returns:\n",
    "      list: Returns a list of most relevant words, with lenght of unique cluster Ids\n",
    "  \"\"\"\n",
    "\n",
    "  most_relevant_words = []\n",
    "  \n",
    "  for corpus in input:\n",
    "        \n",
    "    vectorizer = TfidfVectorizer(stop_words='english')\n",
    "    X = vectorizer.fit_transform(corpus)\n",
    "    \n",
    "    importance = np.argsort(np.asarray(X.sum(axis=0)).ravel())[::-1]\n",
    "    tfidf_feature_names = np.array(vectorizer.get_feature_names_out()) # get_feature_names\n",
    "    most_relevant_words.append(tfidf_feature_names[importance[:num_words]])\n",
    "\n",
    "  return most_relevant_words\n",
    "  \n",
    "\n",
    "def topic_by_clusterId(result: pd.DataFrame) -> dict:\n",
    "  \"\"\"\n",
    "  Function that maps topics to cluster ids.\n",
    "\n",
    "  Args:\n",
    "      result (pd.DataFrame): Dataframe with cluster ids and topics.\n",
    "\n",
    "  Returns:\n",
    "      dict: Dictionary with cluster ids as keys and topics as values.\n",
    "  \"\"\"\n",
    "\n",
    "  #print(result.isna().sum())\n",
    "\n",
    "  df_group = result[[\"titles\", \"cluster_label\"]].groupby(\"cluster_label\").agg(list).reset_index()\n",
    "\n",
    "  df_group[\"topics\"] = tfidf_most_relevant_word(df_group[\"titles\"])\n",
    "\n",
    "  return dict(zip(df_group.cluster_label, df_group.topics))"
   ]
  },
  {
   "cell_type": "markdown",
   "metadata": {},
   "source": [
    "## Plotting Functions\n"
   ]
  },
  {
   "cell_type": "code",
   "execution_count": 6,
   "metadata": {},
   "outputs": [],
   "source": [
    "# when you actually cast the type here, then it works with how pandas casts types and you don't have to worry about copying seriers\n",
    "def result_df_maker(embeddings: np.ndarray, cluster_labels: np.ndarray, titles: np.ndarray) -> pd.DataFrame:\n",
    "  \"\"\"\n",
    "  Function to make a dataframe with the embeddings, cluster labels, topic per cluster label and titles.\n",
    "\n",
    "  Args:\n",
    "      embeddings (np.ndarray): 2D array of embeddings.\n",
    "      cluster_labels (np.ndarray): array of cluster labels.\n",
    "      titles (np.ndarray): array of titles.\n",
    "\n",
    "  Returns:\n",
    "      pd.DataFrame: Dataframe with embeddings, cluster labels, topics per cluster, and titles.\n",
    "  \"\"\"\n",
    "  result = pd.DataFrame(embeddings, columns=['x', 'y'])\n",
    "\n",
    "  result[\"titles\"] = titles\n",
    "\n",
    "  result[\"cluster_label\"] = cluster_labels\n",
    "\n",
    "  topic_dict = topic_by_clusterId(result)\n",
    "\n",
    "  result[\"topics\"] = result[\"cluster_label\"].apply(lambda x: topic_dict[x])\n",
    "\n",
    "  result[\"topics\"] = result[\"topics\"].apply(lambda x: \" \".join(x))\n",
    "\n",
    "  return result\n",
    "\n",
    "def result_splitter(result: pd.DataFrame) -> Tuple[np.ndarray, np.ndarray]:\n",
    "  \"\"\"\n",
    "  Function to split the dataframe into two dataframes, one for clustered and one for outliers.\n",
    "\n",
    "  Args:\n",
    "      result (pd.DataFrame): Dataframe with embeddings, cluster labels, topics per cluster, and titles.\n",
    "\n",
    "  Returns:\n",
    "      Tuple[np.ndarray, np.ndarray]: Tuple of two dataframes, one for clustered and one for outliers.\n",
    "  \"\"\"\n",
    "\n",
    "  clustered = result.loc[result.cluster_label != -1, :]\n",
    "  outliers = result.loc[result.cluster_label == -1, :]\n",
    "  return clustered, outliers\n",
    "\n",
    "# the cavalry is not here, but it's fine! Why? I am here!\n",
    "def result_tracer(clustered: pd.DataFrame, outliers: pd.DataFrame) -> Tuple[go.Scattergl, go.Scattergl]:\n",
    "  \"\"\"\n",
    "  Function to make a scatter traces of the clustered and outliers.\n",
    "\n",
    "  Args:\n",
    "      clustered (pd.DataFrame): clustered dataframe to be colored by cluster and get hover data\n",
    "      outliers (pd.DataFrame): outlier data frame with grey color and no hover data\n",
    "\n",
    "  Returns:\n",
    "      Tuple[go.Scattergl, go.Scattergl]: Tuple of two scatter traces.\n",
    "  \"\"\"\n",
    "\n",
    "  trace_cluster = go.Scattergl(\n",
    "    x=clustered.x, \n",
    "    y=clustered.y, \n",
    "    mode=\"markers\", \n",
    "    name=\"Clustered\",\n",
    "\n",
    "    # styling markers\n",
    "    marker=dict(\n",
    "      size=2, \n",
    "      color=clustered.cluster_label,\n",
    "      colorscale=\"Rainbow\"\n",
    "    ), \n",
    "\n",
    "    # setting hover text to the titles of the videos\n",
    "    hovertemplate=\"<b>Topics:</b> %{customdata[0]} <br><b>Cluster Id:</b> %{customdata[1]}<extra></extra>\", \n",
    "    customdata=np.column_stack([clustered.topics, clustered.cluster_label]),\n",
    "  )\n",
    "\n",
    "  trace_outlier = go.Scattergl(\n",
    "    x=outliers.x,\n",
    "    y=outliers.y,\n",
    "    mode=\"markers\",\n",
    "    name=\"Outliers\",\n",
    "\n",
    "    marker=dict(\n",
    "      size=1,\n",
    "      color=\"grey\"\n",
    "    ),\n",
    "\n",
    "    hovertemplate=\"Outlier<extra></extra>\"\n",
    "  )\n",
    "\n",
    "  return trace_cluster, trace_outlier\n",
    "\n",
    "def result_tracer_wrapper(uembs: np.ndarray, cluster_labels: np.ndarray, titles: np.ndarray) -> Tuple[go.Scattergl, go.Scattergl]:\n",
    "  \"\"\"\n",
    "  Function to make a scatter traces of the clustered and outliers.\n",
    "\n",
    "  Args:\n",
    "      uembs (np.ndarray): 2D array of embeddings.\n",
    "      cluster_labels (np.ndarray): array of cluster labels.\n",
    "      titles (np.ndarray): array of titles.\n",
    "\n",
    "  Returns:\n",
    "      Tuple[go.Scattergl, go.Scattergl]: Tuple of two scatter traces.\n",
    "  \"\"\"\n",
    "\n",
    "  result = result_df_maker(uembs, cluster_labels, titles)\n",
    "  clustered, outliers = result_splitter(result)\n",
    "  trace_cluster, trace_outlier = result_tracer(clustered, outliers)\n",
    "  return trace_cluster, trace_outlier"
   ]
  },
  {
   "cell_type": "code",
   "execution_count": 7,
   "metadata": {},
   "outputs": [],
   "source": [
    "def subplotter(trace_nested_list: list, titles: list, base_size=1000) -> go.Figure:\n",
    "    \"\"\"\n",
    "    Function to make a figure with subplots of the clustered and outliers.\n",
    "\n",
    "    Args:\n",
    "        trace_nested_list (list): list holding rows of columns, each column holding traces. \n",
    "        titles (list): Titles for the subplots\n",
    "        base_size (int, optional): Base size of the sub plots. Defaults to 1000.\n",
    "\n",
    "    Returns:\n",
    "        go.Figure: Figure with subplots.\n",
    "    \"\"\"\n",
    "    \n",
    "    row_count = len(trace_nested_list)\n",
    "    col_count = len(trace_nested_list[0])\n",
    "    \n",
    "    fig = make_subplots(\n",
    "        rows=row_count, \n",
    "        cols=col_count,\n",
    "        subplot_titles=(titles),\n",
    "        vertical_spacing=0.02,\n",
    "        horizontal_spacing=0.02\n",
    "    )\n",
    "\n",
    "    for i, row in enumerate(trace_nested_list):\n",
    "        for j, col in enumerate(row):\n",
    "\n",
    "            # adding both outlieers and clustered\n",
    "            for trace in col:\n",
    "                fig.add_trace(trace, row=i+1, col=1)\n",
    "    \n",
    "    # figure settings\n",
    "    fig.update_xaxes(visible=False)\n",
    "    fig.update_yaxes(visible=False)\n",
    "    \n",
    "    fig.update_layout(width=base_size*col_count, height=base_size*row_count, plot_bgcolor='rgba(250,250,250,1)')\n",
    "\n",
    "    return fig"
   ]
  },
  {
   "cell_type": "markdown",
   "metadata": {},
   "source": [
    "## Saving / Showing Plots"
   ]
  },
  {
   "cell_type": "code",
   "execution_count": 8,
   "metadata": {},
   "outputs": [],
   "source": [
    "def fig_show_save(fig: go.Figure, filename: str, show=True):\n",
    "  \"\"\"\n",
    "  Function to show and save a figure.\n",
    "\n",
    "  Args:\n",
    "      fig (go.Figure): fig to be saved and shown\n",
    "      filename (str): filename to save the figure, without extension\n",
    "      show (bool, optional): Option to disable showing of figure (in case too big for notebook). Defaults to True.\n",
    "  \"\"\"\n",
    "  \n",
    "  # writing both interactible .html and static image .png\n",
    "  fig.write_html(f\"figures/{filename}.html\")\n",
    "  fig.write_image(f\"figures/{filename}.png\")\n",
    "\n",
    "  if show: \n",
    "    fig.show()"
   ]
  },
  {
   "cell_type": "markdown",
   "metadata": {},
   "source": [
    "# Data Part\n",
    "In the code below we are using panda, as imported, to read the data from the file USvideos.csv under the folder data.\n",
    "\n",
    "we're then copying data from one serie (title) and stores it in the df-variable.\n",
    "\n",
    "We're using a sample of the dataset insted, in the case where we dont have a gpu to do out text encodings. \n",
    "\n"
   ]
  },
  {
   "cell_type": "code",
   "execution_count": 9,
   "metadata": {},
   "outputs": [
    {
     "name": "stdout",
     "output_type": "stream",
     "text": [
      "(40949, 16)\n",
      "                                                                                                   title\n",
      "31639  Houston Rockets vs Minnesota Timberwolves - Full Game Highlights  | Game 3 | April 21, 2018 | NBA\n",
      "36033                                                           WE GOT INTEL'S PROTOTYPE GRAPHICS CARD!!\n",
      "735                                                                   EARL GREY MACARONS- The Scran Line\n",
      "40685                                              I Filled My Swimming Pool with 10,000 Water Balloons!\n",
      "19041                                                                   Ready to Serve | Romney for Utah\n",
      "...                                                                                                  ...\n",
      "25107                                                                    Pen Circle Traps Ant (But How?)\n",
      "25874                      Rihanna Claps Back at Snapchat for Domestic Violence Ad Featuring Chris Brown\n",
      "4727                                                                               Sia - Candy Cane Lane\n",
      "2635                                                                 Stand-Up Battle with Jerry Seinfeld\n",
      "3185           Kelly Clarkson - Miss Independent / Love So Soft [2017 American Music Awards Performance]\n",
      "\n",
      "[2047 rows x 1 columns]\n"
     ]
    }
   ],
   "source": [
    "# got data from kaggle: https://www.kaggle.com/datasets/datasnaek/youtube-new?resource=download\n",
    "\n",
    "df_whole = pd.read_csv(\"data/USvideos.csv\")\n",
    "\n",
    "df = df_whole[[\"title\"]].copy()\n",
    "\n",
    "# if your computer does not have GPU support, you can use a sample of the dataset instead to make it run in a reasonable time\n",
    "# if you want to use the full dataset even wihtout GPU in case you have a very strong CPU, then you can just comment out the next line\n",
    "if device == \"cpu\": df = df.sample(frac=0.05)\n",
    "\n",
    "print(df_whole.shape)\n",
    "\n",
    "print(df)"
   ]
  },
  {
   "cell_type": "markdown",
   "metadata": {},
   "source": [
    "## Cleaning\n",
    "In the code below we're applying the function, string_cleaner, defined above. This function is applied only on one column ('title') and we store the returned column as \"title_clean\".\n",
    "\n",
    "At the end we print out the first 5 rows."
   ]
  },
  {
   "cell_type": "code",
   "execution_count": 10,
   "metadata": {},
   "outputs": [
    {
     "data": {
      "text/html": [
       "<div>\n",
       "<style scoped>\n",
       "    .dataframe tbody tr th:only-of-type {\n",
       "        vertical-align: middle;\n",
       "    }\n",
       "\n",
       "    .dataframe tbody tr th {\n",
       "        vertical-align: top;\n",
       "    }\n",
       "\n",
       "    .dataframe thead th {\n",
       "        text-align: right;\n",
       "    }\n",
       "</style>\n",
       "<table border=\"1\" class=\"dataframe\">\n",
       "  <thead>\n",
       "    <tr style=\"text-align: right;\">\n",
       "      <th></th>\n",
       "      <th>title</th>\n",
       "      <th>title_clean</th>\n",
       "    </tr>\n",
       "  </thead>\n",
       "  <tbody>\n",
       "    <tr>\n",
       "      <th>31639</th>\n",
       "      <td>Houston Rockets vs Minnesota Timberwolves - Full Game Highlights  | Game 3 | April 21, 2018 | NBA</td>\n",
       "      <td>houston rockets vs minnesota timberwolves  full game highlights   game 3  april 21 2018  nba</td>\n",
       "    </tr>\n",
       "    <tr>\n",
       "      <th>36033</th>\n",
       "      <td>WE GOT INTEL'S PROTOTYPE GRAPHICS CARD!!</td>\n",
       "      <td>we got intels prototype graphics card</td>\n",
       "    </tr>\n",
       "    <tr>\n",
       "      <th>735</th>\n",
       "      <td>EARL GREY MACARONS- The Scran Line</td>\n",
       "      <td>earl grey macarons the scran line</td>\n",
       "    </tr>\n",
       "    <tr>\n",
       "      <th>40685</th>\n",
       "      <td>I Filled My Swimming Pool with 10,000 Water Balloons!</td>\n",
       "      <td>i filled my swimming pool with 10000 water balloons</td>\n",
       "    </tr>\n",
       "    <tr>\n",
       "      <th>19041</th>\n",
       "      <td>Ready to Serve | Romney for Utah</td>\n",
       "      <td>ready to serve  romney for utah</td>\n",
       "    </tr>\n",
       "  </tbody>\n",
       "</table>\n",
       "</div>"
      ],
      "text/plain": [
       "                                                                                                   title  \\\n",
       "31639  Houston Rockets vs Minnesota Timberwolves - Full Game Highlights  | Game 3 | April 21, 2018 | NBA   \n",
       "36033                                                           WE GOT INTEL'S PROTOTYPE GRAPHICS CARD!!   \n",
       "735                                                                   EARL GREY MACARONS- The Scran Line   \n",
       "40685                                              I Filled My Swimming Pool with 10,000 Water Balloons!   \n",
       "19041                                                                   Ready to Serve | Romney for Utah   \n",
       "\n",
       "                                                                                        title_clean  \n",
       "31639  houston rockets vs minnesota timberwolves  full game highlights   game 3  april 21 2018  nba  \n",
       "36033                                                         we got intels prototype graphics card  \n",
       "735                                                               earl grey macarons the scran line  \n",
       "40685                                           i filled my swimming pool with 10000 water balloons  \n",
       "19041                                                               ready to serve  romney for utah  "
      ]
     },
     "execution_count": 10,
     "metadata": {},
     "output_type": "execute_result"
    }
   ],
   "source": [
    "df[\"title_clean\"] = df[\"title\"].apply(string_cleaner)\n",
    "\n",
    "df.head(5)"
   ]
  },
  {
   "cell_type": "markdown",
   "metadata": {},
   "source": [
    "# ML Part\n",
    "In this part we're focusing on the Machine learning. This is where the machine uses ML algorithms to provide output."
   ]
  },
  {
   "cell_type": "markdown",
   "metadata": {},
   "source": [
    "## Getting Encodings\n",
    "In the first line below we're taking one column (title_clean) and making it to a numpy array. This array is put into the function of the model.\n",
    "\n",
    "The model is defined in the imports at the top of the document in line 50.\n",
    "This line says: Use cpu to run the model 'all-mpnet-base-v2', which is a sentence-transformer model who maps sentences and paragraphs to a 768 dimentional space. This model is trained and on a large and diverse dataset in advance.\n",
    "\n",
    "First we're printing the shape of the model to se how one embs-datapoint is displayed.\n",
    "\n",
    "Then we list different information of the embs variable, just to get a better understanding of how it works.\n",
    "\n",
    "We're also printing different outputs of the embs variable to get a better understanding of how the sentence-transformer works."
   ]
  },
  {
   "cell_type": "code",
   "execution_count": 11,
   "metadata": {},
   "outputs": [
    {
     "data": {
      "text/plain": [
       "31639    houston rockets vs minnesota timberwolves  full game highlights   game 3  april 21 2018  nba\n",
       "36033                                                           we got intels prototype graphics card\n",
       "735                                                                 earl grey macarons the scran line\n",
       "40685                                             i filled my swimming pool with 10000 water balloons\n",
       "19041                                                                 ready to serve  romney for utah\n",
       "                                                     ...                                             \n",
       "25107                                                                    pen circle traps ant but how\n",
       "25874                   rihanna claps back at snapchat for domestic violence ad featuring chris brown\n",
       "4727                                                                             sia  candy cane lane\n",
       "2635                                                               standup battle with jerry seinfeld\n",
       "3185            kelly clarkson  miss independent  love so soft 2017 american music awards performance\n",
       "Name: title_clean, Length: 2047, dtype: object"
      ]
     },
     "execution_count": 11,
     "metadata": {},
     "output_type": "execute_result"
    }
   ],
   "source": [
    "df[\"title_clean\"]"
   ]
  },
  {
   "cell_type": "code",
   "execution_count": 12,
   "metadata": {},
   "outputs": [
    {
     "name": "stdout",
     "output_type": "stream",
     "text": [
      "The shape of our embeddings: (2047, 768)\n"
     ]
    }
   ],
   "source": [
    "embs = model.encode(df[\"title_clean\"].to_numpy())\n",
    "\n",
    "print(f\"The shape of our embeddings: {embs.shape}\")"
   ]
  },
  {
   "cell_type": "code",
   "execution_count": 13,
   "metadata": {},
   "outputs": [
    {
     "name": "stdout",
     "output_type": "stream",
     "text": [
      "\n",
      "<class 'numpy.ndarray'>\n",
      "hvor langt er selve embs: 2047\n",
      "hvor langt er et element: 768\n",
      "hva er første element i embs: \n",
      "[-2.26884745e-02 -8.31665471e-03  2.42827404e-02 -1.27505111e-02\n",
      "  1.11368829e-02  1.74464416e-02 -8.17276761e-02  1.84070077e-02\n",
      " -1.79314483e-02 -1.54649168e-02 -1.04354843e-02 -1.90188047e-02\n",
      "  3.55703980e-02  5.01903147e-02  6.82189316e-02 -9.90920067e-02\n",
      "  1.90044846e-02  1.99982729e-02  5.37842661e-02  1.50026046e-02\n",
      "  3.45795453e-02 -1.56342881e-04  2.44024601e-02  9.49529186e-03\n",
      " -6.11622781e-02  1.85784716e-02 -1.30533697e-02 -2.22329088e-02\n",
      " -3.56743932e-02 -5.91970123e-02 -1.01654720e-03 -3.95411178e-02\n",
      "  4.78973165e-02 -8.46622214e-02  1.68445865e-06 -2.57827360e-02\n",
      "  1.44640813e-02  1.98779330e-02 -9.83369537e-03  4.73073199e-02\n",
      "  2.50553824e-02  3.56453508e-02  2.98828315e-02 -1.77229550e-02\n",
      " -5.65097062e-03 -6.67793378e-02  2.49763746e-02  3.45051959e-02\n",
      "  1.50609575e-02  1.52258379e-02  2.00261623e-02  1.24098388e-02\n",
      "  2.53189821e-02 -3.49230343e-03 -2.03569848e-02  6.01974949e-02\n",
      "  2.75151171e-02  5.89865781e-02  7.91694876e-03 -1.83567889e-02\n",
      "  3.83495390e-02 -5.36392070e-03 -5.42517714e-02  2.67080627e-02\n",
      "  1.65668260e-02 -1.28031792e-02 -6.33146390e-02  6.82551530e-04\n",
      " -2.03906838e-02  2.41353232e-02 -2.08976623e-02 -2.05780361e-02\n",
      "  2.38302667e-02 -5.95075497e-03 -3.42306644e-02 -3.05006448e-02\n",
      " -3.17020379e-02 -6.16344288e-02 -1.76283401e-02 -2.06093071e-03\n",
      " -7.40661994e-02 -1.35817111e-03  3.40631194e-02  2.48333793e-02\n",
      " -4.28686710e-03 -3.75942290e-02  1.52183929e-02  1.47360610e-02\n",
      " -3.95881012e-02  1.40630938e-02  5.03725596e-02 -4.40977775e-02\n",
      "  1.49116283e-02 -3.08981109e-02 -2.86055487e-02  1.65274944e-02\n",
      "  1.71806887e-02  2.85149161e-02 -3.15469243e-02  1.31904241e-02\n",
      "  4.67084674e-03  1.93420928e-02  3.41486223e-02  2.30401698e-02\n",
      " -2.29488332e-02 -4.70427983e-02  5.60990795e-02  3.94665971e-02\n",
      " -4.22608443e-02  2.14109709e-03 -2.80812532e-02  2.93724649e-02\n",
      " -1.89109258e-02  1.21394554e-02 -2.41461657e-02  4.67724651e-02\n",
      "  7.09643736e-02  1.65119600e-02  2.83957645e-02  1.59379896e-02\n",
      "  2.96135377e-02  1.03352945e-02  1.79520827e-02 -1.92005411e-02\n",
      "  9.59042180e-03 -8.83793458e-02 -9.80198104e-03 -1.91387422e-02\n",
      "  4.96804491e-02 -1.46356791e-01 -1.64520741e-02 -2.42749811e-03\n",
      "  1.39005948e-04 -5.75896353e-02  4.49797660e-02  4.84542809e-02\n",
      " -3.04379053e-02 -1.61346085e-02  5.59220687e-02  5.13289869e-02\n",
      "  9.42632742e-03 -2.75343880e-02  4.83470485e-02  3.97230983e-02\n",
      "  9.43254679e-02 -5.44032566e-02  1.93532649e-02  1.51251284e-02\n",
      " -7.40020908e-03 -2.20806189e-02 -3.75032797e-02  4.65085264e-03\n",
      "  2.05798447e-02  1.39426375e-02  7.28672743e-03  3.96380574e-03\n",
      " -5.89823537e-02 -7.18712956e-02  2.62369476e-02 -1.98887680e-02\n",
      "  2.17039753e-02 -1.71360653e-02 -9.66133829e-03  1.23949060e-02\n",
      "  1.95039157e-02  1.18561340e-02 -4.03623357e-02  3.98156978e-03\n",
      " -3.81170176e-02  2.32778303e-02 -6.28985241e-02 -1.32584255e-02\n",
      " -5.08890627e-03  4.33176346e-02  3.56103368e-02  1.09632723e-01\n",
      " -4.04348522e-02 -5.61758056e-02  5.37382066e-02  6.61828220e-02\n",
      " -3.66697200e-02 -5.73280528e-02 -2.09130161e-02  3.49060856e-02\n",
      "  2.30726879e-02  4.32726853e-02  1.09782061e-02  1.43768303e-02\n",
      " -4.07145768e-02 -4.71167900e-02  3.64090726e-02 -4.80973497e-02\n",
      " -4.50798124e-02  4.78841700e-02  4.14707325e-02 -4.43718359e-02\n",
      "  2.66120210e-02  3.21794190e-02  3.62040028e-02  1.73669066e-02\n",
      "  2.64041983e-02 -1.04210684e-02 -3.12035680e-02 -1.46006215e-02\n",
      "  7.14150444e-03 -4.25689332e-02  2.33843084e-02 -4.49258387e-02\n",
      " -1.00866733e-02 -2.44922005e-02  2.32095644e-02  1.78788416e-02\n",
      " -1.44956578e-02 -4.69962507e-02 -2.96357903e-03 -3.55432816e-02\n",
      "  4.69917841e-02 -4.33151051e-02  2.95988247e-02  3.61637697e-02\n",
      "  9.45653580e-03 -2.27659903e-02  1.87328905e-02  3.73808318e-03\n",
      " -7.93460906e-02  4.59099077e-02  4.17939499e-02 -2.31712628e-02\n",
      " -5.25244623e-02 -2.37624217e-02  4.14953977e-02  1.44922482e-02\n",
      " -3.47340927e-02  3.05257905e-02  6.03875378e-03  1.07072838e-01\n",
      " -1.22817075e-02 -1.55816665e-02 -7.41067603e-02  2.85027269e-02\n",
      "  7.78628327e-03  2.76365671e-02 -2.13204306e-02  1.28834732e-02\n",
      "  6.47528768e-02 -2.83520785e-03 -5.75211160e-02 -7.78267682e-02\n",
      " -8.02458171e-03  7.39073288e-03 -4.74752523e-02  7.25475512e-03\n",
      " -2.45687403e-02  3.14972848e-02  3.42673138e-02 -6.39968067e-02\n",
      "  4.28814581e-03 -1.98530536e-02 -4.02778536e-02  7.64818490e-02\n",
      " -2.70634214e-03 -2.27612127e-02  1.12658963e-02 -2.93829869e-02\n",
      " -3.67167406e-02 -3.61950658e-02  7.95656890e-02  5.56548610e-02\n",
      " -7.67367193e-03  1.37869390e-02 -3.65256034e-02 -4.33846824e-02\n",
      "  1.28594204e-03 -4.53136154e-02 -2.42427159e-02 -6.11962751e-02\n",
      "  9.24732350e-03  7.09909946e-02 -4.33463976e-02 -2.73115728e-02\n",
      "  6.04043528e-03  3.76262516e-02 -4.05647904e-02 -1.75658483e-02\n",
      "  2.27209576e-03 -2.57602520e-03 -4.86452729e-02 -3.21801975e-02\n",
      " -6.10729232e-02 -5.80692664e-02 -3.72868441e-02 -2.40730755e-02\n",
      "  2.47018016e-03  2.91413907e-02  1.88157167e-02 -3.18778977e-02\n",
      " -2.06846241e-02  1.11147705e-02  9.12832841e-03  4.53052931e-02\n",
      "  4.33573313e-02  1.29635399e-03 -2.86381375e-02  1.57968444e-03\n",
      " -2.08861306e-02  1.47498064e-02 -4.58642328e-03  7.48039689e-03\n",
      "  5.35977520e-02  3.93275134e-02  5.74900769e-02  1.52973784e-02\n",
      " -3.37464847e-02 -3.99655895e-03 -1.27914827e-02  1.36072515e-02\n",
      " -4.74196905e-03  4.55441745e-03 -5.64995222e-02 -1.77503601e-02\n",
      " -7.06870016e-03  2.88574561e-03  1.18561592e-02  2.28727539e-03\n",
      "  8.19826871e-03  9.41959862e-03 -4.28908579e-02  2.42279228e-02\n",
      " -2.64372397e-02  3.04021593e-02  2.94048376e-02 -2.64245272e-02\n",
      " -4.88123819e-02  2.07594987e-02 -3.27510089e-02  4.93893549e-02\n",
      "  1.37300743e-02 -5.93290068e-02  1.39313852e-02 -1.24634551e-02\n",
      " -3.17056477e-02  1.79679021e-02  4.14062925e-02 -1.86143573e-02\n",
      " -5.88510968e-02 -2.00309958e-02  7.87709802e-02  4.84412685e-02\n",
      " -3.82267013e-02 -5.54935299e-02  6.75922399e-03 -4.69968393e-02\n",
      " -9.46599804e-03 -1.94132999e-02 -1.62614398e-02  8.29039365e-02\n",
      " -4.21058852e-03 -2.22119857e-02  3.18837818e-03 -2.68885568e-02\n",
      " -5.22218868e-02  4.11863737e-02  3.09287701e-02 -1.13271165e-03\n",
      " -5.30649023e-03 -1.10692503e-02  1.13225924e-02 -2.43003089e-02\n",
      " -1.25845019e-02 -2.81482954e-02  2.73590256e-02 -1.60026737e-02\n",
      " -6.03672303e-03 -2.00101361e-02  1.05320551e-02  2.82942709e-02\n",
      "  1.13498569e-02  1.51066836e-02  8.30150209e-03  3.99846537e-03\n",
      "  2.50593740e-02 -6.70681745e-02  1.45190135e-02  5.12403995e-02\n",
      " -3.32888495e-03  8.33912753e-03 -6.98180273e-02  2.39277957e-03\n",
      "  1.60786824e-03  1.58203728e-02  4.18811068e-02  4.59884256e-02\n",
      " -3.70817296e-02  2.20892776e-04  3.31017561e-02 -1.83304716e-02\n",
      " -3.48256156e-02 -1.13411490e-02  3.66030484e-02 -1.83060598e-02\n",
      "  4.15421650e-02  1.39726968e-02 -3.17369476e-02  9.30639207e-02\n",
      " -9.56466014e-04 -2.09037885e-02  9.68538970e-03  2.41698287e-02\n",
      " -3.07229143e-02 -4.63465005e-02  9.59285907e-03  2.50496082e-02\n",
      "  5.52035961e-03 -2.61918623e-02 -7.64471889e-02  1.81870051e-02\n",
      "  1.35100298e-02 -2.03246642e-02  4.46771756e-02  3.62825952e-02\n",
      "  2.54102070e-02  3.73525210e-02  3.19553986e-02  1.15654047e-03\n",
      "  9.82258562e-03  1.26149785e-02 -4.63003628e-02  2.09007226e-02\n",
      "  2.17102617e-02 -2.37721186e-02  2.70178635e-03 -8.97933096e-02\n",
      "  2.17524283e-02  2.07950901e-02 -1.15216924e-02  3.82119939e-02\n",
      " -3.96212414e-02  6.53337389e-02  6.31518811e-02  8.35967623e-03\n",
      " -6.46350300e-03  3.50157800e-03 -7.63237253e-02  5.32722380e-03\n",
      "  1.25554046e-02 -3.23803276e-02 -3.97155136e-02 -4.36303280e-02\n",
      " -2.83702984e-02 -5.39513193e-02  1.68261137e-02  2.41881274e-02\n",
      "  1.00005127e-01 -1.55323027e-02 -4.82957112e-03  4.06602472e-02\n",
      "  6.01029918e-02 -1.29145058e-03 -1.57555509e-02 -6.26044795e-02\n",
      " -3.97205539e-03 -8.38116370e-03  4.70636673e-02  6.31893873e-02\n",
      "  7.58296922e-02 -6.31360337e-02 -4.20366004e-02  6.93845227e-02\n",
      "  3.11270985e-03 -1.21403635e-02 -4.25957963e-02 -4.70565110e-02\n",
      "  3.68668698e-02 -2.23558545e-02 -2.07833592e-02  8.57623946e-03\n",
      " -9.38919745e-03  2.65584979e-02  1.58487540e-03  1.45564578e-03\n",
      "  2.77739782e-02  9.66516733e-02 -2.21092664e-02 -8.53617564e-02\n",
      "  7.81384017e-03 -2.13948674e-02 -6.06531091e-03  2.58763693e-02\n",
      " -3.78597751e-02 -6.71347929e-03 -3.71019728e-02  1.30381463e-02\n",
      " -1.18764688e-03  3.36375274e-02  9.67421476e-03  4.34212647e-02\n",
      " -2.36448124e-02 -1.57299843e-02  3.99957001e-02 -2.71625258e-02\n",
      " -4.25262153e-02 -7.95147102e-03 -7.66056729e-03  1.17781637e-02\n",
      " -2.97706388e-02  3.58024500e-02  4.16187197e-03 -6.71601892e-02\n",
      "  7.33190635e-03  3.57681178e-02  3.47503535e-02 -4.44033183e-03\n",
      "  1.19172744e-02  7.46127591e-02  2.75233854e-03 -2.44186036e-02\n",
      "  4.44072708e-02 -3.51950899e-02 -5.09675145e-02  4.67344783e-02\n",
      " -4.55058999e-02 -3.59850042e-02  7.09275678e-02  6.80313027e-03\n",
      " -3.65748480e-02 -4.24284153e-02  4.21938896e-02 -4.82386649e-02\n",
      "  6.37049004e-02 -2.19538379e-02 -2.42154691e-02 -2.76051555e-02\n",
      "  8.61884207e-02 -1.87571987e-03 -8.71232059e-03  9.96240303e-02\n",
      " -1.57213155e-02  5.05344085e-02 -8.81055184e-03 -4.22332995e-02\n",
      "  5.27393597e-04  3.29557545e-02 -4.23662923e-02 -2.89572682e-02\n",
      " -2.46242416e-04  1.66002996e-02  3.00247688e-02  3.16495635e-02\n",
      "  7.73336962e-02 -2.79098470e-03  7.23254215e-03  5.61733693e-02\n",
      " -3.80685255e-02  1.64374448e-02 -1.00951483e-02 -5.70723593e-33\n",
      " -7.32501550e-03 -3.95518281e-02 -2.29371190e-02 -2.03286819e-02\n",
      " -6.32091984e-02 -3.40322517e-02 -7.48339482e-03 -3.93243507e-02\n",
      " -4.32221405e-02  7.63180852e-03  1.39186634e-02  1.18904300e-02\n",
      " -2.27814130e-02 -2.84420159e-02  7.11789951e-02 -5.17523624e-02\n",
      "  1.20746042e-03 -8.33007023e-02  9.89547092e-03  2.42913160e-02\n",
      " -5.04060043e-03 -3.72642069e-03 -2.40098238e-02 -2.92763319e-02\n",
      " -1.49510168e-02 -2.18394380e-02  2.05317908e-03  4.19523679e-02\n",
      " -1.76577028e-02 -6.48907945e-02  2.02394668e-02 -2.89460830e-02\n",
      " -2.57348386e-03 -7.25572109e-02 -1.49155604e-02  5.03802719e-03\n",
      "  2.92930147e-03 -3.17904241e-02  3.57009564e-03 -2.54161954e-02\n",
      " -7.06767365e-02  4.08769883e-02 -4.12712507e-02 -5.12427790e-03\n",
      "  2.00441610e-02 -5.22179119e-02 -2.90641095e-03 -4.45201285e-02\n",
      " -4.71775755e-02 -4.34497818e-02 -1.94552587e-03 -1.44802378e-02\n",
      " -2.58679315e-02 -2.02949475e-02  4.50147726e-02  2.31582578e-03\n",
      "  4.77250554e-02  2.02206392e-02 -1.60064362e-02  8.47086683e-03\n",
      "  6.77074911e-03 -5.25569804e-02 -2.40418576e-02 -2.09698956e-02\n",
      "  3.41700576e-02  4.03322838e-02  7.50608684e-04 -9.42987856e-03\n",
      "  4.21826802e-02  5.19351326e-02 -3.15032005e-02 -1.30812367e-02\n",
      " -2.97025237e-02 -5.90681545e-02 -3.86378616e-02  2.88316817e-03\n",
      "  3.25706862e-02  1.08496742e-02 -2.44131815e-02  8.46157670e-02\n",
      " -1.37994261e-02  4.59824875e-02 -4.48440015e-03 -2.36844197e-02\n",
      "  2.75439918e-02 -2.01132689e-02 -5.23980125e-05 -1.03834890e-01\n",
      " -2.38118581e-02  6.69050904e-04  4.31002602e-02  4.46686819e-02\n",
      " -1.70966815e-02 -3.65335098e-03  4.86675138e-03  6.04849197e-02\n",
      " -1.62528809e-02  1.63047351e-02 -2.87751276e-02 -4.20256108e-02\n",
      "  1.38691189e-02  2.57541053e-02  1.94757432e-02  2.19260473e-02\n",
      "  1.78027470e-02  3.98149993e-03 -6.87873270e-03 -2.11780779e-02\n",
      "  3.58039737e-02 -2.42818855e-02  1.69627536e-02  2.40925159e-02\n",
      " -3.22280005e-02 -8.72882301e-05  3.57734486e-02  7.83118904e-02\n",
      "  3.44265960e-02  1.45464148e-02 -2.29979753e-02 -1.52502898e-02\n",
      " -1.62602589e-02  7.97094852e-02 -1.67830344e-02  1.67067945e-02\n",
      "  1.87594667e-02  1.60391945e-02 -7.00055901e-03  2.51112580e-02\n",
      "  2.37581879e-02  5.97313307e-02 -3.80765321e-03 -4.70732413e-02\n",
      "  2.43558361e-07 -8.79790634e-03  2.97811981e-02 -1.89043916e-04\n",
      "  6.44811243e-03 -4.73737195e-02  1.34678336e-03 -1.47258714e-02\n",
      " -8.87125265e-04 -1.13577694e-02 -3.38129923e-02  1.77560076e-02\n",
      " -2.93101277e-02  6.31583482e-02  4.01329845e-02 -1.88711863e-02\n",
      "  6.88388851e-03 -2.38278676e-02  3.39570991e-03  4.97717150e-02\n",
      " -2.70587280e-02  6.40143305e-02 -3.48485820e-02  7.36268014e-02\n",
      " -1.16742263e-02  2.04503164e-02 -7.04949256e-03  1.45921316e-02\n",
      "  2.61045992e-02 -9.44908634e-02  2.56156009e-02  6.09346889e-02\n",
      "  2.54774150e-02 -7.79885333e-03  3.53241116e-02 -3.13673802e-02\n",
      " -4.29791957e-02  2.88445726e-02 -2.46684700e-02  1.01767844e-02\n",
      "  2.65741954e-03 -5.56155220e-02  3.85945849e-02 -1.87774543e-02\n",
      " -1.62391935e-03  3.46180052e-02 -1.72592234e-02 -3.08529101e-02\n",
      "  1.35644628e-02 -5.88328987e-02 -7.64247263e-03 -5.94398752e-02\n",
      "  3.35877156e-03  1.13056954e-02  3.42627801e-02 -2.04355698e-02\n",
      "  6.59084544e-02  5.25158271e-02  1.78611372e-02 -1.43136410e-02\n",
      "  4.53373417e-04  3.37311737e-02  1.85774677e-02  5.79336062e-02\n",
      "  6.11353181e-02 -6.84837531e-03  4.71942201e-02 -3.17470124e-03\n",
      "  1.32998381e-34 -1.54228095e-04  8.40375852e-03  5.77598661e-02\n",
      " -1.34005444e-02 -3.17921527e-02 -3.35927643e-02  3.12884301e-02\n",
      "  5.54621704e-02 -4.22207610e-04  1.52468877e-02  3.16658802e-02] \n",
      "\n"
     ]
    }
   ],
   "source": [
    "print(f\"\"\"\n",
    "{type(embs)}\n",
    "hvor langt er selve embs: {len(embs)}\n",
    "hvor langt er et element: {len(embs[0])}\n",
    "hva er første element i embs: \n",
    "{embs[0]} \n",
    "\"\"\")"
   ]
  },
  {
   "cell_type": "code",
   "execution_count": 14,
   "metadata": {},
   "outputs": [
    {
     "data": {
      "text/html": [
       "<div>\n",
       "<style scoped>\n",
       "    .dataframe tbody tr th:only-of-type {\n",
       "        vertical-align: middle;\n",
       "    }\n",
       "\n",
       "    .dataframe tbody tr th {\n",
       "        vertical-align: top;\n",
       "    }\n",
       "\n",
       "    .dataframe thead th {\n",
       "        text-align: right;\n",
       "    }\n",
       "</style>\n",
       "<table border=\"1\" class=\"dataframe\">\n",
       "  <thead>\n",
       "    <tr style=\"text-align: right;\">\n",
       "      <th></th>\n",
       "      <th>title</th>\n",
       "      <th>title_clean</th>\n",
       "      <th>embs</th>\n",
       "    </tr>\n",
       "  </thead>\n",
       "  <tbody>\n",
       "    <tr>\n",
       "      <th>31639</th>\n",
       "      <td>Houston Rockets vs Minnesota Timberwolves - Full Game Highlights  | Game 3 | April 21, 2018 | NBA</td>\n",
       "      <td>houston rockets vs minnesota timberwolves  full game highlights   game 3  april 21 2018  nba</td>\n",
       "      <td>[-0.022688475, -0.008316655, 0.02428274, -0.012750511, 0.011136883, 0.017446442, -0.081727676, 0.018407008, -0.017931448, -0.015464917, -0.010435484, -0.019018805, 0.035570398, 0.050190315, 0.0682...</td>\n",
       "    </tr>\n",
       "    <tr>\n",
       "      <th>36033</th>\n",
       "      <td>WE GOT INTEL'S PROTOTYPE GRAPHICS CARD!!</td>\n",
       "      <td>we got intels prototype graphics card</td>\n",
       "      <td>[0.03667365, 0.015063113, -0.017930608, 0.031443328, -0.02084526, -0.01935764, 0.017878868, 0.07568726, -0.028062126, 0.022469163, 0.04301863, 0.019576399, 0.042497408, 0.07550257, 0.0020217155, -...</td>\n",
       "    </tr>\n",
       "    <tr>\n",
       "      <th>735</th>\n",
       "      <td>EARL GREY MACARONS- The Scran Line</td>\n",
       "      <td>earl grey macarons the scran line</td>\n",
       "      <td>[-0.0040706764, -0.014441631, -0.017189505, -0.007013595, -0.07196707, -0.0029409204, -0.042063713, -0.037196796, -0.019869322, 0.032365736, 0.057181276, 0.03180227, 0.0077950316, 0.06523984, -0.0...</td>\n",
       "    </tr>\n",
       "  </tbody>\n",
       "</table>\n",
       "</div>"
      ],
      "text/plain": [
       "                                                                                                   title  \\\n",
       "31639  Houston Rockets vs Minnesota Timberwolves - Full Game Highlights  | Game 3 | April 21, 2018 | NBA   \n",
       "36033                                                           WE GOT INTEL'S PROTOTYPE GRAPHICS CARD!!   \n",
       "735                                                                   EARL GREY MACARONS- The Scran Line   \n",
       "\n",
       "                                                                                        title_clean  \\\n",
       "31639  houston rockets vs minnesota timberwolves  full game highlights   game 3  april 21 2018  nba   \n",
       "36033                                                         we got intels prototype graphics card   \n",
       "735                                                               earl grey macarons the scran line   \n",
       "\n",
       "                                                                                                                                                                                                          embs  \n",
       "31639  [-0.022688475, -0.008316655, 0.02428274, -0.012750511, 0.011136883, 0.017446442, -0.081727676, 0.018407008, -0.017931448, -0.015464917, -0.010435484, -0.019018805, 0.035570398, 0.050190315, 0.0682...  \n",
       "36033  [0.03667365, 0.015063113, -0.017930608, 0.031443328, -0.02084526, -0.01935764, 0.017878868, 0.07568726, -0.028062126, 0.022469163, 0.04301863, 0.019576399, 0.042497408, 0.07550257, 0.0020217155, -...  \n",
       "735    [-0.0040706764, -0.014441631, -0.017189505, -0.007013595, -0.07196707, -0.0029409204, -0.042063713, -0.037196796, -0.019869322, 0.032365736, 0.057181276, 0.03180227, 0.0077950316, 0.06523984, -0.0...  "
      ]
     },
     "execution_count": 14,
     "metadata": {},
     "output_type": "execute_result"
    }
   ],
   "source": [
    "df[\"embs\"] = list(embs)\n",
    "\n",
    "df.head(3)"
   ]
  },
  {
   "cell_type": "markdown",
   "metadata": {},
   "source": [
    "## Dimensinality Reduction\n",
    "The code below does exactly what the heading says. As described above the embed variable is now transformed to a variable holding 756 dimentions which all is corresponding to each word in the title and to each other.\n",
    "\n",
    "For a computer this 756 dimention makes perfectly sense, but for the human eye and mind, we have to reduce the number of dimention to be able to read it. \n",
    "We're going from multiple dimentions to 2 dimentions. We create a umap variable. This variable is a class called UMAP. The class instantiates a umap-object with two parameters. Then we uses this objects function to \"fit_transform\" the variable embs and calls this new variable embs_2d.\n",
    "\n",
    "Fit_transform is a function that fit embs into an embedded space and returns that transformed output. \n",
    "In our case, it returns the embed in a 2_dimentional display. \n",
    "\n",
    "At the end we're plotting the result to show how the embeddings are when dimensionality reduction is used. But when we're looking at this plot it does not provide us the desired information.\n",
    "Where are the groups, where are the outlier? Is it possible to see it?\n",
    "\n",
    "At the end we're also plotting some different information to get a better understanding of how the transformation works."
   ]
  },
  {
   "cell_type": "code",
   "execution_count": 15,
   "metadata": {},
   "outputs": [
    {
     "data": {
      "application/vnd.plotly.v1+json": {
       "config": {
        "plotlyServerURL": "https://plot.ly"
       },
       "data": [
        {
         "hovertemplate": "x=%{x}<br>y=%{y}<extra></extra>",
         "legendgroup": "",
         "marker": {
          "color": "#636efa",
          "size": 2,
          "symbol": "circle"
         },
         "mode": "markers",
         "name": "",
         "showlegend": false,
         "type": "scattergl",
         "x": [
          16.30942153930664,
          11.877312660217285,
          11.217424392700195,
          12.538542747497559,
          15.71178913116455,
          15.967887878417969,
          15.408501625061035,
          15.279784202575684,
          11.363152503967285,
          13.563409805297852,
          17.343374252319336,
          15.446209907531738,
          11.68049144744873,
          11.005865097045898,
          18.453296661376953,
          17.916601181030273,
          15.286535263061523,
          12.839509010314941,
          16.848064422607422,
          18.256486892700195,
          16.25497817993164,
          13.016502380371094,
          11.86681842803955,
          14.39008617401123,
          13.915759086608887,
          15.319611549377441,
          11.249953269958496,
          12.68203067779541,
          17.99024772644043,
          10.580410957336426,
          18.589561462402344,
          12.648356437683105,
          11.568243980407715,
          17.7642879486084,
          11.085987091064453,
          12.801981925964355,
          14.152064323425293,
          11.187677383422852,
          18.251422882080078,
          13.490242004394531,
          11.828593254089355,
          16.5101375579834,
          15.342330932617188,
          17.926713943481445,
          12.680636405944824,
          17.9544677734375,
          12.291900634765625,
          14.810808181762695,
          13.15363597869873,
          11.178282737731934,
          12.298851013183594,
          13.752614974975586,
          12.292194366455078,
          13.854520797729492,
          13.420465469360352,
          12.10693073272705,
          14.205410957336426,
          18.04555320739746,
          14.26183795928955,
          12.088876724243164,
          14.529759407043457,
          13.69666576385498,
          18.630422592163086,
          13.42929744720459,
          13.310907363891602,
          11.750521659851074,
          14.564635276794434,
          12.624824523925781,
          17.284961700439453,
          13.390287399291992,
          13.268309593200684,
          17.531579971313477,
          15.218024253845215,
          15.279236793518066,
          13.774981498718262,
          10.906949043273926,
          12.47862720489502,
          11.466910362243652,
          11.549415588378906,
          13.847264289855957,
          15.5134859085083,
          16.756145477294922,
          10.81149673461914,
          18.494604110717773,
          12.932019233703613,
          15.430009841918945,
          13.541407585144043,
          13.944280624389648,
          15.71163272857666,
          15.104779243469238,
          13.83707046508789,
          11.70715045928955,
          17.32627296447754,
          10.880278587341309,
          12.676761627197266,
          13.571653366088867,
          18.425479888916016,
          12.243094444274902,
          13.6653470993042,
          11.935439109802246,
          13.47354507446289,
          18.07477569580078,
          11.703790664672852,
          14.25042724609375,
          12.510159492492676,
          13.48311996459961,
          12.371902465820312,
          14.793462753295898,
          11.177507400512695,
          15.443411827087402,
          15.037742614746094,
          13.335634231567383,
          16.084077835083008,
          13.455705642700195,
          15.481130599975586,
          14.10356330871582,
          12.938070297241211,
          18.295942306518555,
          11.906661987304688,
          10.978239059448242,
          16.8707218170166,
          12.83600902557373,
          15.637432098388672,
          14.22170639038086,
          14.192901611328125,
          14.115267753601074,
          14.217158317565918,
          12.870966911315918,
          15.135120391845703,
          13.846689224243164,
          13.14197063446045,
          10.705620765686035,
          13.035748481750488,
          10.613114356994629,
          15.876895904541016,
          13.273124694824219,
          14.584388732910156,
          15.113011360168457,
          11.656295776367188,
          13.362531661987305,
          11.321769714355469,
          12.437220573425293,
          15.945164680480957,
          12.75406551361084,
          13.301483154296875,
          16.397598266601562,
          16.289587020874023,
          12.731931686401367,
          14.845527648925781,
          12.791674613952637,
          14.16623592376709,
          11.724705696105957,
          13.242330551147461,
          15.815524101257324,
          12.303509712219238,
          18.479787826538086,
          15.852696418762207,
          13.164158821105957,
          17.99846649169922,
          12.915182113647461,
          14.489701271057129,
          17.990615844726562,
          14.354130744934082,
          16.406566619873047,
          12.453784942626953,
          17.973779678344727,
          16.832895278930664,
          11.917977333068848,
          11.964502334594727,
          13.171293258666992,
          12.869873046875,
          13.534716606140137,
          11.946317672729492,
          15.511879920959473,
          15.576918601989746,
          14.985458374023438,
          13.571261405944824,
          12.549210548400879,
          15.071883201599121,
          11.060187339782715,
          12.912015914916992,
          12.821885108947754,
          10.8353271484375,
          12.055832862854004,
          13.111207008361816,
          11.427105903625488,
          16.667470932006836,
          18.123262405395508,
          14.025691032409668,
          13.133916854858398,
          14.521614074707031,
          13.649765014648438,
          13.59221363067627,
          16.93288230895996,
          15.115710258483887,
          13.40012264251709,
          13.992995262145996,
          13.941214561462402,
          11.938081741333008,
          16.483867645263672,
          11.642818450927734,
          14.545332908630371,
          17.405168533325195,
          11.310331344604492,
          15.533896446228027,
          14.591083526611328,
          12.873200416564941,
          16.419687271118164,
          13.99008560180664,
          13.962431907653809,
          12.840222358703613,
          12.77298355102539,
          16.219810485839844,
          11.207677841186523,
          13.06383228302002,
          16.83289337158203,
          12.456727981567383,
          11.098094940185547,
          15.853303909301758,
          13.658671379089355,
          14.37553596496582,
          17.919397354125977,
          12.81525993347168,
          13.649453163146973,
          12.126477241516113,
          10.981795310974121,
          14.049962043762207,
          14.023894309997559,
          13.777329444885254,
          16.230043411254883,
          11.487817764282227,
          12.652997970581055,
          14.390290260314941,
          13.997366905212402,
          15.70197582244873,
          10.867012023925781,
          11.625370979309082,
          15.835286140441895,
          10.586627006530762,
          13.55009651184082,
          15.810187339782715,
          15.620640754699707,
          12.373920440673828,
          15.281964302062988,
          16.63831901550293,
          11.59593391418457,
          18.31584358215332,
          10.754576683044434,
          12.953794479370117,
          13.692523956298828,
          11.09329891204834,
          12.025983810424805,
          15.554644584655762,
          13.632502555847168,
          14.078042030334473,
          12.24100112915039,
          11.152934074401855,
          10.886496543884277,
          15.652840614318848,
          16.85901641845703,
          13.340047836303711,
          15.657838821411133,
          15.200664520263672,
          13.100571632385254,
          10.589841842651367,
          15.258761405944824,
          14.997209548950195,
          16.276315689086914,
          12.783604621887207,
          15.228888511657715,
          11.005718231201172,
          14.08259105682373,
          14.708667755126953,
          13.205726623535156,
          11.769492149353027,
          12.39061450958252,
          11.277552604675293,
          15.208134651184082,
          14.92971134185791,
          11.41527271270752,
          11.802403450012207,
          12.583688735961914,
          12.960705757141113,
          11.675883293151855,
          15.455486297607422,
          14.194795608520508,
          14.301299095153809,
          11.013195991516113,
          13.738452911376953,
          12.668191909790039,
          13.939300537109375,
          17.976558685302734,
          14.522923469543457,
          15.467562675476074,
          11.534748077392578,
          14.015244483947754,
          13.829484939575195,
          12.53856372833252,
          11.557927131652832,
          15.122352600097656,
          17.090373992919922,
          15.033888816833496,
          11.990744590759277,
          15.149503707885742,
          15.510239601135254,
          11.774347305297852,
          14.789305686950684,
          17.22815704345703,
          16.646194458007812,
          13.894543647766113,
          13.600519180297852,
          11.852750778198242,
          16.29921531677246,
          15.59453296661377,
          13.26131820678711,
          14.563774108886719,
          14.193351745605469,
          12.695781707763672,
          12.720720291137695,
          13.878617286682129,
          14.076516151428223,
          11.234718322753906,
          13.885088920593262,
          17.69285774230957,
          13.358805656433105,
          13.815415382385254,
          13.055760383605957,
          12.734756469726562,
          16.881175994873047,
          10.706106185913086,
          15.690519332885742,
          11.715892791748047,
          13.712030410766602,
          15.251934051513672,
          13.452869415283203,
          11.604686737060547,
          15.890955924987793,
          14.24933910369873,
          13.360403060913086,
          12.310677528381348,
          17.633636474609375,
          11.249990463256836,
          13.036702156066895,
          15.688935279846191,
          12.301478385925293,
          15.125709533691406,
          13.217314720153809,
          18.151573181152344,
          15.81946086883545,
          13.807405471801758,
          14.448307991027832,
          11.044649124145508,
          12.630002975463867,
          14.191980361938477,
          13.04572582244873,
          13.576379776000977,
          14.01241397857666,
          15.992937088012695,
          13.068138122558594,
          14.325063705444336,
          15.407368659973145,
          16.06429100036621,
          14.52109432220459,
          16.688430786132812,
          13.297981262207031,
          11.38451099395752,
          11.846376419067383,
          16.238771438598633,
          13.925228118896484,
          15.115914344787598,
          11.30894947052002,
          11.087328910827637,
          14.0729341506958,
          13.46827220916748,
          15.578496932983398,
          13.843036651611328,
          13.621947288513184,
          12.020862579345703,
          14.127108573913574,
          17.024141311645508,
          17.98422622680664,
          14.328208923339844,
          14.497367858886719,
          14.328144073486328,
          17.8670597076416,
          15.638023376464844,
          18.56464385986328,
          18.268478393554688,
          12.852078437805176,
          14.225513458251953,
          14.602383613586426,
          11.778655052185059,
          18.01533317565918,
          13.1669282913208,
          11.400479316711426,
          15.220817565917969,
          17.22585105895996,
          13.492311477661133,
          11.52360725402832,
          15.35603141784668,
          16.099821090698242,
          11.565083503723145,
          17.265522003173828,
          14.037607192993164,
          13.24351978302002,
          12.778824806213379,
          10.926671981811523,
          15.332744598388672,
          17.696754455566406,
          14.030770301818848,
          14.381439208984375,
          18.296937942504883,
          15.163877487182617,
          15.172711372375488,
          11.668299674987793,
          11.904634475708008,
          10.751832962036133,
          11.63631820678711,
          14.67431640625,
          12.324687957763672,
          16.84430503845215,
          11.38851547241211,
          13.973840713500977,
          14.037891387939453,
          13.647480964660645,
          17.91794204711914,
          11.406486511230469,
          11.389490127563477,
          14.201271057128906,
          13.213735580444336,
          13.925030708312988,
          13.562503814697266,
          11.3760404586792,
          17.25564956665039,
          17.056310653686523,
          17.162092208862305,
          12.46980094909668,
          12.155030250549316,
          12.834324836730957,
          14.721040725708008,
          13.433785438537598,
          16.810007095336914,
          11.204737663269043,
          18.36689567565918,
          11.97732925415039,
          11.385822296142578,
          17.87745475769043,
          16.622316360473633,
          13.366835594177246,
          14.230292320251465,
          11.539996147155762,
          13.515417098999023,
          15.078446388244629,
          15.084754943847656,
          14.005425453186035,
          12.498978614807129,
          15.437341690063477,
          16.331981658935547,
          10.518326759338379,
          16.8547420501709,
          13.667031288146973,
          13.252217292785645,
          17.330949783325195,
          13.724977493286133,
          14.788294792175293,
          11.228864669799805,
          15.634459495544434,
          14.787691116333008,
          11.741271018981934,
          15.265752792358398,
          13.646590232849121,
          16.031686782836914,
          18.156435012817383,
          13.456206321716309,
          17.946327209472656,
          11.38623046875,
          12.54650592803955,
          11.569740295410156,
          16.111886978149414,
          12.14609146118164,
          12.858233451843262,
          11.914122581481934,
          13.383291244506836,
          18.331369400024414,
          13.6624755859375,
          12.923290252685547,
          15.402135848999023,
          15.524677276611328,
          12.93681812286377,
          17.996936798095703,
          15.078082084655762,
          17.374496459960938,
          13.609757423400879,
          11.033026695251465,
          13.124685287475586,
          15.286867141723633,
          17.903635025024414,
          13.958144187927246,
          14.530502319335938,
          16.182876586914062,
          14.944923400878906,
          12.316508293151855,
          13.884833335876465,
          14.1614990234375,
          12.606149673461914,
          16.844770431518555,
          12.33578109741211,
          14.677734375,
          17.722030639648438,
          14.630476951599121,
          11.46460247039795,
          15.126779556274414,
          14.009151458740234,
          15.098759651184082,
          17.210262298583984,
          15.884720802307129,
          14.53152847290039,
          14.630518913269043,
          13.959663391113281,
          15.142069816589355,
          16.903167724609375,
          11.108587265014648,
          16.919706344604492,
          11.664580345153809,
          11.415780067443848,
          12.717951774597168,
          17.726530075073242,
          13.430157661437988,
          15.17680549621582,
          12.9392671585083,
          16.865644454956055,
          18.37494659423828,
          12.643230438232422,
          17.585559844970703,
          13.545952796936035,
          13.999479293823242,
          13.844775199890137,
          15.176901817321777,
          17.52047348022461,
          13.598958969116211,
          16.057125091552734,
          13.774691581726074,
          13.633970260620117,
          10.793542861938477,
          11.466170310974121,
          11.68575668334961,
          15.516359329223633,
          15.38845443725586,
          15.170804023742676,
          15.645967483520508,
          10.889848709106445,
          15.37859058380127,
          12.298064231872559,
          17.23831558227539,
          12.717829704284668,
          12.648538589477539,
          17.79840660095215,
          13.556004524230957,
          10.705955505371094,
          15.518853187561035,
          11.943756103515625,
          15.508888244628906,
          13.616288185119629,
          10.987196922302246,
          11.63691520690918,
          11.673189163208008,
          16.389083862304688,
          12.316678047180176,
          13.646641731262207,
          13.25097942352295,
          14.676064491271973,
          12.405868530273438,
          14.986189842224121,
          13.634626388549805,
          13.209207534790039,
          14.217154502868652,
          16.653329849243164,
          17.624696731567383,
          13.287402153015137,
          17.344663619995117,
          12.382787704467773,
          11.776333808898926,
          14.885807991027832,
          11.01081657409668,
          12.902355194091797,
          13.543554306030273,
          12.641280174255371,
          11.426485061645508,
          15.689074516296387,
          12.34813117980957,
          15.54684829711914,
          15.28261661529541,
          12.693925857543945,
          16.19281005859375,
          16.3901424407959,
          13.871541023254395,
          12.686088562011719,
          16.227293014526367,
          16.134279251098633,
          16.855192184448242,
          15.310527801513672,
          12.234702110290527,
          12.269510269165039,
          12.034002304077148,
          16.258615493774414,
          18.07096290588379,
          14.609397888183594,
          15.470816612243652,
          14.163511276245117,
          10.920541763305664,
          16.25205421447754,
          17.773893356323242,
          14.891298294067383,
          10.944483757019043,
          14.465497016906738,
          11.231565475463867,
          13.487279891967773,
          11.512311935424805,
          14.124171257019043,
          12.851879119873047,
          12.92013168334961,
          12.09327507019043,
          13.14483642578125,
          13.759307861328125,
          13.707864761352539,
          13.099942207336426,
          14.767324447631836,
          15.053167343139648,
          11.817413330078125,
          14.541462898254395,
          12.763106346130371,
          14.477092742919922,
          11.77673625946045,
          18.376497268676758,
          16.463476181030273,
          13.475479125976562,
          14.011138916015625,
          13.8445405960083,
          14.573908805847168,
          12.482041358947754,
          13.935148239135742,
          15.316734313964844,
          11.517858505249023,
          12.8616361618042,
          15.967531204223633,
          14.059572219848633,
          14.58377456665039,
          13.947745323181152,
          12.895145416259766,
          15.164328575134277,
          11.459071159362793,
          13.055164337158203,
          11.578782081604004,
          12.53248119354248,
          15.09865951538086,
          11.480655670166016,
          15.631230354309082,
          14.737103462219238,
          12.58529281616211,
          11.40764331817627,
          16.520355224609375,
          14.682122230529785,
          14.246115684509277,
          12.533121109008789,
          14.968284606933594,
          14.606637001037598,
          15.514642715454102,
          18.090333938598633,
          12.73425006866455,
          11.528437614440918,
          12.184560775756836,
          14.070231437683105,
          13.575461387634277,
          14.824472427368164,
          13.0912446975708,
          13.083763122558594,
          11.080009460449219,
          12.440225601196289,
          18.04148292541504,
          17.357624053955078,
          11.025214195251465,
          11.189041137695312,
          16.00079345703125,
          13.481032371520996,
          13.806525230407715,
          12.920022010803223,
          16.62486457824707,
          12.38044261932373,
          18.53891944885254,
          13.889260292053223,
          11.102338790893555,
          15.031440734863281,
          16.410696029663086,
          18.242591857910156,
          14.677812576293945,
          14.406580924987793,
          12.87865924835205,
          16.61975860595703,
          13.341075897216797,
          13.464314460754395,
          12.238178253173828,
          16.648374557495117,
          12.199991226196289,
          15.109155654907227,
          13.250272750854492,
          15.013163566589355,
          12.156394958496094,
          11.468047142028809,
          12.265748977661133,
          11.541656494140625,
          13.714873313903809,
          12.975221633911133,
          14.638347625732422,
          14.920762062072754,
          16.806421279907227,
          11.506508827209473,
          11.022346496582031,
          12.456016540527344,
          12.239514350891113,
          12.796086311340332,
          14.033794403076172,
          13.818656921386719,
          13.647909164428711,
          14.914912223815918,
          11.96801471710205,
          12.389554977416992,
          12.000460624694824,
          16.615385055541992,
          18.546184539794922,
          14.493146896362305,
          16.511625289916992,
          12.027974128723145,
          13.224810600280762,
          10.958932876586914,
          13.907027244567871,
          18.49501609802246,
          11.37893295288086,
          12.966181755065918,
          12.569931983947754,
          12.296112060546875,
          14.093490600585938,
          11.303617477416992,
          16.28978729248047,
          14.153651237487793,
          14.043061256408691,
          14.70741081237793,
          17.91698455810547,
          15.251628875732422,
          11.16417407989502,
          13.835271835327148,
          18.448375701904297,
          13.230813980102539,
          12.359884262084961,
          14.05040454864502,
          14.182250022888184,
          13.599387168884277,
          13.837980270385742,
          15.694793701171875,
          11.25247573852539,
          12.995501518249512,
          15.145889282226562,
          13.66433048248291,
          13.525928497314453,
          14.412836074829102,
          15.419001579284668,
          12.783796310424805,
          13.249835968017578,
          12.92364501953125,
          18.396135330200195,
          13.070965766906738,
          13.445603370666504,
          16.91132164001465,
          12.010642051696777,
          13.66085147857666,
          18.442115783691406,
          14.815569877624512,
          15.76198959350586,
          15.572591781616211,
          12.411079406738281,
          11.758794784545898,
          10.625194549560547,
          12.846076965332031,
          16.242908477783203,
          11.914580345153809,
          14.67418098449707,
          15.117729187011719,
          13.434438705444336,
          17.724769592285156,
          12.79393482208252,
          11.821249008178711,
          14.773481369018555,
          11.46686840057373,
          15.458988189697266,
          13.715326309204102,
          14.645553588867188,
          16.854793548583984,
          16.29024887084961,
          14.677108764648438,
          14.131155014038086,
          13.40073299407959,
          14.073101043701172,
          12.161785125732422,
          15.16920280456543,
          13.456168174743652,
          14.273371696472168,
          13.564592361450195,
          16.55441665649414,
          12.576626777648926,
          11.87629222869873,
          10.706680297851562,
          15.096993446350098,
          13.326800346374512,
          12.030169486999512,
          13.919922828674316,
          15.715160369873047,
          11.764345169067383,
          11.088738441467285,
          13.80585765838623,
          14.450440406799316,
          13.860441207885742,
          11.196412086486816,
          13.404218673706055,
          16.890710830688477,
          11.721349716186523,
          15.788975715637207,
          14.313817977905273,
          15.153779029846191,
          16.309967041015625,
          13.764775276184082,
          15.690685272216797,
          13.9202241897583,
          13.832335472106934,
          14.22889232635498,
          13.879111289978027,
          11.580259323120117,
          15.155776977539062,
          12.314691543579102,
          10.877002716064453,
          13.868791580200195,
          15.446928024291992,
          11.454007148742676,
          12.990941047668457,
          15.203143119812012,
          13.69159984588623,
          14.989143371582031,
          15.027017593383789,
          17.66714096069336,
          18.000690460205078,
          14.326745986938477,
          11.949637413024902,
          18.417808532714844,
          11.34544563293457,
          13.046451568603516,
          15.119243621826172,
          11.186476707458496,
          16.846452713012695,
          14.187917709350586,
          14.188569068908691,
          13.414520263671875,
          16.568389892578125,
          17.41176414489746,
          12.79116153717041,
          13.998284339904785,
          11.436758995056152,
          13.344000816345215,
          14.310665130615234,
          14.34528636932373,
          15.179828643798828,
          16.107446670532227,
          18.798095703125,
          11.005366325378418,
          17.89840316772461,
          13.435555458068848,
          13.641400337219238,
          13.644371032714844,
          13.240364074707031,
          14.83777141571045,
          13.56932544708252,
          18.317867279052734,
          15.155108451843262,
          14.548897743225098,
          11.434253692626953,
          16.766252517700195,
          14.18382453918457,
          13.562421798706055,
          13.040665626525879,
          12.729754447937012,
          15.616570472717285,
          14.492618560791016,
          13.64300537109375,
          13.3043212890625,
          11.01250171661377,
          13.936776161193848,
          11.918769836425781,
          14.079771041870117,
          12.754890441894531,
          13.079421997070312,
          12.808058738708496,
          15.740588188171387,
          15.640586853027344,
          14.025322914123535,
          14.325189590454102,
          15.648411750793457,
          14.57400894165039,
          12.991615295410156,
          15.236981391906738,
          15.009257316589355,
          13.286506652832031,
          17.68703269958496,
          16.286855697631836,
          12.955331802368164,
          15.138346672058105,
          12.782028198242188,
          12.860281944274902,
          14.698740005493164,
          18.370468139648438,
          11.151519775390625,
          16.882936477661133,
          11.750706672668457,
          13.806683540344238,
          15.060154914855957,
          14.11160945892334,
          11.664523124694824,
          11.217975616455078,
          12.537025451660156,
          11.62198543548584,
          15.65967082977295,
          15.628219604492188,
          17.431217193603516,
          18.146469116210938,
          17.833763122558594,
          12.997818946838379,
          11.903392791748047,
          16.061405181884766,
          13.83679485321045,
          12.349406242370605,
          15.000490188598633,
          13.018169403076172,
          17.1851806640625,
          13.064784049987793,
          13.65330696105957,
          13.845748901367188,
          13.820228576660156,
          12.280756950378418,
          11.405747413635254,
          17.22408103942871,
          17.902341842651367,
          15.528793334960938,
          14.789031028747559,
          12.855003356933594,
          10.963665008544922,
          14.865534782409668,
          14.32235050201416,
          13.506808280944824,
          15.956283569335938,
          13.86275863647461,
          14.585412979125977,
          15.09080696105957,
          14.272195816040039,
          18.123348236083984,
          15.882551193237305,
          14.369444847106934,
          18.003108978271484,
          11.323417663574219,
          14.41734790802002,
          12.669266700744629,
          15.884622573852539,
          11.352039337158203,
          15.182832717895508,
          13.616865158081055,
          11.29879379272461,
          11.99460506439209,
          18.368980407714844,
          17.645124435424805,
          12.11638355255127,
          12.853509902954102,
          15.682954788208008,
          14.039351463317871,
          14.862120628356934,
          13.250131607055664,
          12.888710021972656,
          14.269948959350586,
          15.639127731323242,
          15.176017761230469,
          15.039633750915527,
          12.44666576385498,
          17.49124526977539,
          12.25706672668457,
          13.553531646728516,
          17.750370025634766,
          12.339009284973145,
          15.405790328979492,
          14.226887702941895,
          15.027725219726562,
          15.00070858001709,
          13.981090545654297,
          11.421432495117188,
          17.981746673583984,
          17.969072341918945,
          15.482000350952148,
          13.781367301940918,
          14.031064987182617,
          15.96854019165039,
          16.386558532714844,
          13.188960075378418,
          12.110051155090332,
          14.616520881652832,
          16.760482788085938,
          16.634634017944336,
          12.909852027893066,
          13.049967765808105,
          15.54220199584961,
          12.28116226196289,
          12.386900901794434,
          18.321491241455078,
          11.502127647399902,
          14.469281196594238,
          13.590198516845703,
          14.198748588562012,
          15.132932662963867,
          17.895999908447266,
          16.778627395629883,
          15.303305625915527,
          13.389163970947266,
          17.11016082763672,
          12.854369163513184,
          16.509754180908203,
          11.049049377441406,
          13.924448013305664,
          13.979926109313965,
          11.512052536010742,
          11.85098648071289,
          17.399669647216797,
          11.248100280761719,
          16.235910415649414,
          16.674842834472656,
          11.663458824157715,
          13.27403450012207,
          13.164521217346191,
          15.06051254272461,
          11.415977478027344,
          13.919134140014648,
          11.448201179504395,
          13.238715171813965,
          11.199543952941895,
          13.446847915649414,
          13.480618476867676,
          12.079916000366211,
          14.558445930480957,
          14.17180061340332,
          15.576071739196777,
          13.475180625915527,
          11.864529609680176,
          15.774850845336914,
          12.132617950439453,
          11.24734878540039,
          13.295228004455566,
          13.671563148498535,
          16.985088348388672,
          15.19494342803955,
          14.606437683105469,
          12.938732147216797,
          14.414447784423828,
          15.405641555786133,
          13.162681579589844,
          13.957137107849121,
          12.413857460021973,
          12.708698272705078,
          11.931646347045898,
          11.978107452392578,
          11.858318328857422,
          14.07649040222168,
          13.418357849121094,
          14.697661399841309,
          12.089695930480957,
          14.009051322937012,
          14.496219635009766,
          14.155065536499023,
          10.774675369262695,
          13.808432579040527,
          11.3533296585083,
          15.610084533691406,
          13.634026527404785,
          14.010881423950195,
          13.230077743530273,
          15.315171241760254,
          12.861727714538574,
          11.044795989990234,
          11.15951919555664,
          15.203277587890625,
          13.00696849822998,
          15.183218002319336,
          12.614692687988281,
          12.320823669433594,
          15.821273803710938,
          14.673797607421875,
          13.385503768920898,
          10.912903785705566,
          11.529414176940918,
          14.861562728881836,
          15.605440139770508,
          13.734832763671875,
          12.327352523803711,
          12.94412899017334,
          16.68012809753418,
          13.354174613952637,
          15.01992416381836,
          12.471060752868652,
          13.176539421081543,
          16.288959503173828,
          13.701825141906738,
          13.032404899597168,
          18.39259147644043,
          11.720333099365234,
          13.605573654174805,
          13.106776237487793,
          14.500109672546387,
          12.233545303344727,
          15.055558204650879,
          15.09160327911377,
          13.960089683532715,
          16.793834686279297,
          11.562963485717773,
          10.999428749084473,
          14.448001861572266,
          16.196239471435547,
          16.09797477722168,
          15.212000846862793,
          13.340715408325195,
          15.008304595947266,
          12.705601692199707,
          13.368618965148926,
          12.797260284423828,
          11.366612434387207,
          13.402372360229492,
          11.800957679748535,
          14.184820175170898,
          13.591670989990234,
          15.626338958740234,
          11.082923889160156,
          12.925901412963867,
          13.301477432250977,
          16.208969116210938,
          11.123848915100098,
          15.497886657714844,
          11.039730072021484,
          16.20876121520996,
          11.00361442565918,
          14.99705696105957,
          12.4422025680542,
          13.645560264587402,
          18.027576446533203,
          13.49720573425293,
          12.15099048614502,
          12.310297012329102,
          11.90358829498291,
          17.076889038085938,
          12.550293922424316,
          13.338845252990723,
          13.414690971374512,
          18.337833404541016,
          12.495011329650879,
          14.00264835357666,
          16.88812828063965,
          10.769017219543457,
          15.430453300476074,
          13.993437767028809,
          12.695028305053711,
          18.272947311401367,
          11.884339332580566,
          15.003182411193848,
          15.806782722473145,
          11.96409797668457,
          13.821320533752441,
          12.63249397277832,
          15.264671325683594,
          13.407196044921875,
          11.251456260681152,
          17.74552345275879,
          15.548714637756348,
          16.06907081604004,
          15.32886028289795,
          13.28255558013916,
          13.444849967956543,
          11.31262493133545,
          13.314119338989258,
          16.307661056518555,
          16.461973190307617,
          12.617846488952637,
          18.25786590576172,
          13.230788230895996,
          16.247283935546875,
          11.426097869873047,
          12.802817344665527,
          11.48991584777832,
          18.183805465698242,
          13.407651901245117,
          11.862691879272461,
          14.643769264221191,
          14.485949516296387,
          13.768301963806152,
          15.04687213897705,
          15.510468482971191,
          15.059109687805176,
          13.90568733215332,
          14.144442558288574,
          11.152299880981445,
          14.275786399841309,
          12.826751708984375,
          13.657631874084473,
          13.453699111938477,
          16.173107147216797,
          14.734395027160645,
          16.001726150512695,
          13.976020812988281,
          13.264716148376465,
          11.34136962890625,
          18.786457061767578,
          13.350299835205078,
          15.208166122436523,
          13.35982608795166,
          16.7785701751709,
          12.026589393615723,
          13.832257270812988,
          15.96076774597168,
          18.24172019958496,
          16.16598129272461,
          12.782312393188477,
          16.864694595336914,
          12.745911598205566,
          13.35269832611084,
          18.076173782348633,
          14.482733726501465,
          13.831762313842773,
          11.421316146850586,
          11.039502143859863,
          12.853381156921387,
          13.642794609069824,
          11.846755027770996,
          14.07732105255127,
          15.92383861541748,
          18.331045150756836,
          13.64997673034668,
          14.438921928405762,
          13.60859489440918,
          13.444643020629883,
          15.309675216674805,
          15.55837345123291,
          15.493680000305176,
          16.275293350219727,
          15.66484546661377,
          13.533843040466309,
          11.164093971252441,
          15.460862159729004,
          13.66030502319336,
          17.129953384399414,
          18.04676055908203,
          13.405024528503418,
          15.683063507080078,
          15.266668319702148,
          13.746000289916992,
          11.389934539794922,
          14.133352279663086,
          15.180270195007324,
          11.55877685546875,
          13.543905258178711,
          11.620267868041992,
          14.533909797668457,
          11.230401992797852,
          14.551283836364746,
          17.364795684814453,
          15.06259822845459,
          12.15605354309082,
          16.196834564208984,
          14.207930564880371,
          11.787521362304688,
          12.247922897338867,
          13.052108764648438,
          12.922260284423828,
          15.522721290588379,
          17.36808967590332,
          15.564559936523438,
          14.880780220031738,
          13.38347053527832,
          13.029257774353027,
          17.28258514404297,
          13.926115036010742,
          15.217682838439941,
          12.831686973571777,
          11.58767032623291,
          11.076126098632812,
          13.081222534179688,
          17.11127281188965,
          11.482544898986816,
          13.16373348236084,
          12.825393676757812,
          13.84583568572998,
          12.413446426391602,
          14.308146476745605,
          15.375423431396484,
          16.204395294189453,
          13.598614692687988,
          13.43620777130127,
          13.28332233428955,
          14.542974472045898,
          15.534224510192871,
          13.535383224487305,
          15.475668907165527,
          12.983461380004883,
          13.803759574890137,
          14.788013458251953,
          14.684650421142578,
          11.53749942779541,
          11.034529685974121,
          16.059505462646484,
          14.09288501739502,
          11.00212287902832,
          11.1585693359375,
          17.705652236938477,
          14.5062894821167,
          15.193872451782227,
          12.83275318145752,
          11.063627243041992,
          15.327059745788574,
          13.176003456115723,
          11.22970199584961,
          13.910223960876465,
          13.01956558227539,
          14.062077522277832,
          11.474742889404297,
          17.996593475341797,
          15.098689079284668,
          15.473313331604004,
          13.274057388305664,
          15.854864120483398,
          13.616302490234375,
          12.111204147338867,
          15.678669929504395,
          12.823569297790527,
          14.941258430480957,
          12.7549409866333,
          11.958246231079102,
          13.985472679138184,
          11.496755599975586,
          12.683266639709473,
          15.145650863647461,
          11.486774444580078,
          15.526856422424316,
          14.390408515930176,
          15.23554801940918,
          14.22388744354248,
          15.519139289855957,
          15.505446434020996,
          15.173338890075684,
          12.890413284301758,
          13.886908531188965,
          15.053075790405273,
          10.731657981872559,
          12.496859550476074,
          12.994882583618164,
          11.326248168945312,
          17.23082160949707,
          17.827421188354492,
          10.944304466247559,
          13.916168212890625,
          14.82226276397705,
          12.115538597106934,
          14.545377731323242,
          12.818882942199707,
          14.992207527160645,
          11.337136268615723,
          15.468445777893066,
          11.635027885437012,
          12.978477478027344,
          12.854461669921875,
          17.876792907714844,
          13.003552436828613,
          18.426143646240234,
          11.73310375213623,
          13.935368537902832,
          18.23881721496582,
          13.848564147949219,
          11.30965805053711,
          11.029436111450195,
          11.6096830368042,
          11.950231552124023,
          11.69597053527832,
          11.334977149963379,
          14.015548706054688,
          12.541926383972168,
          13.862324714660645,
          13.603157043457031,
          15.135849952697754,
          14.926609992980957,
          14.949104309082031,
          15.304008483886719,
          10.839925765991211,
          12.690764427185059,
          13.54043960571289,
          16.22163963317871,
          11.222251892089844,
          11.834832191467285,
          11.160431861877441,
          15.773103713989258,
          13.993643760681152,
          14.05883502960205,
          15.456067085266113,
          13.303811073303223,
          14.543609619140625,
          14.87608528137207,
          13.499199867248535,
          11.630620956420898,
          16.594070434570312,
          15.959575653076172,
          14.195869445800781,
          11.48243236541748,
          11.642110824584961,
          18.18474769592285,
          15.695779800415039,
          14.330342292785645,
          15.263158798217773,
          15.492646217346191,
          11.873946189880371,
          13.394125938415527,
          14.006793975830078,
          12.665197372436523,
          13.040876388549805,
          13.466697692871094,
          16.807861328125,
          11.902020454406738,
          16.738147735595703,
          17.60948371887207,
          13.750690460205078,
          17.29897689819336,
          16.190631866455078,
          13.287774085998535,
          12.255866050720215,
          14.25081729888916,
          13.661050796508789,
          11.758569717407227,
          15.621858596801758,
          16.68759536743164,
          14.673818588256836,
          14.49237060546875,
          15.709383010864258,
          13.882782936096191,
          12.584391593933105,
          12.45318603515625,
          15.380664825439453,
          14.764168739318848,
          13.163785934448242,
          12.052566528320312,
          15.41037654876709,
          11.341965675354004,
          17.713459014892578,
          13.375564575195312,
          13.097238540649414,
          13.125894546508789,
          11.474306106567383,
          14.033720016479492,
          14.994678497314453,
          12.415223121643066,
          16.6634578704834,
          12.72379207611084,
          15.33201789855957,
          16.305334091186523,
          12.065842628479004,
          14.660355567932129,
          12.749218940734863,
          11.434468269348145,
          18.13673210144043,
          10.957527160644531,
          12.706135749816895,
          12.291295051574707,
          12.971087455749512,
          17.721582412719727,
          11.875670433044434,
          15.584620475769043,
          15.286048889160156,
          15.126228332519531,
          17.527528762817383,
          17.18243408203125,
          13.442471504211426,
          13.558870315551758,
          18.148937225341797,
          11.461009979248047,
          15.851981163024902,
          15.286738395690918,
          12.044332504272461,
          12.848137855529785,
          11.680856704711914,
          11.192435264587402,
          12.813953399658203,
          13.662004470825195,
          13.443474769592285,
          11.647194862365723,
          12.879024505615234,
          11.688241004943848,
          12.32024097442627,
          17.692867279052734,
          14.57223129272461,
          15.628806114196777,
          15.705711364746094,
          11.241954803466797,
          12.888195037841797,
          14.146943092346191,
          12.77118968963623,
          14.629110336303711,
          12.934377670288086,
          18.774885177612305,
          13.52250862121582,
          15.6603364944458,
          14.204981803894043,
          13.419862747192383,
          11.499367713928223,
          11.041781425476074,
          13.571091651916504,
          18.00920867919922,
          15.822266578674316,
          14.164137840270996,
          14.489553451538086,
          11.522241592407227,
          14.693524360656738,
          12.827651977539062,
          18.06692123413086,
          12.03427505493164,
          13.223153114318848,
          11.128935813903809,
          11.22473430633545,
          11.918880462646484,
          12.059371948242188,
          13.161916732788086,
          11.459728240966797,
          13.358004570007324,
          15.238886833190918,
          11.509492874145508,
          14.803680419921875,
          13.250357627868652,
          13.742813110351562,
          17.34963035583496,
          13.989190101623535,
          17.237464904785156,
          13.91563606262207,
          18.53470230102539,
          15.32354736328125,
          15.397356986999512,
          11.2789306640625,
          12.876843452453613,
          13.103276252746582,
          18.287872314453125,
          16.81499481201172,
          14.485047340393066,
          17.86875343322754,
          14.784286499023438,
          13.512930870056152,
          11.184199333190918,
          12.104047775268555,
          13.119821548461914,
          13.337235450744629,
          12.928682327270508,
          13.427435874938965,
          12.82448959350586,
          12.409351348876953,
          13.1871337890625,
          17.39101219177246,
          13.675642013549805,
          13.844029426574707,
          18.7659912109375,
          14.199048042297363,
          12.86359977722168,
          15.060555458068848,
          11.428059577941895,
          15.484213829040527,
          12.486933708190918,
          11.765519142150879,
          13.366649627685547,
          13.630953788757324,
          15.892465591430664,
          10.898932456970215,
          12.473827362060547,
          10.923900604248047,
          18.57858657836914,
          15.19237995147705,
          11.917915344238281,
          14.348987579345703,
          15.74806022644043,
          13.622974395751953,
          15.194436073303223,
          18.450021743774414,
          14.569145202636719,
          15.593140602111816,
          17.73986053466797,
          12.242974281311035,
          13.63701057434082,
          17.597740173339844,
          15.826022148132324,
          15.349039077758789,
          13.596197128295898,
          16.373498916625977,
          14.46538257598877,
          11.031867027282715,
          14.589370727539062,
          13.554089546203613,
          11.015046119689941,
          13.680344581604004,
          18.17438316345215,
          13.109923362731934,
          11.273538589477539,
          16.50241470336914,
          14.234031677246094,
          16.1800537109375,
          11.5543794631958,
          14.051806449890137,
          13.599797248840332,
          11.767788887023926,
          14.594636917114258,
          18.414127349853516,
          14.58945083618164,
          11.92902660369873,
          18.472482681274414,
          15.7153902053833,
          15.607002258300781,
          12.003252983093262,
          15.497506141662598,
          12.65046501159668,
          16.019296646118164,
          12.010357856750488,
          11.814116477966309,
          12.699161529541016,
          16.80650520324707,
          15.999139785766602,
          15.209017753601074,
          13.273138046264648,
          15.377120018005371,
          13.969176292419434,
          13.330851554870605,
          16.84210205078125,
          11.029378890991211,
          14.232929229736328,
          11.374739646911621,
          11.993714332580566,
          15.62275218963623,
          14.74689769744873,
          13.186988830566406,
          12.43300724029541,
          13.6763277053833,
          15.899024963378906,
          12.212411880493164,
          15.694798469543457,
          13.293695449829102,
          16.152494430541992,
          14.408219337463379,
          12.46760082244873,
          16.753440856933594,
          14.320000648498535,
          11.894937515258789,
          15.154608726501465,
          12.808223724365234,
          13.258894920349121,
          18.281475067138672,
          13.892130851745605,
          13.930536270141602,
          16.918540954589844,
          17.57408905029297,
          14.609131813049316,
          18.225723266601562,
          12.146066665649414,
          13.962907791137695,
          11.80176830291748,
          10.947114944458008,
          17.004438400268555,
          15.48234748840332,
          11.373095512390137,
          13.124238014221191,
          12.554679870605469,
          12.377824783325195,
          13.350908279418945,
          11.23803424835205,
          14.50783634185791,
          16.523141860961914,
          12.821756362915039,
          12.203758239746094,
          18.281896591186523,
          16.446748733520508,
          16.134136199951172,
          13.584793090820312,
          11.764662742614746,
          14.042137145996094,
          14.57619857788086,
          12.444171905517578,
          15.363166809082031,
          11.874711036682129,
          17.326871871948242,
          15.487666130065918,
          17.31561279296875,
          13.193058967590332,
          15.263575553894043,
          12.141016006469727,
          11.547477722167969,
          17.575651168823242,
          13.789680480957031,
          14.862061500549316,
          14.059691429138184,
          14.079874992370605,
          11.37457275390625,
          13.31728744506836,
          11.737079620361328,
          13.112407684326172,
          16.24718475341797,
          14.058586120605469,
          12.229735374450684,
          16.219146728515625,
          13.329971313476562,
          12.875778198242188,
          10.524328231811523,
          11.129545211791992,
          12.591923713684082,
          10.963888168334961,
          14.52426528930664,
          16.060304641723633,
          13.796884536743164,
          12.694969177246094,
          13.480066299438477,
          13.592839241027832,
          15.268243789672852,
          15.192270278930664,
          16.136030197143555,
          12.602452278137207,
          14.687141418457031,
          15.7291841506958,
          12.606093406677246,
          17.214595794677734,
          12.076644897460938,
          12.050520896911621,
          11.150455474853516,
          12.578776359558105,
          14.53487491607666,
          13.490626335144043,
          13.824380874633789,
          15.079805374145508,
          11.298632621765137,
          16.127674102783203,
          13.150896072387695,
          13.52188491821289,
          11.219261169433594,
          12.351361274719238,
          11.997727394104004,
          13.322197914123535,
          15.101335525512695,
          17.743131637573242,
          17.966693878173828,
          13.323265075683594,
          12.230023384094238,
          13.816699981689453,
          13.544929504394531,
          13.14962387084961,
          13.386759757995605,
          11.168780326843262,
          13.895462036132812,
          14.336176872253418,
          15.336806297302246,
          15.36852741241455,
          13.42116928100586,
          11.652610778808594,
          14.939530372619629,
          13.163596153259277,
          13.418628692626953,
          12.757782936096191,
          12.367267608642578,
          15.075177192687988,
          13.103243827819824,
          15.244260787963867,
          13.534723281860352,
          15.567291259765625,
          13.551676750183105,
          16.481420516967773,
          15.195472717285156,
          15.625468254089355,
          18.33709144592285,
          14.162703514099121,
          15.231477737426758,
          13.46039867401123,
          12.783400535583496,
          13.672394752502441,
          16.236248016357422,
          17.171188354492188,
          17.793415069580078,
          15.11512279510498,
          11.648347854614258,
          17.621549606323242,
          12.547099113464355,
          14.38746166229248,
          16.322813034057617,
          14.826384544372559,
          12.418045043945312,
          12.468843460083008,
          14.14824390411377,
          17.478300094604492,
          15.271964073181152,
          13.434751510620117,
          14.174670219421387,
          14.209099769592285,
          13.008797645568848,
          17.585918426513672,
          14.307636260986328,
          18.344038009643555,
          12.232073783874512,
          11.572473526000977,
          14.602545738220215,
          14.721691131591797,
          14.182619094848633,
          14.988678932189941,
          15.443034172058105,
          16.76004409790039,
          12.740812301635742,
          12.262112617492676,
          11.841591835021973,
          14.621306419372559,
          14.904643058776855,
          17.45941734313965,
          10.707385063171387,
          14.298911094665527,
          12.77645206451416,
          12.931492805480957,
          13.478541374206543,
          11.645124435424805,
          13.515975952148438,
          14.07571029663086,
          14.40941047668457,
          12.995169639587402,
          17.276386260986328,
          13.15238094329834,
          12.605700492858887,
          17.33675765991211,
          15.895551681518555,
          11.794557571411133,
          13.92074966430664,
          13.408065795898438,
          15.348362922668457,
          15.298404693603516,
          14.82209587097168,
          10.947690963745117,
          12.983817100524902,
          15.626449584960938,
          15.877134323120117,
          17.30760955810547,
          12.807324409484863,
          10.929962158203125,
          14.697388648986816,
          16.17392349243164,
          17.79170036315918,
          17.70901107788086,
          14.921359062194824,
          13.213630676269531,
          15.609562873840332,
          18.360563278198242,
          14.296469688415527,
          13.188650131225586,
          12.296051025390625,
          12.65986156463623,
          15.115419387817383,
          11.035453796386719,
          11.066319465637207,
          10.958728790283203,
          11.40959358215332,
          16.621929168701172,
          13.565058708190918,
          15.42134952545166,
          15.175045013427734,
          11.541300773620605,
          13.891075134277344,
          17.496047973632812,
          15.340289115905762,
          14.338068008422852,
          14.642189025878906,
          12.494131088256836,
          13.90234088897705,
          15.001319885253906,
          13.261580467224121,
          15.057247161865234,
          13.718096733093262,
          16.4152774810791,
          15.415857315063477,
          15.0961275100708,
          12.495560646057129,
          16.09278106689453,
          13.77639102935791,
          14.674336433410645,
          11.349864959716797,
          12.205068588256836,
          16.874807357788086,
          15.193952560424805,
          13.980121612548828,
          14.042600631713867,
          10.963088989257812,
          11.808146476745605,
          16.684057235717773,
          16.37230110168457,
          12.723798751831055,
          12.799092292785645,
          15.507013320922852,
          13.675740242004395,
          14.942645072937012,
          14.616952896118164,
          13.324734687805176,
          13.92332649230957,
          11.812707901000977,
          10.98769760131836,
          13.462474822998047,
          17.306636810302734,
          15.573259353637695,
          12.125944137573242,
          13.031209945678711,
          18.319204330444336,
          13.361871719360352,
          13.221717834472656,
          13.115042686462402,
          13.523707389831543,
          12.8506441116333,
          12.901084899902344,
          11.1842622756958,
          12.778273582458496,
          12.669983863830566,
          13.881842613220215,
          15.134031295776367,
          14.09968090057373,
          14.514347076416016,
          15.415794372558594,
          15.300700187683105,
          14.318099975585938,
          14.534610748291016,
          13.379799842834473,
          14.59554672241211,
          11.252762794494629,
          17.63106346130371,
          18.321640014648438,
          13.038111686706543,
          11.389551162719727,
          16.14920997619629,
          15.576708793640137,
          10.867429733276367,
          13.321309089660645,
          16.741863250732422,
          16.368484497070312,
          13.08084774017334,
          14.650022506713867,
          15.801056861877441,
          14.900568008422852,
          15.24051570892334,
          15.766130447387695,
          13.399988174438477,
          18.16986846923828,
          13.800225257873535,
          15.618003845214844,
          13.39978313446045,
          11.192243576049805,
          17.276851654052734,
          11.00162124633789,
          15.583630561828613,
          14.875614166259766,
          17.975173950195312,
          14.41038990020752,
          12.429837226867676,
          17.976089477539062,
          14.803349494934082,
          15.339253425598145,
          13.619622230529785,
          14.028264999389648,
          14.548625946044922,
          12.306995391845703,
          14.130703926086426,
          11.613668441772461,
          14.568053245544434,
          12.502870559692383,
          13.523900985717773,
          13.52565860748291,
          14.121268272399902,
          14.054709434509277,
          14.810701370239258,
          11.906593322753906,
          16.234203338623047,
          13.23595142364502,
          15.5001859664917,
          14.200331687927246,
          11.764458656311035,
          17.376623153686523,
          14.327780723571777,
          12.050629615783691,
          11.935772895812988,
          11.501291275024414,
          11.175466537475586,
          12.769773483276367,
          13.185285568237305,
          13.395869255065918,
          12.7836332321167,
          18.451066970825195,
          12.022926330566406,
          11.441492080688477,
          16.387720108032227,
          13.493391990661621,
          17.259929656982422,
          15.43791389465332,
          12.691195487976074,
          11.207208633422852,
          18.470630645751953,
          13.96288013458252,
          18.301956176757812,
          14.925843238830566,
          11.086880683898926,
          18.423479080200195,
          15.492659568786621,
          11.661715507507324,
          18.771759033203125,
          17.481657028198242,
          16.83585548400879,
          13.659293174743652,
          11.00367259979248,
          13.882543563842773,
          13.402359008789062,
          15.114544868469238,
          14.180577278137207,
          13.793268203735352,
          11.963537216186523,
          15.160844802856445,
          14.165407180786133,
          12.756227493286133,
          12.251850128173828,
          13.231963157653809,
          15.131547927856445,
          13.220955848693848,
          14.959354400634766,
          14.221043586730957,
          14.61405086517334,
          15.093390464782715,
          15.218420028686523,
          15.509503364562988,
          15.307456970214844,
          10.672107696533203,
          13.542457580566406,
          13.928925514221191,
          17.95953369140625,
          13.678038597106934,
          12.504241943359375,
          14.238397598266602,
          12.08355712890625,
          16.13201141357422,
          14.379705429077148
         ],
         "xaxis": "x",
         "y": [
          11.57730484008789,
          9.183829307556152,
          5.970569610595703,
          7.025052547454834,
          10.521783828735352,
          9.11075496673584,
          10.510664939880371,
          6.000087261199951,
          9.851109504699707,
          8.642156600952148,
          8.503488540649414,
          9.543424606323242,
          5.266886234283447,
          9.241616249084473,
          9.114206314086914,
          8.332252502441406,
          8.48682689666748,
          11.34427547454834,
          12.139541625976562,
          8.326409339904785,
          11.522802352905273,
          10.06682300567627,
          9.193159103393555,
          11.632794380187988,
          11.534382820129395,
          7.628028869628906,
          5.0856122970581055,
          10.340710639953613,
          9.534131050109863,
          7.176355838775635,
          8.971466064453125,
          12.332615852355957,
          5.496462345123291,
          8.581104278564453,
          6.0643839836120605,
          10.825243949890137,
          9.066494941711426,
          6.922867774963379,
          8.80579662322998,
          7.284987926483154,
          7.915891170501709,
          10.473649978637695,
          6.981489658355713,
          9.233717918395996,
          8.351472854614258,
          9.210798263549805,
          7.478514671325684,
          9.175071716308594,
          12.598162651062012,
          9.492424964904785,
          8.17668342590332,
          11.516871452331543,
          5.273721694946289,
          7.8471455574035645,
          12.261741638183594,
          7.287993907928467,
          6.23816442489624,
          8.385512351989746,
          12.519227981567383,
          8.46078872680664,
          9.911328315734863,
          9.286568641662598,
          8.959097862243652,
          6.737115383148193,
          11.064332962036133,
          9.191731452941895,
          9.940141677856445,
          8.362838745117188,
          8.136780738830566,
          8.33671760559082,
          10.16300106048584,
          8.201541900634766,
          8.571727752685547,
          6.418215751647949,
          13.093039512634277,
          9.39886474609375,
          7.983267307281494,
          10.371419906616211,
          5.757678985595703,
          9.578044891357422,
          10.271767616271973,
          7.797967910766602,
          9.471842765808105,
          8.879674911499023,
          7.95797061920166,
          6.966964244842529,
          12.995401382446289,
          13.02581787109375,
          10.338221549987793,
          8.075512886047363,
          7.003921985626221,
          8.031204223632812,
          8.305659294128418,
          7.953508377075195,
          10.861178398132324,
          13.045014381408691,
          9.526023864746094,
          11.453018188476562,
          10.146770477294922,
          6.41571569442749,
          11.733156204223633,
          8.697248458862305,
          5.005558967590332,
          12.310709953308105,
          7.749231338500977,
          6.9357476234436035,
          12.08535099029541,
          8.54435920715332,
          9.218145370483398,
          9.427206039428711,
          8.602107048034668,
          6.64612340927124,
          10.150162696838379,
          7.732921600341797,
          9.543863296508789,
          8.436847686767578,
          11.394214630126953,
          9.153252601623535,
          8.253702163696289,
          9.415985107421875,
          9.254064559936523,
          11.236441612243652,
          6.002945423126221,
          7.422123908996582,
          7.585485935211182,
          12.703104019165039,
          7.560904502868652,
          10.753963470458984,
          8.714863777160645,
          6.969573497772217,
          11.729092597961426,
          3.8384180068969727,
          7.909529209136963,
          7.179007530212402,
          10.089308738708496,
          11.885689735412598,
          12.085699081420898,
          5.562750339508057,
          8.41318130493164,
          8.226059913635254,
          9.52774715423584,
          7.1846699714660645,
          10.061660766601562,
          12.208109855651855,
          11.914063453674316,
          8.289732933044434,
          8.55836296081543,
          7.075066089630127,
          7.558154106140137,
          10.719146728515625,
          12.944575309753418,
          5.965380668640137,
          11.33757209777832,
          9.875653266906738,
          12.604607582092285,
          9.309776306152344,
          8.905475616455078,
          13.171442985534668,
          9.424019813537598,
          9.296127319335938,
          7.662413120269775,
          9.422989845275879,
          6.861668109893799,
          8.569201469421387,
          6.794373035430908,
          9.774107933044434,
          8.993440628051758,
          9.212780952453613,
          8.003175735473633,
          10.01376724243164,
          7.06703519821167,
          6.864197731018066,
          7.201672077178955,
          10.10387134552002,
          9.12800121307373,
          8.70504093170166,
          13.005292892456055,
          10.228018760681152,
          8.483654975891113,
          7.878958702087402,
          9.653766632080078,
          11.940369606018066,
          9.40904426574707,
          9.65449047088623,
          6.945396423339844,
          6.063869476318359,
          10.914270401000977,
          8.823469161987305,
          12.776786804199219,
          12.075615882873535,
          11.417811393737793,
          5.753451824188232,
          12.973103523254395,
          7.805225849151611,
          9.908945083618164,
          6.813657283782959,
          10.102212905883789,
          10.595465660095215,
          7.901415824890137,
          11.28012466430664,
          5.789946556091309,
          8.081518173217773,
          9.195591926574707,
          9.503421783447266,
          8.997292518615723,
          11.026124000549316,
          9.682148933410645,
          9.221844673156738,
          7.662802696228027,
          8.270957946777344,
          8.201996803283691,
          11.427465438842773,
          9.762733459472656,
          5.075870990753174,
          8.949286460876465,
          12.156526565551758,
          8.568918228149414,
          5.467421054840088,
          8.662505149841309,
          11.222244262695312,
          9.977436065673828,
          9.368805885314941,
          6.8119354248046875,
          6.299015522003174,
          7.455718040466309,
          5.081500053405762,
          7.236590385437012,
          7.966277122497559,
          12.783068656921387,
          9.81986141204834,
          5.708476543426514,
          6.7016472816467285,
          12.427456855773926,
          8.075081825256348,
          8.782587051391602,
          7.754331588745117,
          5.4744439125061035,
          9.333251953125,
          7.183166980743408,
          7.2240447998046875,
          8.92779541015625,
          9.130300521850586,
          9.564602851867676,
          11.588448524475098,
          11.995223045349121,
          8.945594787597656,
          8.764201164245605,
          6.705711364746094,
          7.446460247039795,
          13.413092613220215,
          8.223287582397461,
          9.694031715393066,
          10.143819808959961,
          12.853276252746582,
          12.852460861206055,
          6.279445648193359,
          5.726866722106934,
          9.422310829162598,
          10.481934547424316,
          7.8008575439453125,
          6.900869369506836,
          10.332013130187988,
          6.040703773498535,
          10.813216209411621,
          7.177820682525635,
          8.662936210632324,
          8.744378089904785,
          9.017290115356445,
          8.896642684936523,
          7.183388710021973,
          5.723280906677246,
          11.571227073669434,
          9.554633140563965,
          11.836860656738281,
          6.008636951446533,
          8.54410457611084,
          5.099456787109375,
          5.8689703941345215,
          8.051553726196289,
          8.50241470336914,
          5.787239074707031,
          8.124431610107422,
          9.051868438720703,
          8.719408988952637,
          7.142727851867676,
          7.367448806762695,
          12.371757507324219,
          8.244731903076172,
          13.448116302490234,
          7.523531436920166,
          6.549664497375488,
          9.848206520080566,
          9.8894681930542,
          8.665536880493164,
          8.528299331665039,
          13.212808609008789,
          10.971435546875,
          7.6023688316345215,
          8.565268516540527,
          6.467867374420166,
          7.865618705749512,
          9.926553726196289,
          5.67118501663208,
          6.576971054077148,
          6.658839225769043,
          6.816771030426025,
          11.096789360046387,
          8.15481948852539,
          12.007223129272461,
          10.851461410522461,
          11.924346923828125,
          7.297768592834473,
          9.153435707092285,
          6.461367607116699,
          12.961217880249023,
          7.1738762855529785,
          12.905020713806152,
          7.839407444000244,
          11.737409591674805,
          10.531167030334473,
          9.531538963317871,
          7.060980319976807,
          12.468031883239746,
          8.141454696655273,
          10.854615211486816,
          7.9456257820129395,
          7.407462120056152,
          11.439229011535645,
          8.853480339050293,
          3.8389976024627686,
          9.245945930480957,
          11.61751651763916,
          13.343997955322266,
          6.354207992553711,
          7.531314849853516,
          8.267821311950684,
          8.816431045532227,
          8.045439720153809,
          8.723878860473633,
          12.034859657287598,
          8.24507999420166,
          8.082819938659668,
          9.290595054626465,
          6.159844398498535,
          6.686351299285889,
          10.072343826293945,
          11.543540000915527,
          9.043255805969238,
          10.130590438842773,
          11.602997779846191,
          9.33368968963623,
          7.8678178787231445,
          8.507721900939941,
          9.647317886352539,
          8.007089614868164,
          8.652607917785645,
          10.079161643981934,
          8.925581932067871,
          8.080117225646973,
          11.629786491394043,
          8.706502914428711,
          9.731188774108887,
          9.228256225585938,
          12.015856742858887,
          12.893985748291016,
          9.9824800491333,
          7.648268699645996,
          9.798089027404785,
          11.267007827758789,
          6.672252655029297,
          6.940853595733643,
          5.670592308044434,
          7.576788425445557,
          12.992559432983398,
          6.197681903839111,
          12.204663276672363,
          12.516180992126465,
          11.615588188171387,
          10.431136131286621,
          9.110560417175293,
          9.270012855529785,
          11.564526557922363,
          8.818039894104004,
          11.545938491821289,
          9.821331024169922,
          10.542632102966309,
          8.924966812133789,
          9.193236351013184,
          6.694188594818115,
          8.879804611206055,
          11.970803260803223,
          10.03898811340332,
          9.834111213684082,
          13.245133399963379,
          5.502832889556885,
          7.443683624267578,
          10.266425132751465,
          12.488137245178223,
          5.324812412261963,
          10.12790584564209,
          8.020322799682617,
          5.375547885894775,
          8.455488204956055,
          8.4431791305542,
          12.145920753479004,
          9.526219367980957,
          7.903886795043945,
          10.794743537902832,
          9.160269737243652,
          7.981459617614746,
          12.064033508300781,
          8.719791412353516,
          8.486549377441406,
          5.848360061645508,
          7.24291467666626,
          6.385712146759033,
          6.707228660583496,
          8.674642562866211,
          11.058307647705078,
          12.608160972595215,
          9.250524520874023,
          5.4505534172058105,
          10.105690956115723,
          11.618221282958984,
          11.101273536682129,
          8.586254119873047,
          6.140050888061523,
          8.452089309692383,
          8.909924507141113,
          11.581012725830078,
          12.099783897399902,
          8.66515827178955,
          7.094322681427002,
          10.259719848632812,
          8.458765029907227,
          10.356608390808105,
          12.45832633972168,
          7.963380336761475,
          6.4430317878723145,
          8.077312469482422,
          12.584647178649902,
          9.215584754943848,
          6.921172618865967,
          9.525640487670898,
          8.553959846496582,
          8.449888229370117,
          8.66494369506836,
          11.087566375732422,
          8.057750701904297,
          10.968273162841797,
          7.687320232391357,
          11.902900695800781,
          10.08443546295166,
          5.923527240753174,
          6.875304222106934,
          6.443835258483887,
          10.58000659942627,
          9.594266891479492,
          7.177664756774902,
          12.15312671661377,
          9.361927032470703,
          12.95169448852539,
          10.316490173339844,
          8.843743324279785,
          10.70002555847168,
          6.2490057945251465,
          9.023512840270996,
          8.700666427612305,
          7.931302070617676,
          9.409132957458496,
          12.503904342651367,
          11.011941909790039,
          9.004072189331055,
          5.514053821563721,
          8.256632804870605,
          6.079890727996826,
          11.568625450134277,
          8.476336479187012,
          10.055351257324219,
          7.436690330505371,
          8.51388931274414,
          5.766073703765869,
          7.423163414001465,
          9.349347114562988,
          7.103735446929932,
          9.425710678100586,
          6.329893589019775,
          8.398690223693848,
          11.887909889221191,
          9.827289581298828,
          7.337329864501953,
          8.140508651733398,
          9.417105674743652,
          5.441440582275391,
          9.246556282043457,
          8.331185340881348,
          9.656335830688477,
          6.973448753356934,
          8.086920738220215,
          9.095113754272461,
          8.54538345336914,
          12.613975524902344,
          10.449084281921387,
          11.410021781921387,
          7.89027214050293,
          12.112570762634277,
          7.31430196762085,
          6.836632251739502,
          8.136157035827637,
          8.765305519104004,
          5.11441707611084,
          7.6740193367004395,
          8.307246208190918,
          9.879219055175781,
          8.36104679107666,
          8.31873893737793,
          9.886119842529297,
          12.306483268737793,
          13.114391326904297,
          10.386411666870117,
          8.257275581359863,
          9.379196166992188,
          8.371355056762695,
          11.643638610839844,
          5.6043806076049805,
          9.920683860778809,
          8.170379638671875,
          13.06447982788086,
          5.99757194519043,
          11.897480964660645,
          8.338371276855469,
          8.630758285522461,
          11.600448608398438,
          9.55362319946289,
          12.876229286193848,
          9.031254768371582,
          13.215564727783203,
          7.787303924560547,
          8.387508392333984,
          13.017036437988281,
          11.547491073608398,
          13.348761558532715,
          11.608051300048828,
          6.6621270179748535,
          10.155413627624512,
          5.926113128662109,
          9.678506851196289,
          10.141117095947266,
          8.758420944213867,
          10.132121086120605,
          7.759003162384033,
          7.863995552062988,
          7.261803150177002,
          8.634490966796875,
          11.689920425415039,
          10.870368957519531,
          8.186142921447754,
          8.647459983825684,
          3.836730718612671,
          6.182733535766602,
          8.745022773742676,
          7.9367194175720215,
          12.760473251342773,
          4.992568492889404,
          11.678820610046387,
          6.689579486846924,
          8.66348648071289,
          12.02818775177002,
          6.275128364562988,
          11.786905288696289,
          7.333754539489746,
          9.106520652770996,
          8.564739227294922,
          11.902754783630371,
          9.251395225524902,
          9.405734062194824,
          7.741410732269287,
          8.330192565917969,
          7.661672115325928,
          10.283554077148438,
          7.705441951751709,
          8.044163703918457,
          5.932878017425537,
          9.290472030639648,
          9.106815338134766,
          9.994309425354004,
          7.314627170562744,
          8.194875717163086,
          8.826909065246582,
          7.3919453620910645,
          6.857053279876709,
          6.894983291625977,
          6.106306076049805,
          11.308720588684082,
          11.440473556518555,
          9.636351585388184,
          7.791372776031494,
          11.421104431152344,
          9.098321914672852,
          9.294931411743164,
          8.360898971557617,
          12.68242073059082,
          8.858722686767578,
          11.615025520324707,
          11.513134956359863,
          9.161816596984863,
          6.6145429611206055,
          7.91240119934082,
          8.448966026306152,
          7.9334821701049805,
          8.577609062194824,
          9.865543365478516,
          11.009148597717285,
          4.987067699432373,
          6.5258588790893555,
          5.9686455726623535,
          5.4761152267456055,
          5.273926258087158,
          9.604324340820312,
          11.357049942016602,
          11.191099166870117,
          11.501763343811035,
          10.80675983428955,
          10.628408432006836,
          11.399901390075684,
          8.633279800415039,
          9.501270294189453,
          5.493865966796875,
          9.634337425231934,
          6.332109451293945,
          11.442293167114258,
          9.687792778015137,
          5.020179271697998,
          8.556760787963867,
          8.537667274475098,
          12.287077903747559,
          6.994229316711426,
          10.853313446044922,
          8.09235954284668,
          7.0628485679626465,
          11.274344444274902,
          11.601009368896484,
          6.4649553298950195,
          6.430260181427002,
          9.7537202835083,
          10.737258911132812,
          9.267077445983887,
          13.21635913848877,
          7.835188388824463,
          7.826478004455566,
          9.112523078918457,
          7.44854736328125,
          8.667611122131348,
          8.293431282043457,
          7.930282115936279,
          5.37084436416626,
          9.035444259643555,
          11.344571113586426,
          12.033236503601074,
          5.765481948852539,
          11.008260726928711,
          7.122745513916016,
          8.061999320983887,
          10.238336563110352,
          10.94572925567627,
          12.307757377624512,
          11.07951545715332,
          9.750049591064453,
          11.85810661315918,
          5.764500617980957,
          7.807708740234375,
          8.400856018066406,
          9.256412506103516,
          8.551932334899902,
          8.57339859008789,
          9.660386085510254,
          9.254733085632324,
          8.254600524902344,
          8.398652076721191,
          8.40327262878418,
          7.913390159606934,
          5.482827663421631,
          10.224006652832031,
          5.487163066864014,
          9.198309898376465,
          9.353326797485352,
          8.662482261657715,
          6.672469139099121,
          8.918658256530762,
          11.455689430236816,
          9.420928955078125,
          5.924134254455566,
          11.686049461364746,
          9.583917617797852,
          9.916701316833496,
          11.680171966552734,
          9.080175399780273,
          11.980447769165039,
          8.067527770996094,
          12.963778495788574,
          6.758863925933838,
          7.773100852966309,
          8.343117713928223,
          9.706741333007812,
          11.709169387817383,
          9.086063385009766,
          5.618983268737793,
          9.918697357177734,
          8.704389572143555,
          10.007452964782715,
          7.078852653503418,
          12.577773094177246,
          7.55800199508667,
          10.54353141784668,
          12.09951400756836,
          6.1228437423706055,
          7.139750003814697,
          11.737659454345703,
          5.248235702514648,
          7.3553900718688965,
          12.484058380126953,
          12.017339706420898,
          6.291191101074219,
          11.069872856140137,
          8.879598617553711,
          10.658099174499512,
          8.565766334533691,
          11.09424877166748,
          9.104470252990723,
          7.111114978790283,
          8.098267555236816,
          9.719204902648926,
          12.35839557647705,
          5.07883358001709,
          12.849860191345215,
          8.934717178344727,
          7.157657146453857,
          6.618296146392822,
          8.11159896850586,
          12.633881568908691,
          11.892090797424316,
          6.036628723144531,
          11.557056427001953,
          11.271208763122559,
          12.727583885192871,
          10.138528823852539,
          9.224440574645996,
          7.072460174560547,
          9.363842964172363,
          13.3546142578125,
          8.98595905303955,
          6.9942145347595215,
          8.880241394042969,
          7.4554762840271,
          12.768573760986328,
          6.391647815704346,
          9.902254104614258,
          6.11767053604126,
          6.463046073913574,
          11.472880363464355,
          6.854522705078125,
          13.282221794128418,
          12.925270080566406,
          10.004064559936523,
          7.978679656982422,
          8.093460083007812,
          7.966915607452393,
          13.298672676086426,
          9.113574981689453,
          8.581742286682129,
          13.243844032287598,
          10.646331787109375,
          8.300582885742188,
          13.363253593444824,
          9.229576110839844,
          11.063989639282227,
          9.174915313720703,
          6.702428817749023,
          6.619303226470947,
          7.9061970710754395,
          7.239752292633057,
          8.087068557739258,
          11.461835861206055,
          6.463699817657471,
          8.641294479370117,
          6.992622375488281,
          11.075648307800293,
          8.230910301208496,
          11.554929733276367,
          5.004046440124512,
          11.035445213317871,
          5.089005947113037,
          10.209565162658691,
          13.234307289123535,
          10.490249633789062,
          9.128087997436523,
          8.937268257141113,
          10.504281044006348,
          12.946650505065918,
          7.951401233673096,
          11.870275497436523,
          7.137629508972168,
          6.546657562255859,
          12.486527442932129,
          9.618949890136719,
          11.601407051086426,
          8.139884948730469,
          6.759525299072266,
          8.55121898651123,
          3.840364933013916,
          5.84993839263916,
          11.979122161865234,
          9.696929931640625,
          7.819196701049805,
          5.947725772857666,
          7.929048538208008,
          6.1177473068237305,
          13.347491264343262,
          8.520905494689941,
          7.458588600158691,
          4.962299823760986,
          11.876530647277832,
          9.205625534057617,
          8.145157814025879,
          10.812747955322266,
          10.27975082397461,
          5.993170261383057,
          8.69288158416748,
          10.661109924316406,
          6.317781925201416,
          6.486569881439209,
          11.400479316711426,
          12.357908248901367,
          13.258322715759277,
          7.006780624389648,
          8.375104904174805,
          9.293986320495605,
          7.842925071716309,
          10.8494291305542,
          8.087289810180664,
          10.03946304321289,
          9.821104049682617,
          8.579800605773926,
          7.0201826095581055,
          11.019174575805664,
          5.958933353424072,
          8.748600006103516,
          9.79422378540039,
          9.39830493927002,
          11.385412216186523,
          9.34790325164795,
          6.290829181671143,
          8.197300910949707,
          11.508237838745117,
          5.691013336181641,
          9.220830917358398,
          11.531031608581543,
          8.204399108886719,
          12.222742080688477,
          11.063982009887695,
          10.188210487365723,
          9.475834846496582,
          9.929346084594727,
          5.580463886260986,
          7.296426296234131,
          8.485275268554688,
          11.69406509399414,
          5.814542770385742,
          10.158527374267578,
          9.120769500732422,
          5.537609577178955,
          9.07434368133545,
          13.051046371459961,
          12.584559440612793,
          7.531493186950684,
          12.904988288879395,
          7.847414493560791,
          8.567275047302246,
          9.266181945800781,
          6.282295227050781,
          8.98978328704834,
          5.511270046234131,
          12.029580116271973,
          11.380168914794922,
          13.386090278625488,
          11.273045539855957,
          7.756107330322266,
          8.269400596618652,
          11.219511985778809,
          13.135515213012695,
          8.287582397460938,
          5.5655317306518555,
          7.829657554626465,
          7.233306884765625,
          8.947927474975586,
          8.85839557647705,
          9.893845558166504,
          12.382718086242676,
          8.94165325164795,
          6.04999303817749,
          8.265111923217773,
          11.331246376037598,
          10.226339340209961,
          10.865493774414062,
          12.09721851348877,
          8.885172843933105,
          5.785994529724121,
          6.566860198974609,
          8.237747192382812,
          10.992873191833496,
          9.620612144470215,
          6.738992691040039,
          13.338576316833496,
          7.060771942138672,
          7.582277297973633,
          9.053373336791992,
          5.68883752822876,
          9.812695503234863,
          6.984317302703857,
          11.917325019836426,
          9.061026573181152,
          7.830466270446777,
          5.806715965270996,
          8.070676803588867,
          7.539785385131836,
          11.668397903442383,
          6.115088939666748,
          6.914296627044678,
          9.020417213439941,
          8.36703872680664,
          8.448505401611328,
          9.812657356262207,
          6.330461502075195,
          8.650548934936523,
          12.464412689208984,
          7.417032241821289,
          5.936989784240723,
          11.21992301940918,
          10.126813888549805,
          7.51422643661499,
          12.426790237426758,
          6.973557949066162,
          13.393355369567871,
          9.042043685913086,
          5.870967388153076,
          8.663949966430664,
          8.875445365905762,
          6.225881099700928,
          10.637253761291504,
          11.521451950073242,
          5.096042156219482,
          7.497487545013428,
          12.371615409851074,
          11.865668296813965,
          10.197372436523438,
          8.400909423828125,
          6.824988842010498,
          9.860184669494629,
          12.069302558898926,
          8.989204406738281,
          10.058682441711426,
          11.977959632873535,
          9.771843910217285,
          7.063354015350342,
          11.707448959350586,
          10.425493240356445,
          11.354511260986328,
          9.93894100189209,
          9.701068878173828,
          12.58195686340332,
          5.175903797149658,
          11.597219467163086,
          9.5205078125,
          8.718842506408691,
          8.183806419372559,
          9.29894733428955,
          6.104477405548096,
          10.956050872802734,
          7.8197784423828125,
          11.794700622558594,
          11.873661041259766,
          12.370040893554688,
          10.520359992980957,
          10.048128128051758,
          7.658476829528809,
          7.245724201202393,
          8.194003105163574,
          7.680479049682617,
          11.733619689941406,
          8.111564636230469,
          12.066865921020508,
          10.512948989868164,
          8.182488441467285,
          6.682607650756836,
          9.21041488647461,
          11.184196472167969,
          7.129463195800781,
          9.269619941711426,
          9.777194023132324,
          9.209678649902344,
          13.309670448303223,
          12.103659629821777,
          8.65948486328125,
          8.261707305908203,
          12.360483169555664,
          9.2160005569458,
          12.304640769958496,
          11.06489372253418,
          11.103109359741211,
          10.447308540344238,
          7.5008625984191895,
          9.683692932128906,
          8.258489608764648,
          12.051545143127441,
          8.78465461730957,
          8.560616493225098,
          11.670171737670898,
          10.033166885375977,
          8.678078651428223,
          10.971960067749023,
          9.225037574768066,
          7.808830738067627,
          9.054332733154297,
          13.038129806518555,
          7.876286029815674,
          10.239373207092285,
          11.048519134521484,
          5.071602821350098,
          12.312036514282227,
          10.089055061340332,
          5.695625305175781,
          7.786853313446045,
          8.833550453186035,
          7.102488994598389,
          8.992105484008789,
          11.202163696289062,
          8.448162078857422,
          12.890209197998047,
          9.365731239318848,
          9.008200645446777,
          9.632635116577148,
          10.860906600952148,
          8.557884216308594,
          8.625982284545898,
          5.032533645629883,
          5.528257369995117,
          12.593368530273438,
          7.144428730010986,
          11.181317329406738,
          11.379375457763672,
          8.63047981262207,
          7.391213893890381,
          10.2034330368042,
          8.100878715515137,
          6.024660110473633,
          6.828775882720947,
          7.428877830505371,
          13.218777656555176,
          9.11911392211914,
          9.159759521484375,
          12.290363311767578,
          6.902935981750488,
          11.662495613098145,
          10.1885404586792,
          11.69346809387207,
          12.540104866027832,
          8.724470138549805,
          10.961666107177734,
          7.565670490264893,
          8.555177688598633,
          5.906701564788818,
          12.994232177734375,
          11.417498588562012,
          8.907089233398438,
          9.589719772338867,
          11.953046798706055,
          9.912446022033691,
          11.984702110290527,
          6.645346164703369,
          13.110770225524902,
          8.544873237609863,
          7.565689563751221,
          6.29298734664917,
          13.095890045166016,
          6.573204517364502,
          6.10603141784668,
          11.94276237487793,
          6.137949466705322,
          9.346512794494629,
          11.486700057983398,
          9.468825340270996,
          5.90056848526001,
          7.90446662902832,
          12.59666919708252,
          7.928839683532715,
          6.647132873535156,
          11.703475952148438,
          7.834606647491455,
          7.179206371307373,
          5.9266438484191895,
          6.2425127029418945,
          7.259040355682373,
          12.607032775878906,
          9.06766414642334,
          11.088011741638184,
          8.939455032348633,
          6.000843048095703,
          7.689638137817383,
          9.305670738220215,
          11.57168960571289,
          13.309500694274902,
          7.440539836883545,
          8.725786209106445,
          5.295279026031494,
          13.078190803527832,
          7.44234037399292,
          6.31757116317749,
          12.678043365478516,
          7.900381565093994,
          9.162081718444824,
          11.158527374267578,
          7.795870304107666,
          8.466232299804688,
          7.843564510345459,
          8.721662521362305,
          8.728575706481934,
          10.163376808166504,
          7.3821845054626465,
          7.615894317626953,
          9.182413101196289,
          10.332663536071777,
          12.552854537963867,
          11.007462501525879,
          5.697258472442627,
          11.746662139892578,
          7.877058029174805,
          9.291489601135254,
          6.937530994415283,
          9.012974739074707,
          5.476100921630859,
          9.723786354064941,
          7.798752307891846,
          10.052001953125,
          9.392632484436035,
          9.350628852844238,
          6.149117469787598,
          8.626056671142578,
          5.798137187957764,
          8.084421157836914,
          7.09591817855835,
          12.943272590637207,
          9.777498245239258,
          5.505311012268066,
          7.925848007202148,
          11.861760139465332,
          9.99604320526123,
          10.17090129852295,
          6.471869468688965,
          8.113540649414062,
          8.230169296264648,
          9.511567115783691,
          6.597808837890625,
          12.068093299865723,
          8.335306167602539,
          6.696986198425293,
          6.302844047546387,
          7.730716705322266,
          6.081521511077881,
          8.216198921203613,
          8.094036102294922,
          9.956185340881348,
          8.439091682434082,
          7.907581329345703,
          6.769194602966309,
          7.869843482971191,
          11.556105613708496,
          12.8640718460083,
          7.051255226135254,
          8.263044357299805,
          7.925218105316162,
          10.110128402709961,
          9.57498836517334,
          11.869534492492676,
          11.278019905090332,
          6.125455856323242,
          8.282890319824219,
          8.951570510864258,
          8.178812026977539,
          7.515233516693115,
          9.527929306030273,
          12.935934066772461,
          9.10922908782959,
          5.157098293304443,
          6.440768718719482,
          5.177679061889648,
          8.474143028259277,
          7.376229286193848,
          5.38606595993042,
          12.323081016540527,
          9.07324504852295,
          9.218122482299805,
          9.906842231750488,
          6.2515869140625,
          5.953428268432617,
          13.284100532531738,
          10.436701774597168,
          5.047696113586426,
          11.345696449279785,
          9.300643920898438,
          8.980203628540039,
          7.6100568771362305,
          9.204286575317383,
          11.401388168334961,
          9.717268943786621,
          12.872026443481445,
          12.782821655273438,
          8.041678428649902,
          9.11979866027832,
          9.215604782104492,
          8.212175369262695,
          10.287440299987793,
          8.338420867919922,
          8.319366455078125,
          13.291426658630371,
          9.753007888793945,
          9.40379810333252,
          11.305892944335938,
          11.397552490234375,
          12.168832778930664,
          11.828743934631348,
          10.550188064575195,
          9.034623146057129,
          9.325983047485352,
          8.447937965393066,
          7.99891471862793,
          8.287955284118652,
          11.367792129516602,
          9.253646850585938,
          5.451465606689453,
          11.434083938598633,
          9.502334594726562,
          9.460501670837402,
          13.23525333404541,
          8.045125007629395,
          7.681031703948975,
          12.45709228515625,
          6.408054828643799,
          8.258133888244629,
          8.046862602233887,
          11.50954532623291,
          6.942768573760986,
          12.679693222045898,
          5.948852062225342,
          10.918256759643555,
          12.351211547851562,
          10.234275817871094,
          9.487319946289062,
          11.925278663635254,
          9.983967781066895,
          11.502674102783203,
          12.746789932250977,
          5.620645046234131,
          7.759980201721191,
          6.750524520874023,
          5.501635551452637,
          12.510478973388672,
          5.8876872062683105,
          9.963987350463867,
          6.234335899353027,
          9.187223434448242,
          8.394697189331055,
          5.540820121765137,
          9.152132034301758,
          11.3861665725708,
          10.80121898651123,
          5.838549613952637,
          5.253411769866943,
          8.74544620513916,
          9.695870399475098,
          9.497611045837402,
          8.253710746765137,
          6.63272762298584,
          7.500129222869873,
          8.218243598937988,
          13.108724594116211,
          8.62778377532959,
          11.095179557800293,
          7.875361919403076,
          6.59229850769043,
          5.2921319007873535,
          8.409286499023438,
          7.483247756958008,
          8.970030784606934,
          10.037616729736328,
          10.823620796203613,
          9.976693153381348,
          9.841374397277832,
          10.700007438659668,
          10.442917823791504,
          9.139123916625977,
          10.032095909118652,
          12.6625394821167,
          8.705428123474121,
          8.085738182067871,
          6.602358341217041,
          9.563653945922852,
          6.8204755783081055,
          7.961659908294678,
          7.325338840484619,
          9.165074348449707,
          10.390602111816406,
          8.08266544342041,
          8.170086860656738,
          8.286540031433105,
          10.164254188537598,
          11.897250175476074,
          5.157466411590576,
          6.1457438468933105,
          8.406731605529785,
          9.374082565307617,
          7.853003978729248,
          9.426892280578613,
          6.135837554931641,
          10.901975631713867,
          12.772256851196289,
          9.13228988647461,
          6.707311153411865,
          8.015677452087402,
          13.0413236618042,
          5.344484329223633,
          9.789060592651367,
          9.211563110351562,
          6.538259029388428,
          13.085123062133789,
          8.677827835083008,
          13.218128204345703,
          6.774343013763428,
          6.1167216300964355,
          6.61120080947876,
          10.524425506591797,
          10.331957817077637,
          9.20216178894043,
          7.781684875488281,
          5.583943843841553,
          10.431034088134766,
          7.909236907958984,
          8.501139640808105,
          9.517234802246094,
          8.649389266967773,
          9.353741645812988,
          6.255033493041992,
          9.466591835021973,
          8.151226997375488,
          5.89052677154541,
          7.808335781097412,
          11.661966323852539,
          5.911736488342285,
          3.885098934173584,
          7.586442947387695,
          7.435760974884033,
          6.4335713386535645,
          10.290973663330078,
          8.252891540527344,
          7.798266887664795,
          12.008936882019043,
          8.564123153686523,
          9.645883560180664,
          8.75732707977295,
          7.308941841125488,
          10.156208038330078,
          9.925468444824219,
          10.942648887634277,
          6.689247131347656,
          9.192591667175293,
          9.648500442504883,
          8.876761436462402,
          10.92372989654541,
          8.71995735168457,
          5.169840335845947,
          12.02799129486084,
          9.235294342041016,
          13.215096473693848,
          5.724022388458252,
          7.923462867736816,
          8.343616485595703,
          5.4060444831848145,
          6.6386823654174805,
          9.95116901397705,
          7.585949897766113,
          8.386170387268066,
          12.806949615478516,
          10.668490409851074,
          11.163451194763184,
          8.139549255371094,
          8.126341819763184,
          11.575491905212402,
          9.428159713745117,
          10.402416229248047,
          8.623239517211914,
          9.996273040771484,
          9.499185562133789,
          5.31138801574707,
          6.719285488128662,
          8.749095916748047,
          10.116646766662598,
          13.12629222869873,
          10.229949951171875,
          12.975146293640137,
          12.031264305114746,
          7.732978343963623,
          5.479645729064941,
          11.693115234375,
          8.665124893188477,
          10.079405784606934,
          10.916206359863281,
          8.084288597106934,
          6.950372219085693,
          9.24531364440918,
          10.114537239074707,
          8.575424194335938,
          8.924151420593262,
          6.740311145782471,
          7.962003707885742,
          6.800079822540283,
          13.0438871383667,
          6.891421318054199,
          9.648538589477539,
          11.86180591583252,
          12.107928276062012,
          9.180267333984375,
          7.802867889404297,
          9.128589630126953,
          12.38873291015625,
          8.087729454040527,
          11.40866756439209,
          6.655442714691162,
          9.028905868530273,
          9.606681823730469,
          8.497748374938965,
          11.718494415283203,
          6.797873497009277,
          12.02043628692627,
          11.12580680847168,
          9.360404968261719,
          9.226639747619629,
          9.929306983947754,
          10.03492546081543,
          7.105904579162598,
          10.250997543334961,
          6.533533096313477,
          12.337488174438477,
          10.375236511230469,
          7.60179328918457,
          5.804828643798828,
          8.24239730834961,
          12.508613586425781,
          8.56486988067627,
          12.599740982055664,
          10.334955215454102,
          13.135631561279297,
          5.930975437164307,
          7.16448450088501,
          10.968879699707031,
          9.499249458312988,
          8.296483993530273,
          11.582189559936523,
          9.677237510681152,
          6.861151218414307,
          6.430794715881348,
          5.021739482879639,
          8.899622917175293,
          7.948890209197998,
          10.410659790039062,
          11.470870018005371,
          6.922271728515625,
          8.70036506652832,
          8.624439239501953,
          10.549833297729492,
          11.570195198059082,
          10.426897048950195,
          8.280759811401367,
          8.258476257324219,
          13.117362976074219,
          6.925981521606445,
          8.933820724487305,
          10.04263687133789,
          9.050959587097168,
          11.511923789978027,
          8.677703857421875,
          8.183676719665527,
          11.670536994934082,
          7.12855339050293,
          6.449706554412842,
          11.89710521697998,
          11.892584800720215,
          5.743154525756836,
          7.332571983337402,
          5.929666519165039,
          7.218908309936523,
          9.256827354431152,
          5.955375671386719,
          6.1129536628723145,
          9.383223533630371,
          7.061933517456055,
          12.42857837677002,
          9.944942474365234,
          11.932209014892578,
          7.2786736488342285,
          10.413516998291016,
          9.108938217163086,
          7.601675987243652,
          9.921895980834961,
          8.925304412841797,
          13.259392738342285,
          5.460984230041504,
          5.099287509918213,
          11.849699020385742,
          8.713252067565918,
          8.993475914001465,
          6.273036479949951,
          9.943488121032715,
          5.37855863571167,
          10.15180492401123,
          12.234773635864258,
          9.087615013122559,
          5.3292317390441895,
          10.238720893859863,
          9.266376495361328,
          6.186441421508789,
          10.186659812927246,
          10.251221656799316,
          11.06870174407959,
          10.07487678527832,
          13.232599258422852,
          5.961589813232422,
          5.413165092468262,
          5.934487342834473,
          9.82858943939209,
          10.21950912475586,
          8.171478271484375,
          8.43874740600586,
          8.610237121582031,
          12.667145729064941,
          8.890416145324707,
          8.789947509765625,
          8.807933807373047,
          7.120655536651611,
          13.33515739440918,
          12.645345687866211,
          8.579488754272461,
          10.86386775970459,
          9.462336540222168,
          9.701159477233887,
          8.106622695922852,
          13.103537559509277,
          6.056243896484375,
          5.886341571807861,
          7.276228427886963,
          10.108439445495605,
          12.469791412353516,
          6.794553279876709,
          10.619270324707031,
          7.485532283782959,
          9.249980926513672,
          8.590595245361328,
          9.002015113830566,
          9.885493278503418,
          9.105508804321289,
          10.571664810180664,
          11.150209426879883,
          5.924723148345947,
          10.034830093383789,
          7.525580883026123,
          6.043683052062988,
          5.875123500823975,
          11.042591094970703,
          8.082481384277344,
          10.1171875,
          7.817909240722656,
          7.467670440673828,
          9.414546966552734,
          8.958428382873535,
          6.155905246734619,
          9.179498672485352,
          10.928050994873047,
          9.83509635925293,
          10.024853706359863,
          7.479914665222168,
          9.325774192810059,
          12.04017448425293,
          6.33572244644165,
          9.261237144470215,
          5.244709014892578,
          7.657596111297607,
          8.121842384338379,
          9.700200080871582,
          10.748162269592285,
          11.223273277282715,
          9.489933013916016,
          11.767868995666504,
          6.176848411560059,
          12.346479415893555,
          8.561229705810547,
          7.175681114196777,
          11.523179054260254,
          9.06374740600586,
          12.65384578704834,
          7.158196926116943,
          8.219462394714355,
          9.474275588989258,
          11.296171188354492,
          5.244605541229248,
          11.648012161254883,
          6.9714460372924805,
          5.027828693389893,
          7.242247581481934,
          9.148686408996582,
          7.0422749519348145,
          5.9381208419799805,
          8.917713165283203,
          10.389225959777832,
          6.3456244468688965,
          10.222136497497559,
          6.4361677169799805,
          10.399876594543457,
          9.761177062988281,
          7.079576015472412,
          7.778307914733887,
          11.579564094543457,
          12.104581832885742,
          9.742103576660156,
          10.358905792236328,
          11.213979721069336,
          6.038337707519531,
          12.398636817932129,
          7.37987756729126,
          8.336536407470703,
          8.253149032592773,
          6.470503807067871,
          9.839875221252441,
          10.217182159423828,
          7.321047306060791,
          11.149476051330566,
          7.248957633972168,
          10.679910659790039,
          9.255967140197754,
          8.699614524841309,
          8.40098762512207,
          6.139852046966553,
          9.70115852355957,
          11.386636734008789,
          9.519509315490723,
          8.75574779510498,
          10.903079986572266,
          10.47131633758545,
          9.28535270690918,
          6.508399963378906,
          6.459773063659668,
          8.849740982055664,
          8.301942825317383,
          11.4360933303833,
          11.782146453857422,
          7.808659076690674,
          9.539118766784668,
          7.929701328277588,
          8.893052101135254,
          6.762571811676025,
          8.604401588439941,
          5.294369697570801,
          9.306196212768555,
          8.055574417114258,
          6.235537052154541,
          6.86775541305542,
          7.283124923706055,
          10.168364524841309,
          7.901689052581787,
          11.798476219177246,
          6.094628810882568,
          9.502418518066406,
          8.580310821533203,
          10.75696086883545,
          6.8495869636535645,
          8.326070785522461,
          8.691976547241211,
          10.055699348449707,
          8.196924209594727,
          5.0664801597595215,
          12.983362197875977,
          7.243406772613525,
          9.106721878051758,
          7.8177385330200195,
          8.624249458312988,
          8.577995300292969,
          6.289883613586426,
          8.724571228027344,
          6.534907341003418,
          11.53874397277832,
          9.635490417480469,
          9.135043144226074,
          9.0459566116333,
          13.329216003417969,
          11.050762176513672,
          8.805754661560059,
          6.270122051239014,
          6.175017833709717,
          8.05372428894043,
          7.559170246124268,
          7.453579425811768,
          11.021383285522461,
          8.991311073303223,
          8.283598899841309,
          11.437498092651367,
          10.145869255065918,
          9.417947769165039,
          7.2004923820495605,
          7.975547790527344,
          8.854940414428711,
          6.374495506286621,
          7.151314735412598,
          10.002541542053223,
          7.892612934112549,
          10.9009370803833,
          5.48895263671875,
          12.250227928161621,
          7.336755275726318,
          5.908756256103516,
          8.747021675109863,
          6.704057216644287,
          9.165815353393555,
          10.273186683654785,
          6.029347896575928,
          10.268841743469238,
          11.654656410217285,
          8.354473114013672,
          9.354796409606934,
          8.507414817810059,
          8.09615707397461,
          7.67323637008667,
          11.703593254089355,
          6.702231407165527,
          5.873398780822754,
          10.098301887512207,
          10.158543586730957,
          8.326692581176758,
          4.940971374511719,
          6.703511714935303,
          9.12646770477295,
          12.863151550292969,
          9.263470649719238,
          8.122544288635254,
          9.266325950622559,
          10.230759620666504,
          12.6825590133667,
          11.651328086853027,
          13.010856628417969,
          7.804453372955322,
          13.210107803344727,
          6.2991814613342285,
          10.57950496673584,
          8.520454406738281,
          11.468741416931152,
          6.841798305511475,
          10.48293399810791,
          11.692499160766602,
          8.064247131347656,
          6.722641944885254,
          8.199674606323242,
          11.521080017089844,
          12.051087379455566,
          10.896472930908203,
          10.07633113861084,
          9.382174491882324,
          13.06418514251709,
          9.097946166992188,
          11.925328254699707,
          8.535578727722168,
          7.462965965270996,
          8.585938453674316,
          9.06973934173584,
          11.515899658203125,
          7.070504665374756,
          6.97361946105957,
          11.427129745483398,
          12.49427318572998,
          11.495071411132812,
          8.316276550292969,
          8.765199661254883,
          6.637836456298828,
          11.663887977600098,
          8.4630708694458,
          8.7871732711792,
          9.427151679992676,
          9.840946197509766,
          5.933896541595459,
          7.273399829864502,
          7.561154365539551,
          12.912175178527832,
          8.218517303466797,
          5.935023784637451,
          8.209545135498047,
          10.8402681350708,
          8.143684387207031,
          10.906059265136719,
          8.775721549987793,
          7.047464847564697,
          9.46509075164795,
          12.69830322265625,
          8.70622730255127,
          9.162985801696777,
          7.493619441986084,
          8.918783187866211,
          9.273723602294922,
          5.936408519744873,
          8.800986289978027,
          7.310519695281982,
          9.018311500549316,
          5.931110858917236,
          12.015092849731445,
          10.283904075622559,
          9.576750755310059,
          7.1803436279296875,
          8.492051124572754,
          11.489116668701172,
          9.37728500366211,
          5.481153964996338,
          11.689635276794434,
          11.549753189086914,
          12.74418830871582,
          11.664956092834473,
          12.168630599975586,
          8.501444816589355,
          12.376121520996094,
          6.1189470291137695,
          8.196643829345703,
          8.686363220214844,
          7.2155442237854,
          6.908087253570557,
          13.274133682250977,
          6.126850128173828,
          9.570874214172363,
          11.077383995056152,
          5.099714279174805,
          12.193195343017578,
          6.049196243286133,
          9.19668960571289,
          8.74494457244873,
          11.939071655273438,
          7.879969120025635,
          10.180054664611816,
          10.039316177368164,
          8.756166458129883,
          8.425315856933594,
          7.573214530944824,
          11.165950775146484,
          9.310884475708008,
          8.739984512329102,
          7.446679592132568,
          6.65519905090332,
          7.545206546783447,
          6.0834174156188965,
          9.851361274719238,
          4.998596668243408,
          6.154263496398926,
          5.027722358703613,
          7.1657023429870605,
          9.161423683166504,
          10.7487211227417,
          6.368770122528076,
          11.5070161819458,
          9.256631851196289,
          6.518186569213867,
          8.233774185180664,
          7.160275936126709,
          11.262451171875,
          6.941117286682129,
          7.150387763977051,
          9.165786743164062,
          10.480504989624023,
          9.179645538330078,
          10.128498077392578,
          7.036046981811523,
          8.534220695495605,
          6.207663536071777,
          7.776347637176514,
          8.440228462219238,
          8.754389762878418,
          10.79973030090332,
          12.358394622802734,
          7.024692535400391,
          6.709200382232666,
          9.111311912536621,
          6.528908729553223,
          8.16079330444336,
          9.25293254852295,
          9.353597640991211,
          6.150372505187988,
          9.269220352172852,
          11.01781177520752,
          9.755806922912598,
          8.22120189666748,
          7.130724906921387,
          8.996817588806152,
          7.3206024169921875,
          9.923364639282227,
          13.032824516296387,
          7.904444217681885,
          6.24744176864624,
          7.755921840667725,
          12.608602523803711,
          8.696810722351074,
          6.228588581085205,
          7.496228218078613,
          12.262267112731934,
          8.2188720703125,
          13.265358924865723,
          9.287941932678223,
          8.805289268493652,
          10.467718124389648,
          8.176774024963379,
          7.36095666885376,
          7.175209999084473,
          13.335151672363281,
          6.079415798187256,
          6.591007709503174,
          5.8768534660339355,
          11.057047843933105,
          11.024787902832031,
          10.719372749328613,
          9.54455280303955,
          9.990484237670898,
          7.202372074127197,
          10.663424491882324,
          10.959851264953613,
          9.23452377319336,
          8.640335083007812,
          8.959320068359375,
          13.117765426635742,
          5.484835624694824,
          11.299641609191895,
          9.695596694946289,
          9.411103248596191,
          11.092743873596191,
          12.014751434326172,
          11.127837181091309,
          10.292089462280273,
          10.719192504882812,
          8.580093383789062,
          7.543068885803223,
          9.507827758789062,
          10.346030235290527,
          11.991362571716309,
          8.787891387939453,
          7.019261837005615,
          9.25831413269043,
          12.450689315795898,
          5.584191799163818,
          8.202004432678223,
          8.013561248779297,
          10.162005424499512,
          10.908953666687012,
          9.809622764587402,
          8.261648178100586,
          7.26248836517334,
          9.317344665527344,
          8.122225761413574,
          7.9146294593811035,
          13.029155731201172,
          8.709813117980957,
          6.751251697540283,
          7.340828895568848,
          11.88779354095459,
          8.40553092956543,
          9.26394271850586,
          7.08821439743042,
          6.787114143371582,
          11.922986030578613,
          11.035054206848145,
          9.995859146118164,
          8.535621643066406,
          8.342325210571289,
          9.992143630981445,
          10.306880950927734,
          6.682015419006348,
          6.264315605163574,
          5.886816024780273,
          8.564769744873047,
          7.351168632507324,
          11.595938682556152,
          5.959553241729736,
          5.746131420135498,
          5.1765971183776855,
          11.409082412719727,
          12.111852645874023,
          12.430402755737305,
          8.308246612548828,
          9.258286476135254,
          9.704886436462402,
          7.992773056030273,
          11.229233741760254,
          13.005668640136719,
          9.188596725463867,
          6.897369384765625,
          10.946067810058594,
          8.12903881072998,
          8.939143180847168,
          6.7476935386657715,
          9.285388946533203,
          10.009358406066895,
          6.084352970123291,
          9.415633201599121,
          6.667355537414551,
          6.858942031860352,
          9.064866065979004,
          8.399789810180664,
          12.1388578414917,
          10.111933708190918,
          5.554420471191406,
          7.559928894042969,
          7.5336384773254395,
          5.595374584197998,
          9.619235038757324,
          9.349668502807617,
          9.226814270019531,
          5.785717487335205,
          11.39299488067627,
          9.409616470336914,
          6.612654209136963,
          11.543540954589844,
          6.344480514526367,
          11.163603782653809,
          10.5660400390625,
          8.91450309753418,
          12.292343139648438,
          8.136626243591309,
          5.937596797943115,
          6.665226936340332,
          9.104619026184082,
          3.805881977081299,
          12.701570510864258,
          11.538915634155273,
          9.178915977478027,
          7.013438701629639,
          7.655853748321533,
          12.35648250579834,
          10.33119010925293,
          10.03361701965332,
          12.167367935180664
         ],
         "yaxis": "y"
        }
       ],
       "layout": {
        "height": 800,
        "legend": {
         "tracegroupgap": 0
        },
        "margin": {
         "t": 60
        },
        "template": {
         "data": {
          "bar": [
           {
            "error_x": {
             "color": "#2a3f5f"
            },
            "error_y": {
             "color": "#2a3f5f"
            },
            "marker": {
             "line": {
              "color": "#E5ECF6",
              "width": 0.5
             },
             "pattern": {
              "fillmode": "overlay",
              "size": 10,
              "solidity": 0.2
             }
            },
            "type": "bar"
           }
          ],
          "barpolar": [
           {
            "marker": {
             "line": {
              "color": "#E5ECF6",
              "width": 0.5
             },
             "pattern": {
              "fillmode": "overlay",
              "size": 10,
              "solidity": 0.2
             }
            },
            "type": "barpolar"
           }
          ],
          "carpet": [
           {
            "aaxis": {
             "endlinecolor": "#2a3f5f",
             "gridcolor": "white",
             "linecolor": "white",
             "minorgridcolor": "white",
             "startlinecolor": "#2a3f5f"
            },
            "baxis": {
             "endlinecolor": "#2a3f5f",
             "gridcolor": "white",
             "linecolor": "white",
             "minorgridcolor": "white",
             "startlinecolor": "#2a3f5f"
            },
            "type": "carpet"
           }
          ],
          "choropleth": [
           {
            "colorbar": {
             "outlinewidth": 0,
             "ticks": ""
            },
            "type": "choropleth"
           }
          ],
          "contour": [
           {
            "colorbar": {
             "outlinewidth": 0,
             "ticks": ""
            },
            "colorscale": [
             [
              0,
              "#0d0887"
             ],
             [
              0.1111111111111111,
              "#46039f"
             ],
             [
              0.2222222222222222,
              "#7201a8"
             ],
             [
              0.3333333333333333,
              "#9c179e"
             ],
             [
              0.4444444444444444,
              "#bd3786"
             ],
             [
              0.5555555555555556,
              "#d8576b"
             ],
             [
              0.6666666666666666,
              "#ed7953"
             ],
             [
              0.7777777777777778,
              "#fb9f3a"
             ],
             [
              0.8888888888888888,
              "#fdca26"
             ],
             [
              1,
              "#f0f921"
             ]
            ],
            "type": "contour"
           }
          ],
          "contourcarpet": [
           {
            "colorbar": {
             "outlinewidth": 0,
             "ticks": ""
            },
            "type": "contourcarpet"
           }
          ],
          "heatmap": [
           {
            "colorbar": {
             "outlinewidth": 0,
             "ticks": ""
            },
            "colorscale": [
             [
              0,
              "#0d0887"
             ],
             [
              0.1111111111111111,
              "#46039f"
             ],
             [
              0.2222222222222222,
              "#7201a8"
             ],
             [
              0.3333333333333333,
              "#9c179e"
             ],
             [
              0.4444444444444444,
              "#bd3786"
             ],
             [
              0.5555555555555556,
              "#d8576b"
             ],
             [
              0.6666666666666666,
              "#ed7953"
             ],
             [
              0.7777777777777778,
              "#fb9f3a"
             ],
             [
              0.8888888888888888,
              "#fdca26"
             ],
             [
              1,
              "#f0f921"
             ]
            ],
            "type": "heatmap"
           }
          ],
          "heatmapgl": [
           {
            "colorbar": {
             "outlinewidth": 0,
             "ticks": ""
            },
            "colorscale": [
             [
              0,
              "#0d0887"
             ],
             [
              0.1111111111111111,
              "#46039f"
             ],
             [
              0.2222222222222222,
              "#7201a8"
             ],
             [
              0.3333333333333333,
              "#9c179e"
             ],
             [
              0.4444444444444444,
              "#bd3786"
             ],
             [
              0.5555555555555556,
              "#d8576b"
             ],
             [
              0.6666666666666666,
              "#ed7953"
             ],
             [
              0.7777777777777778,
              "#fb9f3a"
             ],
             [
              0.8888888888888888,
              "#fdca26"
             ],
             [
              1,
              "#f0f921"
             ]
            ],
            "type": "heatmapgl"
           }
          ],
          "histogram": [
           {
            "marker": {
             "pattern": {
              "fillmode": "overlay",
              "size": 10,
              "solidity": 0.2
             }
            },
            "type": "histogram"
           }
          ],
          "histogram2d": [
           {
            "colorbar": {
             "outlinewidth": 0,
             "ticks": ""
            },
            "colorscale": [
             [
              0,
              "#0d0887"
             ],
             [
              0.1111111111111111,
              "#46039f"
             ],
             [
              0.2222222222222222,
              "#7201a8"
             ],
             [
              0.3333333333333333,
              "#9c179e"
             ],
             [
              0.4444444444444444,
              "#bd3786"
             ],
             [
              0.5555555555555556,
              "#d8576b"
             ],
             [
              0.6666666666666666,
              "#ed7953"
             ],
             [
              0.7777777777777778,
              "#fb9f3a"
             ],
             [
              0.8888888888888888,
              "#fdca26"
             ],
             [
              1,
              "#f0f921"
             ]
            ],
            "type": "histogram2d"
           }
          ],
          "histogram2dcontour": [
           {
            "colorbar": {
             "outlinewidth": 0,
             "ticks": ""
            },
            "colorscale": [
             [
              0,
              "#0d0887"
             ],
             [
              0.1111111111111111,
              "#46039f"
             ],
             [
              0.2222222222222222,
              "#7201a8"
             ],
             [
              0.3333333333333333,
              "#9c179e"
             ],
             [
              0.4444444444444444,
              "#bd3786"
             ],
             [
              0.5555555555555556,
              "#d8576b"
             ],
             [
              0.6666666666666666,
              "#ed7953"
             ],
             [
              0.7777777777777778,
              "#fb9f3a"
             ],
             [
              0.8888888888888888,
              "#fdca26"
             ],
             [
              1,
              "#f0f921"
             ]
            ],
            "type": "histogram2dcontour"
           }
          ],
          "mesh3d": [
           {
            "colorbar": {
             "outlinewidth": 0,
             "ticks": ""
            },
            "type": "mesh3d"
           }
          ],
          "parcoords": [
           {
            "line": {
             "colorbar": {
              "outlinewidth": 0,
              "ticks": ""
             }
            },
            "type": "parcoords"
           }
          ],
          "pie": [
           {
            "automargin": true,
            "type": "pie"
           }
          ],
          "scatter": [
           {
            "fillpattern": {
             "fillmode": "overlay",
             "size": 10,
             "solidity": 0.2
            },
            "type": "scatter"
           }
          ],
          "scatter3d": [
           {
            "line": {
             "colorbar": {
              "outlinewidth": 0,
              "ticks": ""
             }
            },
            "marker": {
             "colorbar": {
              "outlinewidth": 0,
              "ticks": ""
             }
            },
            "type": "scatter3d"
           }
          ],
          "scattercarpet": [
           {
            "marker": {
             "colorbar": {
              "outlinewidth": 0,
              "ticks": ""
             }
            },
            "type": "scattercarpet"
           }
          ],
          "scattergeo": [
           {
            "marker": {
             "colorbar": {
              "outlinewidth": 0,
              "ticks": ""
             }
            },
            "type": "scattergeo"
           }
          ],
          "scattergl": [
           {
            "marker": {
             "colorbar": {
              "outlinewidth": 0,
              "ticks": ""
             }
            },
            "type": "scattergl"
           }
          ],
          "scattermapbox": [
           {
            "marker": {
             "colorbar": {
              "outlinewidth": 0,
              "ticks": ""
             }
            },
            "type": "scattermapbox"
           }
          ],
          "scatterpolar": [
           {
            "marker": {
             "colorbar": {
              "outlinewidth": 0,
              "ticks": ""
             }
            },
            "type": "scatterpolar"
           }
          ],
          "scatterpolargl": [
           {
            "marker": {
             "colorbar": {
              "outlinewidth": 0,
              "ticks": ""
             }
            },
            "type": "scatterpolargl"
           }
          ],
          "scatterternary": [
           {
            "marker": {
             "colorbar": {
              "outlinewidth": 0,
              "ticks": ""
             }
            },
            "type": "scatterternary"
           }
          ],
          "surface": [
           {
            "colorbar": {
             "outlinewidth": 0,
             "ticks": ""
            },
            "colorscale": [
             [
              0,
              "#0d0887"
             ],
             [
              0.1111111111111111,
              "#46039f"
             ],
             [
              0.2222222222222222,
              "#7201a8"
             ],
             [
              0.3333333333333333,
              "#9c179e"
             ],
             [
              0.4444444444444444,
              "#bd3786"
             ],
             [
              0.5555555555555556,
              "#d8576b"
             ],
             [
              0.6666666666666666,
              "#ed7953"
             ],
             [
              0.7777777777777778,
              "#fb9f3a"
             ],
             [
              0.8888888888888888,
              "#fdca26"
             ],
             [
              1,
              "#f0f921"
             ]
            ],
            "type": "surface"
           }
          ],
          "table": [
           {
            "cells": {
             "fill": {
              "color": "#EBF0F8"
             },
             "line": {
              "color": "white"
             }
            },
            "header": {
             "fill": {
              "color": "#C8D4E3"
             },
             "line": {
              "color": "white"
             }
            },
            "type": "table"
           }
          ]
         },
         "layout": {
          "annotationdefaults": {
           "arrowcolor": "#2a3f5f",
           "arrowhead": 0,
           "arrowwidth": 1
          },
          "autotypenumbers": "strict",
          "coloraxis": {
           "colorbar": {
            "outlinewidth": 0,
            "ticks": ""
           }
          },
          "colorscale": {
           "diverging": [
            [
             0,
             "#8e0152"
            ],
            [
             0.1,
             "#c51b7d"
            ],
            [
             0.2,
             "#de77ae"
            ],
            [
             0.3,
             "#f1b6da"
            ],
            [
             0.4,
             "#fde0ef"
            ],
            [
             0.5,
             "#f7f7f7"
            ],
            [
             0.6,
             "#e6f5d0"
            ],
            [
             0.7,
             "#b8e186"
            ],
            [
             0.8,
             "#7fbc41"
            ],
            [
             0.9,
             "#4d9221"
            ],
            [
             1,
             "#276419"
            ]
           ],
           "sequential": [
            [
             0,
             "#0d0887"
            ],
            [
             0.1111111111111111,
             "#46039f"
            ],
            [
             0.2222222222222222,
             "#7201a8"
            ],
            [
             0.3333333333333333,
             "#9c179e"
            ],
            [
             0.4444444444444444,
             "#bd3786"
            ],
            [
             0.5555555555555556,
             "#d8576b"
            ],
            [
             0.6666666666666666,
             "#ed7953"
            ],
            [
             0.7777777777777778,
             "#fb9f3a"
            ],
            [
             0.8888888888888888,
             "#fdca26"
            ],
            [
             1,
             "#f0f921"
            ]
           ],
           "sequentialminus": [
            [
             0,
             "#0d0887"
            ],
            [
             0.1111111111111111,
             "#46039f"
            ],
            [
             0.2222222222222222,
             "#7201a8"
            ],
            [
             0.3333333333333333,
             "#9c179e"
            ],
            [
             0.4444444444444444,
             "#bd3786"
            ],
            [
             0.5555555555555556,
             "#d8576b"
            ],
            [
             0.6666666666666666,
             "#ed7953"
            ],
            [
             0.7777777777777778,
             "#fb9f3a"
            ],
            [
             0.8888888888888888,
             "#fdca26"
            ],
            [
             1,
             "#f0f921"
            ]
           ]
          },
          "colorway": [
           "#636efa",
           "#EF553B",
           "#00cc96",
           "#ab63fa",
           "#FFA15A",
           "#19d3f3",
           "#FF6692",
           "#B6E880",
           "#FF97FF",
           "#FECB52"
          ],
          "font": {
           "color": "#2a3f5f"
          },
          "geo": {
           "bgcolor": "white",
           "lakecolor": "white",
           "landcolor": "#E5ECF6",
           "showlakes": true,
           "showland": true,
           "subunitcolor": "white"
          },
          "hoverlabel": {
           "align": "left"
          },
          "hovermode": "closest",
          "mapbox": {
           "style": "light"
          },
          "paper_bgcolor": "white",
          "plot_bgcolor": "#E5ECF6",
          "polar": {
           "angularaxis": {
            "gridcolor": "white",
            "linecolor": "white",
            "ticks": ""
           },
           "bgcolor": "#E5ECF6",
           "radialaxis": {
            "gridcolor": "white",
            "linecolor": "white",
            "ticks": ""
           }
          },
          "scene": {
           "xaxis": {
            "backgroundcolor": "#E5ECF6",
            "gridcolor": "white",
            "gridwidth": 2,
            "linecolor": "white",
            "showbackground": true,
            "ticks": "",
            "zerolinecolor": "white"
           },
           "yaxis": {
            "backgroundcolor": "#E5ECF6",
            "gridcolor": "white",
            "gridwidth": 2,
            "linecolor": "white",
            "showbackground": true,
            "ticks": "",
            "zerolinecolor": "white"
           },
           "zaxis": {
            "backgroundcolor": "#E5ECF6",
            "gridcolor": "white",
            "gridwidth": 2,
            "linecolor": "white",
            "showbackground": true,
            "ticks": "",
            "zerolinecolor": "white"
           }
          },
          "shapedefaults": {
           "line": {
            "color": "#2a3f5f"
           }
          },
          "ternary": {
           "aaxis": {
            "gridcolor": "white",
            "linecolor": "white",
            "ticks": ""
           },
           "baxis": {
            "gridcolor": "white",
            "linecolor": "white",
            "ticks": ""
           },
           "bgcolor": "#E5ECF6",
           "caxis": {
            "gridcolor": "white",
            "linecolor": "white",
            "ticks": ""
           }
          },
          "title": {
           "x": 0.05
          },
          "xaxis": {
           "automargin": true,
           "gridcolor": "white",
           "linecolor": "white",
           "ticks": "",
           "title": {
            "standoff": 15
           },
           "zerolinecolor": "white",
           "zerolinewidth": 2
          },
          "yaxis": {
           "automargin": true,
           "gridcolor": "white",
           "linecolor": "white",
           "ticks": "",
           "title": {
            "standoff": 15
           },
           "zerolinecolor": "white",
           "zerolinewidth": 2
          }
         }
        },
        "width": 800,
        "xaxis": {
         "anchor": "y",
         "domain": [
          0,
          1
         ],
         "title": {
          "text": "x"
         }
        },
        "yaxis": {
         "anchor": "x",
         "domain": [
          0,
          1
         ],
         "title": {
          "text": "y"
         }
        }
       }
      }
     },
     "metadata": {},
     "output_type": "display_data"
    }
   ],
   "source": [
    "# reducing the dimensions on my data to 2 dimensions\n",
    "umap = UMAP(n_neighbors=20, min_dist=0.1)\n",
    "\n",
    "embs_2d = umap.fit_transform(embs)\n",
    "\n",
    "fig = px.scatter(x=embs_2d[:,0], y=embs_2d[:,1])\n",
    "\n",
    "fig.update_layout(width=800, height=800)\n",
    "fig.update_traces(marker=dict(size=2))\n",
    "\n",
    "# plotting to show how the embeddings are when just dimensionality reduction is used\n",
    "fig_show_save(fig, \"umap-scatter\")"
   ]
  },
  {
   "cell_type": "code",
   "execution_count": 16,
   "metadata": {},
   "outputs": [
    {
     "name": "stdout",
     "output_type": "stream",
     "text": [
      "\n",
      "<class 'numpy.ndarray'>\n",
      "hvor langt er embs_2d: 2047\n",
      "hvor langt er et element: 2\n",
      "hva er første element i embs_2d: \n",
      "[16.309422 11.577305] \n",
      "\n"
     ]
    }
   ],
   "source": [
    "print(f\"\"\"\n",
    "{type(embs_2d)}\n",
    "hvor langt er embs_2d: {len(embs_2d)}\n",
    "hvor langt er et element: {len(embs_2d[0])}\n",
    "hva er første element i embs_2d: \n",
    "{embs_2d[0]} \n",
    "\"\"\")"
   ]
  },
  {
   "cell_type": "markdown",
   "metadata": {},
   "source": [
    "## Clustering 2D data\n",
    "In this part we're going to divide the population/data into number of groups such that data points in the same group are more similar to other data points in the same group than thos in other groups. \n",
    "\n",
    "We're instainsiate a object with some parameters. \n",
    "We are using HDBSCAN which is a hierarchical Density-based Spatial Clustering of Applications with noise. This is a clustering algorithm.\n",
    "\n",
    "We instansiate a object with some parameters.\n",
    "\n",
    "Then we apply the function .fit on this object.\n",
    "This enables us to detect how many clusters the embeddings have and how many of them are outliers.\n"
   ]
  },
  {
   "cell_type": "code",
   "execution_count": 17,
   "metadata": {},
   "outputs": [
    {
     "name": "stdout",
     "output_type": "stream",
     "text": [
      "\n",
      "    2D\n",
      "    Number of clusters: 47\n",
      "    Number of rows as outliers: 1006\n",
      "\n"
     ]
    }
   ],
   "source": [
    "clusters_2d = HDBSCAN(min_cluster_size=10, cluster_selection_method=\"leaf\").fit(embs_2d)\n",
    "\n",
    "print(f\"\"\"\n",
    "    2D\n",
    "    Number of clusters: {len(set(clusters_2d.labels_)) - 1}\n",
    "    Number of rows as outliers: {clusters_2d.labels_.tolist().count(-1)}\n",
    "\"\"\")"
   ]
  },
  {
   "cell_type": "markdown",
   "metadata": {},
   "source": [
    "# Results"
   ]
  },
  {
   "cell_type": "markdown",
   "metadata": {},
   "source": [
    "## Plotting the results\n",
    "The last part revolves around displaying the the results.\n",
    "\n",
    "To get a better understanding of the plot above, and the cluster, we arrange each group together with a corresponding color. This means that each point with the same color belongs to the same group. The data-points with no color, are outliers. This means that the HDBSCAN algorithms did not find any group it belonged to.\n",
    "\n",
    "We can hoover over the plot to see which cluster_id each group belongs to. \n",
    "\n"
   ]
  },
  {
   "cell_type": "code",
   "execution_count": 18,
   "metadata": {},
   "outputs": [
    {
     "data": {
      "text/plain": [
       "{-1,\n",
       " 0,\n",
       " 1,\n",
       " 2,\n",
       " 3,\n",
       " 4,\n",
       " 5,\n",
       " 6,\n",
       " 7,\n",
       " 8,\n",
       " 9,\n",
       " 10,\n",
       " 11,\n",
       " 12,\n",
       " 13,\n",
       " 14,\n",
       " 15,\n",
       " 16,\n",
       " 17,\n",
       " 18,\n",
       " 19,\n",
       " 20,\n",
       " 21,\n",
       " 22,\n",
       " 23,\n",
       " 24,\n",
       " 25,\n",
       " 26,\n",
       " 27,\n",
       " 28,\n",
       " 29,\n",
       " 30,\n",
       " 31,\n",
       " 32,\n",
       " 33,\n",
       " 34,\n",
       " 35,\n",
       " 36,\n",
       " 37,\n",
       " 38,\n",
       " 39,\n",
       " 40,\n",
       " 41,\n",
       " 42,\n",
       " 43,\n",
       " 44,\n",
       " 45,\n",
       " 46}"
      ]
     },
     "execution_count": 18,
     "metadata": {},
     "output_type": "execute_result"
    }
   ],
   "source": [
    "set(clusters_2d.labels_)"
   ]
  },
  {
   "cell_type": "code",
   "execution_count": 19,
   "metadata": {},
   "outputs": [
    {
     "data": {
      "application/vnd.plotly.v1+json": {
       "config": {
        "plotlyServerURL": "https://plot.ly"
       },
       "data": [
        {
         "customdata": [
          [
           "game espn nba vs lebron",
           3
          ],
          [
           "nintendo labo intels got graphics",
           18
          ],
          [
           "cake make diy zebra bake",
           8
          ],
          [
           "meghan markle scene harry bellas",
           30
          ],
          [
           "makeup skin wearing testing face",
           19
          ],
          [
           "karaoke carpool levine adam apple",
           6
          ],
          [
           "trailers honest star wars jedi",
           12
          ],
          [
           "meghan markle scene harry bellas",
           30
          ],
          [
           "iphone apple 2007 original unboxing",
           5
          ],
          [
           "trailers honest star wars jedi",
           12
          ],
          [
           "boy audio imagine dragons live",
           32
          ],
          [
           "highlights 201718 vs champions uefa",
           1
          ],
          [
           "game espn nba vs lebron",
           3
          ],
          [
           "nintendo labo intels got graphics",
           18
          ],
          [
           "ft shawn mendes makeup young",
           37
          ],
          [
           "ft shawn mendes makeup young",
           37
          ],
          [
           "pentatonix mv scenes havana look",
           22
          ],
          [
           "trailer official hd teaser season",
           15
          ],
          [
           "make appétit bon potato sandwich",
           11
          ],
          [
           "trailers honest star wars jedi",
           12
          ],
          [
           "cake make diy zebra bake",
           8
          ],
          [
           "boy audio imagine dragons live",
           32
          ],
          [
           "hydraulic ball hulkbuster homemade challenge",
           14
          ],
          [
           "house true mom day bought",
           35
          ],
          [
           "fortnite ride olympic bobsledder meteor",
           28
          ],
          [
           "trailer official 2018 pictures paramount",
           16
          ],
          [
           "cat simons white black earth",
           39
          ],
          [
           "trailer official 2018 pictures paramount",
           16
          ],
          [
           "pond diving scuba treasure shell",
           40
          ],
          [
           "iphone apple 2007 original unboxing",
           5
          ],
          [
           "ft shawn mendes makeup young",
           37
          ],
          [
           "im crying scared people honest",
           42
          ],
          [
           "pond diving scuba treasure shell",
           40
          ],
          [
           "fortnite ride olympic bobsledder meteor",
           28
          ],
          [
           "shooting school survivors parkland young",
           23
          ],
          [
           "house true mom day bought",
           35
          ],
          [
           "nintendo labo intels got graphics",
           18
          ],
          [
           "shooting school survivors parkland young",
           23
          ],
          [
           "cat simons white black earth",
           39
          ],
          [
           "trailers honest star wars jedi",
           12
          ],
          [
           "cat simons white black earth",
           39
          ],
          [
           "pentatonix mv scenes havana look",
           22
          ],
          [
           "trailers honest star wars jedi",
           12
          ],
          [
           "gender reveal wendy message grace",
           31
          ],
          [
           "makeup tutorial beauty everyday challenge",
           20
          ],
          [
           "iphone apple 2007 original unboxing",
           5
          ],
          [
           "snl kevin trump hart matters",
           34
          ],
          [
           "iphone apple 2007 original unboxing",
           5
          ],
          [
           "trailer official hd teaser season",
           15
          ],
          [
           "cat simons white black earth",
           39
          ],
          [
           "official video prince compares love",
           45
          ],
          [
           "snl kevin trump hart matters",
           34
          ],
          [
           "jenner hannah kris instagram rogers",
           29
          ],
          [
           "house true mom day bought",
           35
          ],
          [
           "fortnite ride olympic bobsledder meteor",
           28
          ],
          [
           "trailers honest star wars jedi",
           12
          ],
          [
           "hawaii volcano lava false missile",
           26
          ],
          [
           "official video prince compares love",
           45
          ],
          [
           "ft audio cover maroon big",
           36
          ],
          [
           "pond diving scuba treasure shell",
           40
          ],
          [
           "house true mom day bought",
           35
          ],
          [
           "iphone apple 2007 original unboxing",
           5
          ],
          [
           "meghan markle scene harry bellas",
           30
          ],
          [
           "gender reveal wendy message grace",
           31
          ],
          [
           "house true mom day bought",
           35
          ],
          [
           "snl kevin trump hart matters",
           34
          ],
          [
           "bitcoin make giertz useless simone",
           41
          ],
          [
           "meghan markle scene harry bellas",
           30
          ],
          [
           "journey 82 aisle walks groom",
           43
          ],
          [
           "boy audio imagine dragons live",
           32
          ],
          [
           "trailer official hd teaser season",
           15
          ],
          [
           "iphone apple 2007 original unboxing",
           5
          ],
          [
           "infinity war avengers cast tweets",
           17
          ],
          [
           "boy audio imagine dragons live",
           32
          ],
          [
           "makeup tutorial beauty everyday challenge",
           20
          ],
          [
           "gender reveal wendy message grace",
           31
          ],
          [
           "house true mom day bought",
           35
          ],
          [
           "ft audio cover maroon big",
           36
          ],
          [
           "snl kevin trump hart matters",
           34
          ],
          [
           "ft audio cover maroon big",
           36
          ],
          [
           "heavy falcon test tesla 2018",
           27
          ],
          [
           "cat simons white black earth",
           39
          ],
          [
           "iphone apple 2007 original unboxing",
           5
          ],
          [
           "pond diving scuba treasure shell",
           40
          ],
          [
           "snl kevin trump hart matters",
           34
          ],
          [
           "ft audio cover maroon big",
           36
          ],
          [
           "meghan markle scene harry bellas",
           30
          ],
          [
           "snl kevin trump hart matters",
           34
          ],
          [
           "camila cabello miami video pitbull",
           4
          ],
          [
           "meghan markle scene harry bellas",
           30
          ],
          [
           "game history battle happening emblem",
           21
          ],
          [
           "meghan markle scene harry bellas",
           30
          ],
          [
           "box build tank shower challenge",
           38
          ],
          [
           "trailer official season starz power",
           13
          ],
          [
           "infinity war avengers cast tweets",
           17
          ],
          [
           "nintendo labo intels got graphics",
           18
          ],
          [
           "fortnite ride olympic bobsledder meteor",
           28
          ],
          [
           "game history battle happening emblem",
           21
          ],
          [
           "house true mom day bought",
           35
          ],
          [
           "snl kevin trump hart matters",
           34
          ],
          [
           "meghan markle scene harry bellas",
           30
          ],
          [
           "gender reveal wendy message grace",
           31
          ],
          [
           "official video prince compares love",
           45
          ],
          [
           "pentatonix mv scenes havana look",
           22
          ],
          [
           "gender reveal wendy message grace",
           31
          ],
          [
           "hawaii volcano lava false missile",
           26
          ],
          [
           "game history battle happening emblem",
           21
          ],
          [
           "boy audio imagine dragons live",
           32
          ],
          [
           "iphone apple 2007 original unboxing",
           5
          ],
          [
           "nfl highlights 2018 combine 2017",
           2
          ],
          [
           "official video prince compares love",
           45
          ],
          [
           "march 2018 womens nicki rally",
           33
          ],
          [
           "house true mom day bought",
           35
          ],
          [
           "fortnite ride olympic bobsledder meteor",
           28
          ],
          [
           "wtf 300 toaster test gadgets",
           10
          ],
          [
           "iphone apple 2007 original unboxing",
           5
          ],
          [
           "meghan markle scene harry bellas",
           30
          ],
          [
           "2017 awards 2018 raw music",
           25
          ],
          [
           "game history battle happening emblem",
           21
          ],
          [
           "infinity war avengers cast tweets",
           17
          ],
          [
           "im crying scared people honest",
           42
          ],
          [
           "journey 82 aisle walks groom",
           43
          ],
          [
           "boy audio imagine dragons live",
           32
          ],
          [
           "taste famous hawaiis mochi food",
           9
          ],
          [
           "highlights 201718 vs champions uefa",
           1
          ],
          [
           "meghan markle scene harry bellas",
           30
          ],
          [
           "shooting school survivors parkland young",
           23
          ],
          [
           "trailer official 2018 pictures paramount",
           16
          ],
          [
           "box build tank shower challenge",
           38
          ],
          [
           "taste famous hawaiis mochi food",
           9
          ],
          [
           "im crying scared people honest",
           42
          ],
          [
           "make appétit bon potato sandwich",
           11
          ],
          [
           "im crying scared people honest",
           42
          ],
          [
           "meghan markle scene harry bellas",
           30
          ],
          [
           "hawaii volcano lava false missile",
           26
          ],
          [
           "meghan markle scene harry bellas",
           30
          ],
          [
           "meghan markle scene harry bellas",
           30
          ],
          [
           "2018 voice bgt auditions golden",
           7
          ],
          [
           "highlights 201718 vs champions uefa",
           1
          ],
          [
           "bitcoin make giertz useless simone",
           41
          ],
          [
           "video lyric official bloom troye",
           46
          ],
          [
           "snl kevin trump hart matters",
           34
          ],
          [
           "iphone apple 2007 original unboxing",
           5
          ],
          [
           "house true mom day bought",
           35
          ],
          [
           "snl kevin trump hart matters",
           34
          ],
          [
           "makeup skin wearing testing face",
           19
          ],
          [
           "gender reveal wendy message grace",
           31
          ],
          [
           "ft shawn mendes makeup young",
           37
          ],
          [
           "ft audio cover maroon big",
           36
          ],
          [
           "taste famous hawaiis mochi food",
           9
          ],
          [
           "makeup skin wearing testing face",
           19
          ],
          [
           "jenner hannah kris instagram rogers",
           29
          ],
          [
           "heavy falcon test tesla 2018",
           27
          ],
          [
           "pond diving scuba treasure shell",
           40
          ],
          [
           "trailer official season starz power",
           13
          ],
          [
           "shooting school survivors parkland young",
           23
          ],
          [
           "heavy falcon test tesla 2018",
           27
          ],
          [
           "pond diving scuba treasure shell",
           40
          ],
          [
           "heavy falcon test tesla 2018",
           27
          ],
          [
           "march 2018 womens nicki rally",
           33
          ],
          [
           "makeup tutorial beauty everyday challenge",
           20
          ],
          [
           "2017 awards 2018 raw music",
           25
          ],
          [
           "trailers honest star wars jedi",
           12
          ],
          [
           "highlights 201718 vs champions uefa",
           1
          ],
          [
           "ft audio cover maroon big",
           36
          ],
          [
           "boy audio imagine dragons live",
           32
          ],
          [
           "hydraulic ball hulkbuster homemade challenge",
           14
          ],
          [
           "trailers honest star wars jedi",
           12
          ],
          [
           "bitcoin make giertz useless simone",
           41
          ],
          [
           "boy audio imagine dragons live",
           32
          ],
          [
           "meghan markle scene harry bellas",
           30
          ],
          [
           "video lyric official bloom troye",
           46
          ],
          [
           "makeup tutorial beauty everyday challenge",
           20
          ],
          [
           "bitcoin make giertz useless simone",
           41
          ],
          [
           "heavy falcon test tesla 2018",
           27
          ],
          [
           "meghan markle scene harry bellas",
           30
          ],
          [
           "trailers honest star wars jedi",
           12
          ],
          [
           "game history battle happening emblem",
           21
          ],
          [
           "makeup tutorial beauty everyday challenge",
           20
          ],
          [
           "box build tank shower challenge",
           38
          ],
          [
           "march 2018 womens nicki rally",
           33
          ],
          [
           "snl kevin trump hart matters",
           34
          ],
          [
           "ft shawn mendes makeup young",
           37
          ],
          [
           "youtube video reacting vlog did",
           24
          ],
          [
           "hawaii volcano lava false missile",
           26
          ],
          [
           "cat simons white black earth",
           39
          ],
          [
           "meghan markle scene harry bellas",
           30
          ],
          [
           "cat simons white black earth",
           39
          ],
          [
           "ft shawn mendes makeup young",
           37
          ],
          [
           "youtube video reacting vlog did",
           24
          ],
          [
           "highlights 201718 vs champions uefa",
           1
          ],
          [
           "karaoke carpool levine adam apple",
           6
          ],
          [
           "makeup tutorial beauty everyday challenge",
           20
          ],
          [
           "hydraulic ball hulkbuster homemade challenge",
           14
          ],
          [
           "im crying scared people honest",
           42
          ],
          [
           "official video prince compares love",
           45
          ],
          [
           "makeup tutorial beauty everyday challenge",
           20
          ],
          [
           "video official america childish gambino",
           44
          ],
          [
           "infinity war avengers cast tweets",
           17
          ],
          [
           "trailer official 2018 pictures paramount",
           16
          ],
          [
           "ft shawn mendes makeup young",
           37
          ],
          [
           "ft shawn mendes makeup young",
           37
          ],
          [
           "trailer official season starz power",
           13
          ],
          [
           "trailer official hd teaser season",
           15
          ],
          [
           "trailer official season starz power",
           13
          ],
          [
           "make appétit bon potato sandwich",
           11
          ],
          [
           "tide ad 2018 super bowl",
           0
          ],
          [
           "video official america childish gambino",
           44
          ],
          [
           "make appétit bon potato sandwich",
           11
          ],
          [
           "march 2018 womens nicki rally",
           33
          ],
          [
           "make appétit bon potato sandwich",
           11
          ],
          [
           "trailers honest star wars jedi",
           12
          ],
          [
           "journey 82 aisle walks groom",
           43
          ],
          [
           "game history battle happening emblem",
           21
          ],
          [
           "hawaii volcano lava false missile",
           26
          ],
          [
           "im crying scared people honest",
           42
          ],
          [
           "gender reveal wendy message grace",
           31
          ],
          [
           "makeup skin wearing testing face",
           19
          ],
          [
           "hydraulic ball hulkbuster homemade challenge",
           14
          ],
          [
           "heavy falcon test tesla 2018",
           27
          ],
          [
           "2017 awards 2018 raw music",
           25
          ],
          [
           "camila cabello miami video pitbull",
           4
          ],
          [
           "infinity war avengers cast tweets",
           17
          ],
          [
           "make appétit bon potato sandwich",
           11
          ],
          [
           "heavy falcon test tesla 2018",
           27
          ],
          [
           "cat simons white black earth",
           39
          ],
          [
           "hydraulic ball hulkbuster homemade challenge",
           14
          ],
          [
           "tide ad 2018 super bowl",
           0
          ],
          [
           "tide ad 2018 super bowl",
           0
          ],
          [
           "camila cabello miami video pitbull",
           4
          ],
          [
           "jenner hannah kris instagram rogers",
           29
          ],
          [
           "video official america childish gambino",
           44
          ],
          [
           "infinity war avengers cast tweets",
           17
          ],
          [
           "hydraulic ball hulkbuster homemade challenge",
           14
          ],
          [
           "fortnite ride olympic bobsledder meteor",
           28
          ],
          [
           "heavy falcon test tesla 2018",
           27
          ],
          [
           "trailers honest star wars jedi",
           12
          ],
          [
           "nfl highlights 2018 combine 2017",
           2
          ],
          [
           "cat simons white black earth",
           39
          ],
          [
           "ft audio cover maroon big",
           36
          ],
          [
           "march 2018 womens nicki rally",
           33
          ],
          [
           "makeup skin wearing testing face",
           19
          ],
          [
           "highlights 201718 vs champions uefa",
           1
          ],
          [
           "tide ad 2018 super bowl",
           0
          ],
          [
           "cake make diy zebra bake",
           8
          ],
          [
           "meghan markle scene harry bellas",
           30
          ],
          [
           "gender reveal wendy message grace",
           31
          ],
          [
           "fortnite ride olympic bobsledder meteor",
           28
          ],
          [
           "meghan markle scene harry bellas",
           30
          ],
          [
           "video official america childish gambino",
           44
          ],
          [
           "heavy falcon test tesla 2018",
           27
          ],
          [
           "snl kevin trump hart matters",
           34
          ],
          [
           "pond diving scuba treasure shell",
           40
          ],
          [
           "bitcoin make giertz useless simone",
           41
          ],
          [
           "trailer official hd teaser season",
           15
          ],
          [
           "house true mom day bought",
           35
          ],
          [
           "game history battle happening emblem",
           21
          ],
          [
           "makeup tutorial beauty everyday challenge",
           20
          ],
          [
           "trailer official season starz power",
           13
          ],
          [
           "trailers honest star wars jedi",
           12
          ],
          [
           "game history battle happening emblem",
           21
          ],
          [
           "trailer official season starz power",
           13
          ],
          [
           "house true mom day bought",
           35
          ],
          [
           "gender reveal wendy message grace",
           31
          ],
          [
           "camila cabello miami video pitbull",
           4
          ],
          [
           "ft shawn mendes makeup young",
           37
          ],
          [
           "pond diving scuba treasure shell",
           40
          ],
          [
           "highlights 201718 vs champions uefa",
           1
          ],
          [
           "pond diving scuba treasure shell",
           40
          ],
          [
           "trailers honest star wars jedi",
           12
          ],
          [
           "jenner hannah kris instagram rogers",
           29
          ],
          [
           "journey 82 aisle walks groom",
           43
          ],
          [
           "march 2018 womens nicki rally",
           33
          ],
          [
           "trailers honest star wars jedi",
           12
          ],
          [
           "shooting school survivors parkland young",
           23
          ],
          [
           "iphone apple 2007 original unboxing",
           5
          ],
          [
           "make appétit bon potato sandwich",
           11
          ],
          [
           "trailers honest star wars jedi",
           12
          ],
          [
           "official video prince compares love",
           45
          ],
          [
           "makeup skin wearing testing face",
           19
          ],
          [
           "boy audio imagine dragons live",
           32
          ],
          [
           "jenner hannah kris instagram rogers",
           29
          ],
          [
           "trailers honest star wars jedi",
           12
          ],
          [
           "official video prince compares love",
           45
          ],
          [
           "game espn nba vs lebron",
           3
          ],
          [
           "video lyric official bloom troye",
           46
          ],
          [
           "karaoke carpool levine adam apple",
           6
          ],
          [
           "wtf 300 toaster test gadgets",
           10
          ],
          [
           "meghan markle scene harry bellas",
           30
          ],
          [
           "gender reveal wendy message grace",
           31
          ],
          [
           "snl kevin trump hart matters",
           34
          ],
          [
           "hawaii volcano lava false missile",
           26
          ],
          [
           "jenner hannah kris instagram rogers",
           29
          ],
          [
           "pond diving scuba treasure shell",
           40
          ],
          [
           "trailers honest star wars jedi",
           12
          ],
          [
           "boy audio imagine dragons live",
           32
          ],
          [
           "trailers honest star wars jedi",
           12
          ],
          [
           "makeup tutorial beauty everyday challenge",
           20
          ],
          [
           "jenner hannah kris instagram rogers",
           29
          ],
          [
           "taste famous hawaiis mochi food",
           9
          ],
          [
           "meghan markle scene harry bellas",
           30
          ],
          [
           "ft audio cover maroon big",
           36
          ],
          [
           "gender reveal wendy message grace",
           31
          ],
          [
           "ft audio cover maroon big",
           36
          ],
          [
           "youtube video reacting vlog did",
           24
          ],
          [
           "trailers honest star wars jedi",
           12
          ],
          [
           "tide ad 2018 super bowl",
           0
          ],
          [
           "pond diving scuba treasure shell",
           40
          ],
          [
           "fortnite ride olympic bobsledder meteor",
           28
          ],
          [
           "makeup skin wearing testing face",
           19
          ],
          [
           "iphone apple 2007 original unboxing",
           5
          ],
          [
           "game history battle happening emblem",
           21
          ],
          [
           "pond diving scuba treasure shell",
           40
          ],
          [
           "meghan markle scene harry bellas",
           30
          ],
          [
           "pond diving scuba treasure shell",
           40
          ],
          [
           "game espn nba vs lebron",
           3
          ],
          [
           "game espn nba vs lebron",
           3
          ],
          [
           "pond diving scuba treasure shell",
           40
          ],
          [
           "game espn nba vs lebron",
           3
          ],
          [
           "meghan markle scene harry bellas",
           30
          ],
          [
           "infinity war avengers cast tweets",
           17
          ],
          [
           "camila cabello miami video pitbull",
           4
          ],
          [
           "nintendo labo intels got graphics",
           18
          ],
          [
           "game espn nba vs lebron",
           3
          ],
          [
           "trailer official 2018 pictures paramount",
           16
          ],
          [
           "jenner hannah kris instagram rogers",
           29
          ],
          [
           "journey 82 aisle walks groom",
           43
          ],
          [
           "hawaii volcano lava false missile",
           26
          ],
          [
           "meghan markle scene harry bellas",
           30
          ],
          [
           "2017 awards 2018 raw music",
           25
          ],
          [
           "taste famous hawaiis mochi food",
           9
          ],
          [
           "cake make diy zebra bake",
           8
          ],
          [
           "make appétit bon potato sandwich",
           11
          ],
          [
           "boy audio imagine dragons live",
           32
          ],
          [
           "boy audio imagine dragons live",
           32
          ],
          [
           "youtube video reacting vlog did",
           24
          ],
          [
           "meghan markle scene harry bellas",
           30
          ],
          [
           "jenner hannah kris instagram rogers",
           29
          ],
          [
           "pond diving scuba treasure shell",
           40
          ],
          [
           "2018 voice bgt auditions golden",
           7
          ],
          [
           "youtube video reacting vlog did",
           24
          ],
          [
           "jenner hannah kris instagram rogers",
           29
          ],
          [
           "bitcoin make giertz useless simone",
           41
          ],
          [
           "heavy falcon test tesla 2018",
           27
          ],
          [
           "jenner hannah kris instagram rogers",
           29
          ],
          [
           "make appétit bon potato sandwich",
           11
          ],
          [
           "meghan markle scene harry bellas",
           30
          ],
          [
           "make appétit bon potato sandwich",
           11
          ],
          [
           "nfl highlights 2018 combine 2017",
           2
          ],
          [
           "pentatonix mv scenes havana look",
           22
          ],
          [
           "2017 awards 2018 raw music",
           25
          ],
          [
           "trailer official season starz power",
           13
          ],
          [
           "boy audio imagine dragons live",
           32
          ],
          [
           "journey 82 aisle walks groom",
           43
          ],
          [
           "game history battle happening emblem",
           21
          ],
          [
           "iphone apple 2007 original unboxing",
           5
          ],
          [
           "trailers honest star wars jedi",
           12
          ],
          [
           "hawaii volcano lava false missile",
           26
          ],
          [
           "snl kevin trump hart matters",
           34
          ],
          [
           "game history battle happening emblem",
           21
          ],
          [
           "box build tank shower challenge",
           38
          ],
          [
           "trailer official hd teaser season",
           15
          ],
          [
           "ft shawn mendes makeup young",
           37
          ],
          [
           "iphone apple 2007 original unboxing",
           5
          ],
          [
           "makeup skin wearing testing face",
           19
          ],
          [
           "trailer official season starz power",
           13
          ],
          [
           "shooting school survivors parkland young",
           23
          ],
          [
           "ft shawn mendes makeup young",
           37
          ],
          [
           "game history battle happening emblem",
           21
          ],
          [
           "highlights 201718 vs champions uefa",
           1
          ],
          [
           "cat simons white black earth",
           39
          ],
          [
           "official video prince compares love",
           45
          ],
          [
           "box build tank shower challenge",
           38
          ],
          [
           "ft audio cover maroon big",
           36
          ],
          [
           "meghan markle scene harry bellas",
           30
          ],
          [
           "karaoke carpool levine adam apple",
           6
          ],
          [
           "karaoke carpool levine adam apple",
           6
          ],
          [
           "house true mom day bought",
           35
          ],
          [
           "highlights 201718 vs champions uefa",
           1
          ],
          [
           "hydraulic ball hulkbuster homemade challenge",
           14
          ],
          [
           "2017 awards 2018 raw music",
           25
          ],
          [
           "nfl highlights 2018 combine 2017",
           2
          ],
          [
           "boy audio imagine dragons live",
           32
          ],
          [
           "taste famous hawaiis mochi food",
           9
          ],
          [
           "trailer official hd teaser season",
           15
          ],
          [
           "hydraulic ball hulkbuster homemade challenge",
           14
          ],
          [
           "box build tank shower challenge",
           38
          ],
          [
           "camila cabello miami video pitbull",
           4
          ],
          [
           "cake make diy zebra bake",
           8
          ],
          [
           "game espn nba vs lebron",
           3
          ],
          [
           "trailer official 2018 pictures paramount",
           16
          ],
          [
           "iphone apple 2007 original unboxing",
           5
          ],
          [
           "trailer official hd teaser season",
           15
          ],
          [
           "nintendo labo intels got graphics",
           18
          ],
          [
           "im crying scared people honest",
           42
          ],
          [
           "makeup tutorial beauty everyday challenge",
           20
          ],
          [
           "boy audio imagine dragons live",
           32
          ],
          [
           "video lyric official bloom troye",
           46
          ],
          [
           "official video prince compares love",
           45
          ],
          [
           "shooting school survivors parkland young",
           23
          ],
          [
           "jenner hannah kris instagram rogers",
           29
          ],
          [
           "cat simons white black earth",
           39
          ],
          [
           "trailer official hd teaser season",
           15
          ],
          [
           "video lyric official bloom troye",
           46
          ],
          [
           "trailer official hd teaser season",
           15
          ],
          [
           "2017 awards 2018 raw music",
           25
          ],
          [
           "meghan markle scene harry bellas",
           30
          ],
          [
           "box build tank shower challenge",
           38
          ],
          [
           "fortnite ride olympic bobsledder meteor",
           28
          ],
          [
           "cat simons white black earth",
           39
          ],
          [
           "game espn nba vs lebron",
           3
          ],
          [
           "trailers honest star wars jedi",
           12
          ],
          [
           "boy audio imagine dragons live",
           32
          ],
          [
           "2017 awards 2018 raw music",
           25
          ],
          [
           "snl kevin trump hart matters",
           34
          ],
          [
           "video lyric official bloom troye",
           46
          ],
          [
           "infinity war avengers cast tweets",
           17
          ],
          [
           "meghan markle scene harry bellas",
           30
          ],
          [
           "video official america childish gambino",
           44
          ],
          [
           "youtube video reacting vlog did",
           24
          ],
          [
           "fortnite ride olympic bobsledder meteor",
           28
          ],
          [
           "makeup skin wearing testing face",
           19
          ],
          [
           "ft audio cover maroon big",
           36
          ],
          [
           "im crying scared people honest",
           42
          ],
          [
           "fortnite ride olympic bobsledder meteor",
           28
          ],
          [
           "cake make diy zebra bake",
           8
          ],
          [
           "video lyric official bloom troye",
           46
          ],
          [
           "ft audio cover maroon big",
           36
          ],
          [
           "infinity war avengers cast tweets",
           17
          ],
          [
           "makeup skin wearing testing face",
           19
          ],
          [
           "meghan markle scene harry bellas",
           30
          ],
          [
           "makeup tutorial beauty everyday challenge",
           20
          ],
          [
           "ft shawn mendes makeup young",
           37
          ],
          [
           "hydraulic ball hulkbuster homemade challenge",
           14
          ],
          [
           "jenner hannah kris instagram rogers",
           29
          ],
          [
           "hawaii volcano lava false missile",
           26
          ],
          [
           "jenner hannah kris instagram rogers",
           29
          ],
          [
           "karaoke carpool levine adam apple",
           6
          ],
          [
           "game history battle happening emblem",
           21
          ],
          [
           "gender reveal wendy message grace",
           31
          ],
          [
           "house true mom day bought",
           35
          ],
          [
           "2017 awards 2018 raw music",
           25
          ],
          [
           "makeup skin wearing testing face",
           19
          ],
          [
           "trailer official season starz power",
           13
          ],
          [
           "youtube video reacting vlog did",
           24
          ],
          [
           "trailer official hd teaser season",
           15
          ],
          [
           "2018 voice bgt auditions golden",
           7
          ],
          [
           "infinity war avengers cast tweets",
           17
          ],
          [
           "ft shawn mendes makeup young",
           37
          ],
          [
           "journey 82 aisle walks groom",
           43
          ],
          [
           "nfl highlights 2018 combine 2017",
           2
          ],
          [
           "tide ad 2018 super bowl",
           0
          ],
          [
           "game history battle happening emblem",
           21
          ],
          [
           "make appétit bon potato sandwich",
           11
          ],
          [
           "bitcoin make giertz useless simone",
           41
          ],
          [
           "ft shawn mendes makeup young",
           37
          ],
          [
           "makeup skin wearing testing face",
           19
          ],
          [
           "snl kevin trump hart matters",
           34
          ],
          [
           "official video prince compares love",
           45
          ],
          [
           "video official america childish gambino",
           44
          ],
          [
           "trailer official hd teaser season",
           15
          ],
          [
           "make appétit bon potato sandwich",
           11
          ],
          [
           "highlights 201718 vs champions uefa",
           1
          ],
          [
           "ft shawn mendes makeup young",
           37
          ],
          [
           "boy audio imagine dragons live",
           32
          ],
          [
           "official video prince compares love",
           45
          ],
          [
           "cat simons white black earth",
           39
          ],
          [
           "im crying scared people honest",
           42
          ],
          [
           "hydraulic ball hulkbuster homemade challenge",
           14
          ],
          [
           "game history battle happening emblem",
           21
          ],
          [
           "meghan markle scene harry bellas",
           30
          ],
          [
           "makeup tutorial beauty everyday challenge",
           20
          ],
          [
           "journey 82 aisle walks groom",
           43
          ],
          [
           "ft shawn mendes makeup young",
           37
          ],
          [
           "snl kevin trump hart matters",
           34
          ],
          [
           "boy audio imagine dragons live",
           32
          ],
          [
           "makeup skin wearing testing face",
           19
          ],
          [
           "trailers honest star wars jedi",
           12
          ],
          [
           "game history battle happening emblem",
           21
          ],
          [
           "hydraulic ball hulkbuster homemade challenge",
           14
          ],
          [
           "ft audio cover maroon big",
           36
          ],
          [
           "meghan markle scene harry bellas",
           30
          ],
          [
           "wtf 300 toaster test gadgets",
           10
          ],
          [
           "hawaii volcano lava false missile",
           26
          ],
          [
           "pond diving scuba treasure shell",
           40
          ],
          [
           "makeup tutorial beauty everyday challenge",
           20
          ],
          [
           "trailers honest star wars jedi",
           12
          ],
          [
           "game history battle happening emblem",
           21
          ],
          [
           "meghan markle scene harry bellas",
           30
          ],
          [
           "pond diving scuba treasure shell",
           40
          ],
          [
           "makeup skin wearing testing face",
           19
          ],
          [
           "boy audio imagine dragons live",
           32
          ],
          [
           "tide ad 2018 super bowl",
           0
          ],
          [
           "bitcoin make giertz useless simone",
           41
          ],
          [
           "house true mom day bought",
           35
          ],
          [
           "trailers honest star wars jedi",
           12
          ],
          [
           "makeup tutorial beauty everyday challenge",
           20
          ],
          [
           "boy audio imagine dragons live",
           32
          ],
          [
           "taste famous hawaiis mochi food",
           9
          ],
          [
           "jenner hannah kris instagram rogers",
           29
          ],
          [
           "ft audio cover maroon big",
           36
          ],
          [
           "snl kevin trump hart matters",
           34
          ],
          [
           "march 2018 womens nicki rally",
           33
          ],
          [
           "snl kevin trump hart matters",
           34
          ],
          [
           "trailer official season starz power",
           13
          ],
          [
           "hydraulic ball hulkbuster homemade challenge",
           14
          ],
          [
           "ft shawn mendes makeup young",
           37
          ],
          [
           "pentatonix mv scenes havana look",
           22
          ],
          [
           "karaoke carpool levine adam apple",
           6
          ],
          [
           "video official america childish gambino",
           44
          ],
          [
           "fortnite ride olympic bobsledder meteor",
           28
          ],
          [
           "game history battle happening emblem",
           21
          ],
          [
           "makeup tutorial beauty everyday challenge",
           20
          ],
          [
           "ft audio cover maroon big",
           36
          ],
          [
           "march 2018 womens nicki rally",
           33
          ],
          [
           "jenner hannah kris instagram rogers",
           29
          ],
          [
           "pond diving scuba treasure shell",
           40
          ],
          [
           "trailers honest star wars jedi",
           12
          ],
          [
           "ft audio cover maroon big",
           36
          ],
          [
           "trailers honest star wars jedi",
           12
          ],
          [
           "meghan markle scene harry bellas",
           30
          ],
          [
           "hydraulic ball hulkbuster homemade challenge",
           14
          ],
          [
           "trailer official 2018 pictures paramount",
           16
          ],
          [
           "trailer official season starz power",
           13
          ],
          [
           "meghan markle scene harry bellas",
           30
          ],
          [
           "video lyric official bloom troye",
           46
          ],
          [
           "meghan markle scene harry bellas",
           30
          ],
          [
           "nintendo labo intels got graphics",
           18
          ],
          [
           "nfl highlights 2018 combine 2017",
           2
          ],
          [
           "nfl highlights 2018 combine 2017",
           2
          ],
          [
           "pentatonix mv scenes havana look",
           22
          ],
          [
           "bitcoin make giertz useless simone",
           41
          ],
          [
           "heavy falcon test tesla 2018",
           27
          ],
          [
           "ft shawn mendes makeup young",
           37
          ],
          [
           "journey 82 aisle walks groom",
           43
          ],
          [
           "trailer official 2018 pictures paramount",
           16
          ],
          [
           "nfl highlights 2018 combine 2017",
           2
          ],
          [
           "taste famous hawaiis mochi food",
           9
          ],
          [
           "make appétit bon potato sandwich",
           11
          ],
          [
           "fortnite ride olympic bobsledder meteor",
           28
          ],
          [
           "hydraulic ball hulkbuster homemade challenge",
           14
          ],
          [
           "heavy falcon test tesla 2018",
           27
          ],
          [
           "game history battle happening emblem",
           21
          ],
          [
           "heavy falcon test tesla 2018",
           27
          ],
          [
           "taste famous hawaiis mochi food",
           9
          ],
          [
           "video official america childish gambino",
           44
          ],
          [
           "2017 awards 2018 raw music",
           25
          ],
          [
           "ft shawn mendes makeup young",
           37
          ],
          [
           "bitcoin make giertz useless simone",
           41
          ],
          [
           "hydraulic ball hulkbuster homemade challenge",
           14
          ],
          [
           "bitcoin make giertz useless simone",
           41
          ],
          [
           "infinity war avengers cast tweets",
           17
          ],
          [
           "meghan markle scene harry bellas",
           30
          ],
          [
           "ft shawn mendes makeup young",
           37
          ],
          [
           "ft audio cover maroon big",
           36
          ],
          [
           "fortnite ride olympic bobsledder meteor",
           28
          ],
          [
           "wtf 300 toaster test gadgets",
           10
          ],
          [
           "ft shawn mendes makeup young",
           37
          ],
          [
           "shooting school survivors parkland young",
           23
          ],
          [
           "heavy falcon test tesla 2018",
           27
          ],
          [
           "makeup skin wearing testing face",
           19
          ],
          [
           "cake make diy zebra bake",
           8
          ],
          [
           "iphone apple 2007 original unboxing",
           5
          ],
          [
           "2018 voice bgt auditions golden",
           7
          ],
          [
           "game history battle happening emblem",
           21
          ],
          [
           "makeup skin wearing testing face",
           19
          ],
          [
           "pond diving scuba treasure shell",
           40
          ],
          [
           "camila cabello miami video pitbull",
           4
          ],
          [
           "ft audio cover maroon big",
           36
          ],
          [
           "hawaii volcano lava false missile",
           26
          ],
          [
           "hydraulic ball hulkbuster homemade challenge",
           14
          ],
          [
           "makeup tutorial beauty everyday challenge",
           20
          ],
          [
           "camila cabello miami video pitbull",
           4
          ],
          [
           "game history battle happening emblem",
           21
          ],
          [
           "nfl highlights 2018 combine 2017",
           2
          ],
          [
           "makeup skin wearing testing face",
           19
          ],
          [
           "pond diving scuba treasure shell",
           40
          ],
          [
           "game history battle happening emblem",
           21
          ],
          [
           "game espn nba vs lebron",
           3
          ],
          [
           "video lyric official bloom troye",
           46
          ],
          [
           "bitcoin make giertz useless simone",
           41
          ],
          [
           "official video prince compares love",
           45
          ],
          [
           "bitcoin make giertz useless simone",
           41
          ],
          [
           "camila cabello miami video pitbull",
           4
          ],
          [
           "jenner hannah kris instagram rogers",
           29
          ],
          [
           "meghan markle scene harry bellas",
           30
          ],
          [
           "heavy falcon test tesla 2018",
           27
          ],
          [
           "hawaii volcano lava false missile",
           26
          ],
          [
           "meghan markle scene harry bellas",
           30
          ],
          [
           "snl kevin trump hart matters",
           34
          ],
          [
           "bitcoin make giertz useless simone",
           41
          ],
          [
           "meghan markle scene harry bellas",
           30
          ],
          [
           "pentatonix mv scenes havana look",
           22
          ],
          [
           "boy audio imagine dragons live",
           32
          ],
          [
           "ft audio cover maroon big",
           36
          ],
          [
           "fortnite ride olympic bobsledder meteor",
           28
          ],
          [
           "house true mom day bought",
           35
          ],
          [
           "meghan markle scene harry bellas",
           30
          ],
          [
           "game history battle happening emblem",
           21
          ],
          [
           "snl kevin trump hart matters",
           34
          ],
          [
           "iphone apple 2007 original unboxing",
           5
          ],
          [
           "meghan markle scene harry bellas",
           30
          ],
          [
           "cake make diy zebra bake",
           8
          ],
          [
           "meghan markle scene harry bellas",
           30
          ],
          [
           "jenner hannah kris instagram rogers",
           29
          ],
          [
           "pond diving scuba treasure shell",
           40
          ],
          [
           "official video prince compares love",
           45
          ],
          [
           "trailer official season starz power",
           13
          ],
          [
           "tide ad 2018 super bowl",
           0
          ],
          [
           "cat simons white black earth",
           39
          ],
          [
           "cat simons white black earth",
           39
          ],
          [
           "trailer official hd teaser season",
           15
          ],
          [
           "box build tank shower challenge",
           38
          ],
          [
           "ft shawn mendes makeup young",
           37
          ],
          [
           "makeup tutorial beauty everyday challenge",
           20
          ],
          [
           "im crying scared people honest",
           42
          ],
          [
           "fortnite ride olympic bobsledder meteor",
           28
          ],
          [
           "march 2018 womens nicki rally",
           33
          ],
          [
           "fortnite ride olympic bobsledder meteor",
           28
          ],
          [
           "house true mom day bought",
           35
          ],
          [
           "2018 voice bgt auditions golden",
           7
          ],
          [
           "hydraulic ball hulkbuster homemade challenge",
           14
          ],
          [
           "trailers honest star wars jedi",
           12
          ],
          [
           "jenner hannah kris instagram rogers",
           29
          ],
          [
           "snl kevin trump hart matters",
           34
          ],
          [
           "meghan markle scene harry bellas",
           30
          ],
          [
           "ft audio cover maroon big",
           36
          ],
          [
           "cake make diy zebra bake",
           8
          ],
          [
           "cat simons white black earth",
           39
          ],
          [
           "pond diving scuba treasure shell",
           40
          ],
          [
           "taste famous hawaiis mochi food",
           9
          ],
          [
           "bitcoin make giertz useless simone",
           41
          ],
          [
           "march 2018 womens nicki rally",
           33
          ],
          [
           "makeup tutorial beauty everyday challenge",
           20
          ],
          [
           "makeup skin wearing testing face",
           19
          ],
          [
           "video lyric official bloom troye",
           46
          ],
          [
           "taste famous hawaiis mochi food",
           9
          ],
          [
           "ft shawn mendes makeup young",
           37
          ],
          [
           "game history battle happening emblem",
           21
          ],
          [
           "bitcoin make giertz useless simone",
           41
          ],
          [
           "video lyric official bloom troye",
           46
          ],
          [
           "game espn nba vs lebron",
           3
          ],
          [
           "boy audio imagine dragons live",
           32
          ],
          [
           "highlights 201718 vs champions uefa",
           1
          ],
          [
           "boy audio imagine dragons live",
           32
          ],
          [
           "youtube video reacting vlog did",
           24
          ],
          [
           "boy audio imagine dragons live",
           32
          ],
          [
           "ft shawn mendes makeup young",
           37
          ],
          [
           "trailer official hd teaser season",
           15
          ],
          [
           "video official america childish gambino",
           44
          ],
          [
           "jenner hannah kris instagram rogers",
           29
          ],
          [
           "game espn nba vs lebron",
           3
          ],
          [
           "tide ad 2018 super bowl",
           0
          ],
          [
           "ft audio cover maroon big",
           36
          ],
          [
           "snl kevin trump hart matters",
           34
          ],
          [
           "2018 voice bgt auditions golden",
           7
          ],
          [
           "make appétit bon potato sandwich",
           11
          ],
          [
           "im crying scared people honest",
           42
          ],
          [
           "make appétit bon potato sandwich",
           11
          ],
          [
           "video official america childish gambino",
           44
          ],
          [
           "wtf 300 toaster test gadgets",
           10
          ],
          [
           "shooting school survivors parkland young",
           23
          ],
          [
           "cake make diy zebra bake",
           8
          ],
          [
           "youtube video reacting vlog did",
           24
          ],
          [
           "trailers honest star wars jedi",
           12
          ],
          [
           "nintendo labo intels got graphics",
           18
          ],
          [
           "game espn nba vs lebron",
           3
          ],
          [
           "wtf 300 toaster test gadgets",
           10
          ],
          [
           "game history battle happening emblem",
           21
          ],
          [
           "meghan markle scene harry bellas",
           30
          ],
          [
           "trailers honest star wars jedi",
           12
          ],
          [
           "cat simons white black earth",
           39
          ],
          [
           "trailers honest star wars jedi",
           12
          ],
          [
           "jenner hannah kris instagram rogers",
           29
          ],
          [
           "box build tank shower challenge",
           38
          ],
          [
           "make appétit bon potato sandwich",
           11
          ],
          [
           "bitcoin make giertz useless simone",
           41
          ],
          [
           "karaoke carpool levine adam apple",
           6
          ],
          [
           "snl kevin trump hart matters",
           34
          ],
          [
           "video official america childish gambino",
           44
          ],
          [
           "cat simons white black earth",
           39
          ],
          [
           "cat simons white black earth",
           39
          ],
          [
           "meghan markle scene harry bellas",
           30
          ],
          [
           "house true mom day bought",
           35
          ],
          [
           "jenner hannah kris instagram rogers",
           29
          ],
          [
           "bitcoin make giertz useless simone",
           41
          ],
          [
           "snl kevin trump hart matters",
           34
          ],
          [
           "ft shawn mendes makeup young",
           37
          ],
          [
           "taste famous hawaiis mochi food",
           9
          ],
          [
           "cake make diy zebra bake",
           8
          ],
          [
           "trailers honest star wars jedi",
           12
          ],
          [
           "youtube video reacting vlog did",
           24
          ],
          [
           "jenner hannah kris instagram rogers",
           29
          ],
          [
           "game history battle happening emblem",
           21
          ],
          [
           "cake make diy zebra bake",
           8
          ],
          [
           "iphone apple 2007 original unboxing",
           5
          ],
          [
           "cat simons white black earth",
           39
          ],
          [
           "make appétit bon potato sandwich",
           11
          ],
          [
           "trailer official season starz power",
           13
          ],
          [
           "meghan markle scene harry bellas",
           30
          ],
          [
           "meghan markle scene harry bellas",
           30
          ],
          [
           "makeup tutorial beauty everyday challenge",
           20
          ],
          [
           "box build tank shower challenge",
           38
          ],
          [
           "pentatonix mv scenes havana look",
           22
          ],
          [
           "nintendo labo intels got graphics",
           18
          ],
          [
           "im crying scared people honest",
           42
          ],
          [
           "make appétit bon potato sandwich",
           11
          ],
          [
           "pentatonix mv scenes havana look",
           22
          ],
          [
           "jenner hannah kris instagram rogers",
           29
          ],
          [
           "heavy falcon test tesla 2018",
           27
          ],
          [
           "meghan markle scene harry bellas",
           30
          ],
          [
           "meghan markle scene harry bellas",
           30
          ],
          [
           "meghan markle scene harry bellas",
           30
          ],
          [
           "jenner hannah kris instagram rogers",
           29
          ],
          [
           "makeup skin wearing testing face",
           19
          ],
          [
           "ft shawn mendes makeup young",
           37
          ],
          [
           "makeup skin wearing testing face",
           19
          ],
          [
           "pond diving scuba treasure shell",
           40
          ],
          [
           "bitcoin make giertz useless simone",
           41
          ],
          [
           "tide ad 2018 super bowl",
           0
          ],
          [
           "trailers honest star wars jedi",
           12
          ],
          [
           "hawaii volcano lava false missile",
           26
          ],
          [
           "ft shawn mendes makeup young",
           37
          ],
          [
           "karaoke carpool levine adam apple",
           6
          ],
          [
           "game history battle happening emblem",
           21
          ],
          [
           "game history battle happening emblem",
           21
          ],
          [
           "ft shawn mendes makeup young",
           37
          ],
          [
           "hawaii volcano lava false missile",
           26
          ],
          [
           "heavy falcon test tesla 2018",
           27
          ],
          [
           "karaoke carpool levine adam apple",
           6
          ],
          [
           "im crying scared people honest",
           42
          ],
          [
           "2018 voice bgt auditions golden",
           7
          ],
          [
           "iphone apple 2007 original unboxing",
           5
          ],
          [
           "pentatonix mv scenes havana look",
           22
          ],
          [
           "snl kevin trump hart matters",
           34
          ],
          [
           "iphone apple 2007 original unboxing",
           5
          ],
          [
           "meghan markle scene harry bellas",
           30
          ],
          [
           "snl kevin trump hart matters",
           34
          ],
          [
           "jenner hannah kris instagram rogers",
           29
          ],
          [
           "snl kevin trump hart matters",
           34
          ],
          [
           "hydraulic ball hulkbuster homemade challenge",
           14
          ],
          [
           "snl kevin trump hart matters",
           34
          ],
          [
           "meghan markle scene harry bellas",
           30
          ],
          [
           "fortnite ride olympic bobsledder meteor",
           28
          ],
          [
           "house true mom day bought",
           35
          ],
          [
           "game history battle happening emblem",
           21
          ],
          [
           "ft audio cover maroon big",
           36
          ],
          [
           "highlights 201718 vs champions uefa",
           1
          ],
          [
           "nintendo labo intels got graphics",
           18
          ],
          [
           "trailers honest star wars jedi",
           12
          ],
          [
           "game espn nba vs lebron",
           3
          ],
          [
           "house true mom day bought",
           35
          ],
          [
           "nintendo labo intels got graphics",
           18
          ],
          [
           "youtube video reacting vlog did",
           24
          ],
          [
           "cat simons white black earth",
           39
          ],
          [
           "highlights 201718 vs champions uefa",
           1
          ],
          [
           "2017 awards 2018 raw music",
           25
          ],
          [
           "youtube video reacting vlog did",
           24
          ],
          [
           "meghan markle scene harry bellas",
           30
          ],
          [
           "pond diving scuba treasure shell",
           40
          ],
          [
           "snl kevin trump hart matters",
           34
          ],
          [
           "trailers honest star wars jedi",
           12
          ],
          [
           "video official america childish gambino",
           44
          ],
          [
           "makeup skin wearing testing face",
           19
          ],
          [
           "pond diving scuba treasure shell",
           40
          ],
          [
           "nfl highlights 2018 combine 2017",
           2
          ],
          [
           "game history battle happening emblem",
           21
          ],
          [
           "game espn nba vs lebron",
           3
          ],
          [
           "hawaii volcano lava false missile",
           26
          ],
          [
           "pentatonix mv scenes havana look",
           22
          ],
          [
           "2018 voice bgt auditions golden",
           7
          ],
          [
           "trailers honest star wars jedi",
           12
          ],
          [
           "trailers honest star wars jedi",
           12
          ],
          [
           "house true mom day bought",
           35
          ],
          [
           "karaoke carpool levine adam apple",
           6
          ],
          [
           "meghan markle scene harry bellas",
           30
          ],
          [
           "2018 voice bgt auditions golden",
           7
          ],
          [
           "fortnite ride olympic bobsledder meteor",
           28
          ],
          [
           "cat simons white black earth",
           39
          ],
          [
           "hydraulic ball hulkbuster homemade challenge",
           14
          ],
          [
           "ft audio cover maroon big",
           36
          ],
          [
           "ft audio cover maroon big",
           36
          ],
          [
           "bitcoin make giertz useless simone",
           41
          ],
          [
           "wtf 300 toaster test gadgets",
           10
          ],
          [
           "pond diving scuba treasure shell",
           40
          ],
          [
           "makeup tutorial beauty everyday challenge",
           20
          ],
          [
           "meghan markle scene harry bellas",
           30
          ],
          [
           "hydraulic ball hulkbuster homemade challenge",
           14
          ],
          [
           "boy audio imagine dragons live",
           32
          ],
          [
           "bitcoin make giertz useless simone",
           41
          ],
          [
           "make appétit bon potato sandwich",
           11
          ],
          [
           "taste famous hawaiis mochi food",
           9
          ],
          [
           "ft audio cover maroon big",
           36
          ],
          [
           "trailers honest star wars jedi",
           12
          ],
          [
           "meghan markle scene harry bellas",
           30
          ],
          [
           "shooting school survivors parkland young",
           23
          ],
          [
           "make appétit bon potato sandwich",
           11
          ],
          [
           "pentatonix mv scenes havana look",
           22
          ],
          [
           "iphone apple 2007 original unboxing",
           5
          ],
          [
           "cake make diy zebra bake",
           8
          ],
          [
           "karaoke carpool levine adam apple",
           6
          ],
          [
           "makeup skin wearing testing face",
           19
          ],
          [
           "make appétit bon potato sandwich",
           11
          ],
          [
           "trailers honest star wars jedi",
           12
          ],
          [
           "journey 82 aisle walks groom",
           43
          ],
          [
           "trailers honest star wars jedi",
           12
          ],
          [
           "trailer official hd teaser season",
           15
          ],
          [
           "gender reveal wendy message grace",
           31
          ],
          [
           "hydraulic ball hulkbuster homemade challenge",
           14
          ],
          [
           "youtube video reacting vlog did",
           24
          ],
          [
           "trailer official season starz power",
           13
          ],
          [
           "jenner hannah kris instagram rogers",
           29
          ],
          [
           "official video prince compares love",
           45
          ],
          [
           "cake make diy zebra bake",
           8
          ],
          [
           "bitcoin make giertz useless simone",
           41
          ],
          [
           "pentatonix mv scenes havana look",
           22
          ],
          [
           "house true mom day bought",
           35
          ],
          [
           "pentatonix mv scenes havana look",
           22
          ],
          [
           "pond diving scuba treasure shell",
           40
          ],
          [
           "trailers honest star wars jedi",
           12
          ],
          [
           "makeup skin wearing testing face",
           19
          ],
          [
           "karaoke carpool levine adam apple",
           6
          ],
          [
           "wtf 300 toaster test gadgets",
           10
          ],
          [
           "snl kevin trump hart matters",
           34
          ],
          [
           "hawaii volcano lava false missile",
           26
          ],
          [
           "pond diving scuba treasure shell",
           40
          ],
          [
           "iphone apple 2007 original unboxing",
           5
          ],
          [
           "trailer official hd teaser season",
           15
          ],
          [
           "nintendo labo intels got graphics",
           18
          ],
          [
           "makeup tutorial beauty everyday challenge",
           20
          ],
          [
           "trailers honest star wars jedi",
           12
          ],
          [
           "cake make diy zebra bake",
           8
          ],
          [
           "trailer official hd teaser season",
           15
          ],
          [
           "hydraulic ball hulkbuster homemade challenge",
           14
          ],
          [
           "youtube video reacting vlog did",
           24
          ],
          [
           "game espn nba vs lebron",
           3
          ],
          [
           "make appétit bon potato sandwich",
           11
          ],
          [
           "house true mom day bought",
           35
          ],
          [
           "trailer official hd teaser season",
           15
          ],
          [
           "trailer official hd teaser season",
           15
          ],
          [
           "snl kevin trump hart matters",
           34
          ],
          [
           "makeup tutorial beauty everyday challenge",
           20
          ],
          [
           "makeup tutorial beauty everyday challenge",
           20
          ],
          [
           "pentatonix mv scenes havana look",
           22
          ],
          [
           "fortnite ride olympic bobsledder meteor",
           28
          ],
          [
           "boy audio imagine dragons live",
           32
          ],
          [
           "highlights 201718 vs champions uefa",
           1
          ],
          [
           "bitcoin make giertz useless simone",
           41
          ],
          [
           "karaoke carpool levine adam apple",
           6
          ],
          [
           "2017 awards 2018 raw music",
           25
          ],
          [
           "meghan markle scene harry bellas",
           30
          ],
          [
           "makeup tutorial beauty everyday challenge",
           20
          ],
          [
           "game espn nba vs lebron",
           3
          ],
          [
           "youtube video reacting vlog did",
           24
          ],
          [
           "nintendo labo intels got graphics",
           18
          ],
          [
           "makeup tutorial beauty everyday challenge",
           20
          ],
          [
           "ft shawn mendes makeup young",
           37
          ],
          [
           "ft shawn mendes makeup young",
           37
          ],
          [
           "iphone apple 2007 original unboxing",
           5
          ],
          [
           "makeup tutorial beauty everyday challenge",
           20
          ],
          [
           "hydraulic ball hulkbuster homemade challenge",
           14
          ],
          [
           "bitcoin make giertz useless simone",
           41
          ],
          [
           "ft audio cover maroon big",
           36
          ],
          [
           "cake make diy zebra bake",
           8
          ],
          [
           "youtube video reacting vlog did",
           24
          ],
          [
           "meghan markle scene harry bellas",
           30
          ],
          [
           "meghan markle scene harry bellas",
           30
          ],
          [
           "snl kevin trump hart matters",
           34
          ],
          [
           "jenner hannah kris instagram rogers",
           29
          ],
          [
           "trailers honest star wars jedi",
           12
          ],
          [
           "makeup tutorial beauty everyday challenge",
           20
          ],
          [
           "trailers honest star wars jedi",
           12
          ],
          [
           "2018 voice bgt auditions golden",
           7
          ],
          [
           "video lyric official bloom troye",
           46
          ],
          [
           "2017 awards 2018 raw music",
           25
          ],
          [
           "journey 82 aisle walks groom",
           43
          ],
          [
           "cake make diy zebra bake",
           8
          ],
          [
           "cat simons white black earth",
           39
          ],
          [
           "bitcoin make giertz useless simone",
           41
          ],
          [
           "fortnite ride olympic bobsledder meteor",
           28
          ],
          [
           "game espn nba vs lebron",
           3
          ],
          [
           "game history battle happening emblem",
           21
          ],
          [
           "hawaii volcano lava false missile",
           26
          ],
          [
           "snl kevin trump hart matters",
           34
          ],
          [
           "makeup skin wearing testing face",
           19
          ],
          [
           "meghan markle scene harry bellas",
           30
          ],
          [
           "box build tank shower challenge",
           38
          ],
          [
           "snl kevin trump hart matters",
           34
          ],
          [
           "tide ad 2018 super bowl",
           0
          ],
          [
           "fortnite ride olympic bobsledder meteor",
           28
          ],
          [
           "iphone apple 2007 original unboxing",
           5
          ],
          [
           "bitcoin make giertz useless simone",
           41
          ],
          [
           "snl kevin trump hart matters",
           34
          ],
          [
           "pentatonix mv scenes havana look",
           22
          ],
          [
           "cat simons white black earth",
           39
          ],
          [
           "box build tank shower challenge",
           38
          ],
          [
           "nintendo labo intels got graphics",
           18
          ],
          [
           "meghan markle scene harry bellas",
           30
          ],
          [
           "trailers honest star wars jedi",
           12
          ],
          [
           "trailer official 2018 pictures paramount",
           16
          ],
          [
           "camila cabello miami video pitbull",
           4
          ],
          [
           "ft shawn mendes makeup young",
           37
          ],
          [
           "official video prince compares love",
           45
          ],
          [
           "2018 voice bgt auditions golden",
           7
          ],
          [
           "jenner hannah kris instagram rogers",
           29
          ],
          [
           "cat simons white black earth",
           39
          ],
          [
           "boy audio imagine dragons live",
           32
          ],
          [
           "meghan markle scene harry bellas",
           30
          ],
          [
           "official video prince compares love",
           45
          ],
          [
           "meghan markle scene harry bellas",
           30
          ],
          [
           "ft audio cover maroon big",
           36
          ],
          [
           "meghan markle scene harry bellas",
           30
          ],
          [
           "ft shawn mendes makeup young",
           37
          ],
          [
           "house true mom day bought",
           35
          ],
          [
           "boy audio imagine dragons live",
           32
          ],
          [
           "game espn nba vs lebron",
           3
          ],
          [
           "trailers honest star wars jedi",
           12
          ],
          [
           "trailers honest star wars jedi",
           12
          ],
          [
           "makeup tutorial beauty everyday challenge",
           20
          ],
          [
           "trailers honest star wars jedi",
           12
          ],
          [
           "youtube video reacting vlog did",
           24
          ],
          [
           "pond diving scuba treasure shell",
           40
          ],
          [
           "pond diving scuba treasure shell",
           40
          ],
          [
           "trailers honest star wars jedi",
           12
          ],
          [
           "makeup skin wearing testing face",
           19
          ],
          [
           "cat simons white black earth",
           39
          ],
          [
           "trailer official hd teaser season",
           15
          ],
          [
           "camila cabello miami video pitbull",
           4
          ],
          [
           "youtube video reacting vlog did",
           24
          ],
          [
           "nintendo labo intels got graphics",
           18
          ],
          [
           "wtf 300 toaster test gadgets",
           10
          ],
          [
           "boy audio imagine dragons live",
           32
          ],
          [
           "game history battle happening emblem",
           21
          ],
          [
           "ft shawn mendes makeup young",
           37
          ],
          [
           "trailers honest star wars jedi",
           12
          ],
          [
           "trailers honest star wars jedi",
           12
          ],
          [
           "meghan markle scene harry bellas",
           30
          ],
          [
           "house true mom day bought",
           35
          ],
          [
           "meghan markle scene harry bellas",
           30
          ],
          [
           "2017 awards 2018 raw music",
           25
          ],
          [
           "taste famous hawaiis mochi food",
           9
          ],
          [
           "makeup tutorial beauty everyday challenge",
           20
          ],
          [
           "trailers honest star wars jedi",
           12
          ],
          [
           "hawaii volcano lava false missile",
           26
          ],
          [
           "snl kevin trump hart matters",
           34
          ],
          [
           "trailers honest star wars jedi",
           12
          ],
          [
           "trailers honest star wars jedi",
           12
          ],
          [
           "meghan markle scene harry bellas",
           30
          ],
          [
           "pond diving scuba treasure shell",
           40
          ],
          [
           "march 2018 womens nicki rally",
           33
          ],
          [
           "taste famous hawaiis mochi food",
           9
          ],
          [
           "cake make diy zebra bake",
           8
          ],
          [
           "taste famous hawaiis mochi food",
           9
          ],
          [
           "hydraulic ball hulkbuster homemade challenge",
           14
          ],
          [
           "infinity war avengers cast tweets",
           17
          ],
          [
           "makeup tutorial beauty everyday challenge",
           20
          ],
          [
           "2018 voice bgt auditions golden",
           7
          ],
          [
           "trailers honest star wars jedi",
           12
          ],
          [
           "pond diving scuba treasure shell",
           40
          ],
          [
           "march 2018 womens nicki rally",
           33
          ],
          [
           "house true mom day bought",
           35
          ],
          [
           "meghan markle scene harry bellas",
           30
          ],
          [
           "makeup tutorial beauty everyday challenge",
           20
          ],
          [
           "jenner hannah kris instagram rogers",
           29
          ],
          [
           "meghan markle scene harry bellas",
           30
          ],
          [
           "hydraulic ball hulkbuster homemade challenge",
           14
          ],
          [
           "infinity war avengers cast tweets",
           17
          ],
          [
           "iphone apple 2007 original unboxing",
           5
          ],
          [
           "infinity war avengers cast tweets",
           17
          ],
          [
           "shooting school survivors parkland young",
           23
          ],
          [
           "im crying scared people honest",
           42
          ],
          [
           "hawaii volcano lava false missile",
           26
          ],
          [
           "video official america childish gambino",
           44
          ],
          [
           "trailers honest star wars jedi",
           12
          ],
          [
           "makeup tutorial beauty everyday challenge",
           20
          ],
          [
           "boy audio imagine dragons live",
           32
          ],
          [
           "cat simons white black earth",
           39
          ],
          [
           "bitcoin make giertz useless simone",
           41
          ],
          [
           "hydraulic ball hulkbuster homemade challenge",
           14
          ],
          [
           "makeup skin wearing testing face",
           19
          ],
          [
           "meghan markle scene harry bellas",
           30
          ],
          [
           "shooting school survivors parkland young",
           23
          ],
          [
           "iphone apple 2007 original unboxing",
           5
          ],
          [
           "make appétit bon potato sandwich",
           11
          ],
          [
           "game espn nba vs lebron",
           3
          ],
          [
           "meghan markle scene harry bellas",
           30
          ],
          [
           "iphone apple 2007 original unboxing",
           5
          ],
          [
           "highlights 201718 vs champions uefa",
           1
          ],
          [
           "pentatonix mv scenes havana look",
           22
          ],
          [
           "meghan markle scene harry bellas",
           30
          ],
          [
           "meghan markle scene harry bellas",
           30
          ],
          [
           "ft audio cover maroon big",
           36
          ],
          [
           "house true mom day bought",
           35
          ],
          [
           "meghan markle scene harry bellas",
           30
          ],
          [
           "video official america childish gambino",
           44
          ],
          [
           "trailers honest star wars jedi",
           12
          ],
          [
           "hawaii volcano lava false missile",
           26
          ],
          [
           "snl kevin trump hart matters",
           34
          ],
          [
           "2017 awards 2018 raw music",
           25
          ],
          [
           "trailer official season starz power",
           13
          ],
          [
           "pond diving scuba treasure shell",
           40
          ],
          [
           "trailer official 2018 pictures paramount",
           16
          ],
          [
           "jenner hannah kris instagram rogers",
           29
          ],
          [
           "official video prince compares love",
           45
          ],
          [
           "pond diving scuba treasure shell",
           40
          ],
          [
           "heavy falcon test tesla 2018",
           27
          ],
          [
           "youtube video reacting vlog did",
           24
          ],
          [
           "pond diving scuba treasure shell",
           40
          ],
          [
           "house true mom day bought",
           35
          ],
          [
           "ft audio cover maroon big",
           36
          ],
          [
           "snl kevin trump hart matters",
           34
          ],
          [
           "wtf 300 toaster test gadgets",
           10
          ],
          [
           "trailers honest star wars jedi",
           12
          ],
          [
           "boy audio imagine dragons live",
           32
          ],
          [
           "video official america childish gambino",
           44
          ],
          [
           "trailer official hd teaser season",
           15
          ],
          [
           "nfl highlights 2018 combine 2017",
           2
          ],
          [
           "official video prince compares love",
           45
          ],
          [
           "hawaii volcano lava false missile",
           26
          ],
          [
           "trailer official hd teaser season",
           15
          ],
          [
           "trailer official hd teaser season",
           15
          ],
          [
           "march 2018 womens nicki rally",
           33
          ],
          [
           "cake make diy zebra bake",
           8
          ],
          [
           "trailer official hd teaser season",
           15
          ],
          [
           "trailers honest star wars jedi",
           12
          ],
          [
           "highlights 201718 vs champions uefa",
           1
          ],
          [
           "bitcoin make giertz useless simone",
           41
          ],
          [
           "nintendo labo intels got graphics",
           18
          ],
          [
           "makeup skin wearing testing face",
           19
          ],
          [
           "ft shawn mendes makeup young",
           37
          ],
          [
           "game history battle happening emblem",
           21
          ],
          [
           "box build tank shower challenge",
           38
          ],
          [
           "boy audio imagine dragons live",
           32
          ],
          [
           "jenner hannah kris instagram rogers",
           29
          ],
          [
           "makeup skin wearing testing face",
           19
          ],
          [
           "video official america childish gambino",
           44
          ],
          [
           "ft shawn mendes makeup young",
           37
          ],
          [
           "trailer official 2018 pictures paramount",
           16
          ],
          [
           "house true mom day bought",
           35
          ],
          [
           "pond diving scuba treasure shell",
           40
          ],
          [
           "snl kevin trump hart matters",
           34
          ]
         ],
         "hovertemplate": "<b>Topics:</b> %{customdata[0]} <br><b>Cluster Id:</b> %{customdata[1]}<extra></extra>",
         "marker": {
          "color": [
           3,
           18,
           8,
           30,
           19,
           6,
           12,
           30,
           5,
           12,
           32,
           1,
           3,
           18,
           37,
           37,
           22,
           15,
           11,
           12,
           8,
           32,
           14,
           35,
           28,
           16,
           39,
           16,
           40,
           5,
           37,
           42,
           40,
           28,
           23,
           35,
           18,
           23,
           39,
           12,
           39,
           22,
           12,
           31,
           20,
           5,
           34,
           5,
           15,
           39,
           45,
           34,
           29,
           35,
           28,
           12,
           26,
           45,
           36,
           40,
           35,
           5,
           30,
           31,
           35,
           34,
           41,
           30,
           43,
           32,
           15,
           5,
           17,
           32,
           20,
           31,
           35,
           36,
           34,
           36,
           27,
           39,
           5,
           40,
           34,
           36,
           30,
           34,
           4,
           30,
           21,
           30,
           38,
           13,
           17,
           18,
           28,
           21,
           35,
           34,
           30,
           31,
           45,
           22,
           31,
           26,
           21,
           32,
           5,
           2,
           45,
           33,
           35,
           28,
           10,
           5,
           30,
           25,
           21,
           17,
           42,
           43,
           32,
           9,
           1,
           30,
           23,
           16,
           38,
           9,
           42,
           11,
           42,
           30,
           26,
           30,
           30,
           7,
           1,
           41,
           46,
           34,
           5,
           35,
           34,
           19,
           31,
           37,
           36,
           9,
           19,
           29,
           27,
           40,
           13,
           23,
           27,
           40,
           27,
           33,
           20,
           25,
           12,
           1,
           36,
           32,
           14,
           12,
           41,
           32,
           30,
           46,
           20,
           41,
           27,
           30,
           12,
           21,
           20,
           38,
           33,
           34,
           37,
           24,
           26,
           39,
           30,
           39,
           37,
           24,
           1,
           6,
           20,
           14,
           42,
           45,
           20,
           44,
           17,
           16,
           37,
           37,
           13,
           15,
           13,
           11,
           0,
           44,
           11,
           33,
           11,
           12,
           43,
           21,
           26,
           42,
           31,
           19,
           14,
           27,
           25,
           4,
           17,
           11,
           27,
           39,
           14,
           0,
           0,
           4,
           29,
           44,
           17,
           14,
           28,
           27,
           12,
           2,
           39,
           36,
           33,
           19,
           1,
           0,
           8,
           30,
           31,
           28,
           30,
           44,
           27,
           34,
           40,
           41,
           15,
           35,
           21,
           20,
           13,
           12,
           21,
           13,
           35,
           31,
           4,
           37,
           40,
           1,
           40,
           12,
           29,
           43,
           33,
           12,
           23,
           5,
           11,
           12,
           45,
           19,
           32,
           29,
           12,
           45,
           3,
           46,
           6,
           10,
           30,
           31,
           34,
           26,
           29,
           40,
           12,
           32,
           12,
           20,
           29,
           9,
           30,
           36,
           31,
           36,
           24,
           12,
           0,
           40,
           28,
           19,
           5,
           21,
           40,
           30,
           40,
           3,
           3,
           40,
           3,
           30,
           17,
           4,
           18,
           3,
           16,
           29,
           43,
           26,
           30,
           25,
           9,
           8,
           11,
           32,
           32,
           24,
           30,
           29,
           40,
           7,
           24,
           29,
           41,
           27,
           29,
           11,
           30,
           11,
           2,
           22,
           25,
           13,
           32,
           43,
           21,
           5,
           12,
           26,
           34,
           21,
           38,
           15,
           37,
           5,
           19,
           13,
           23,
           37,
           21,
           1,
           39,
           45,
           38,
           36,
           30,
           6,
           6,
           35,
           1,
           14,
           25,
           2,
           32,
           9,
           15,
           14,
           38,
           4,
           8,
           3,
           16,
           5,
           15,
           18,
           42,
           20,
           32,
           46,
           45,
           23,
           29,
           39,
           15,
           46,
           15,
           25,
           30,
           38,
           28,
           39,
           3,
           12,
           32,
           25,
           34,
           46,
           17,
           30,
           44,
           24,
           28,
           19,
           36,
           42,
           28,
           8,
           46,
           36,
           17,
           19,
           30,
           20,
           37,
           14,
           29,
           26,
           29,
           6,
           21,
           31,
           35,
           25,
           19,
           13,
           24,
           15,
           7,
           17,
           37,
           43,
           2,
           0,
           21,
           11,
           41,
           37,
           19,
           34,
           45,
           44,
           15,
           11,
           1,
           37,
           32,
           45,
           39,
           42,
           14,
           21,
           30,
           20,
           43,
           37,
           34,
           32,
           19,
           12,
           21,
           14,
           36,
           30,
           10,
           26,
           40,
           20,
           12,
           21,
           30,
           40,
           19,
           32,
           0,
           41,
           35,
           12,
           20,
           32,
           9,
           29,
           36,
           34,
           33,
           34,
           13,
           14,
           37,
           22,
           6,
           44,
           28,
           21,
           20,
           36,
           33,
           29,
           40,
           12,
           36,
           12,
           30,
           14,
           16,
           13,
           30,
           46,
           30,
           18,
           2,
           2,
           22,
           41,
           27,
           37,
           43,
           16,
           2,
           9,
           11,
           28,
           14,
           27,
           21,
           27,
           9,
           44,
           25,
           37,
           41,
           14,
           41,
           17,
           30,
           37,
           36,
           28,
           10,
           37,
           23,
           27,
           19,
           8,
           5,
           7,
           21,
           19,
           40,
           4,
           36,
           26,
           14,
           20,
           4,
           21,
           2,
           19,
           40,
           21,
           3,
           46,
           41,
           45,
           41,
           4,
           29,
           30,
           27,
           26,
           30,
           34,
           41,
           30,
           22,
           32,
           36,
           28,
           35,
           30,
           21,
           34,
           5,
           30,
           8,
           30,
           29,
           40,
           45,
           13,
           0,
           39,
           39,
           15,
           38,
           37,
           20,
           42,
           28,
           33,
           28,
           35,
           7,
           14,
           12,
           29,
           34,
           30,
           36,
           8,
           39,
           40,
           9,
           41,
           33,
           20,
           19,
           46,
           9,
           37,
           21,
           41,
           46,
           3,
           32,
           1,
           32,
           24,
           32,
           37,
           15,
           44,
           29,
           3,
           0,
           36,
           34,
           7,
           11,
           42,
           11,
           44,
           10,
           23,
           8,
           24,
           12,
           18,
           3,
           10,
           21,
           30,
           12,
           39,
           12,
           29,
           38,
           11,
           41,
           6,
           34,
           44,
           39,
           39,
           30,
           35,
           29,
           41,
           34,
           37,
           9,
           8,
           12,
           24,
           29,
           21,
           8,
           5,
           39,
           11,
           13,
           30,
           30,
           20,
           38,
           22,
           18,
           42,
           11,
           22,
           29,
           27,
           30,
           30,
           30,
           29,
           19,
           37,
           19,
           40,
           41,
           0,
           12,
           26,
           37,
           6,
           21,
           21,
           37,
           26,
           27,
           6,
           42,
           7,
           5,
           22,
           34,
           5,
           30,
           34,
           29,
           34,
           14,
           34,
           30,
           28,
           35,
           21,
           36,
           1,
           18,
           12,
           3,
           35,
           18,
           24,
           39,
           1,
           25,
           24,
           30,
           40,
           34,
           12,
           44,
           19,
           40,
           2,
           21,
           3,
           26,
           22,
           7,
           12,
           12,
           35,
           6,
           30,
           7,
           28,
           39,
           14,
           36,
           36,
           41,
           10,
           40,
           20,
           30,
           14,
           32,
           41,
           11,
           9,
           36,
           12,
           30,
           23,
           11,
           22,
           5,
           8,
           6,
           19,
           11,
           12,
           43,
           12,
           15,
           31,
           14,
           24,
           13,
           29,
           45,
           8,
           41,
           22,
           35,
           22,
           40,
           12,
           19,
           6,
           10,
           34,
           26,
           40,
           5,
           15,
           18,
           20,
           12,
           8,
           15,
           14,
           24,
           3,
           11,
           35,
           15,
           15,
           34,
           20,
           20,
           22,
           28,
           32,
           1,
           41,
           6,
           25,
           30,
           20,
           3,
           24,
           18,
           20,
           37,
           37,
           5,
           20,
           14,
           41,
           36,
           8,
           24,
           30,
           30,
           34,
           29,
           12,
           20,
           12,
           7,
           46,
           25,
           43,
           8,
           39,
           41,
           28,
           3,
           21,
           26,
           34,
           19,
           30,
           38,
           34,
           0,
           28,
           5,
           41,
           34,
           22,
           39,
           38,
           18,
           30,
           12,
           16,
           4,
           37,
           45,
           7,
           29,
           39,
           32,
           30,
           45,
           30,
           36,
           30,
           37,
           35,
           32,
           3,
           12,
           12,
           20,
           12,
           24,
           40,
           40,
           12,
           19,
           39,
           15,
           4,
           24,
           18,
           10,
           32,
           21,
           37,
           12,
           12,
           30,
           35,
           30,
           25,
           9,
           20,
           12,
           26,
           34,
           12,
           12,
           30,
           40,
           33,
           9,
           8,
           9,
           14,
           17,
           20,
           7,
           12,
           40,
           33,
           35,
           30,
           20,
           29,
           30,
           14,
           17,
           5,
           17,
           23,
           42,
           26,
           44,
           12,
           20,
           32,
           39,
           41,
           14,
           19,
           30,
           23,
           5,
           11,
           3,
           30,
           5,
           1,
           22,
           30,
           30,
           36,
           35,
           30,
           44,
           12,
           26,
           34,
           25,
           13,
           40,
           16,
           29,
           45,
           40,
           27,
           24,
           40,
           35,
           36,
           34,
           10,
           12,
           32,
           44,
           15,
           2,
           45,
           26,
           15,
           15,
           33,
           8,
           15,
           12,
           1,
           41,
           18,
           19,
           37,
           21,
           38,
           32,
           29,
           19,
           44,
           37,
           16,
           35,
           40,
           34
          ],
          "colorscale": [
           [
            0,
            "rgb(150,0,90)"
           ],
           [
            0.125,
            "rgb(0,0,200)"
           ],
           [
            0.25,
            "rgb(0,25,255)"
           ],
           [
            0.375,
            "rgb(0,152,255)"
           ],
           [
            0.5,
            "rgb(44,255,150)"
           ],
           [
            0.625,
            "rgb(151,255,0)"
           ],
           [
            0.75,
            "rgb(255,234,0)"
           ],
           [
            0.875,
            "rgb(255,111,0)"
           ],
           [
            1,
            "rgb(255,0,0)"
           ]
          ],
          "size": 2
         },
         "mode": "markers",
         "name": "Clustered",
         "type": "scattergl",
         "x": [
          16.30942153930664,
          11.877312660217285,
          11.217424392700195,
          15.967887878417969,
          15.279784202575684,
          11.363152503967285,
          17.343374252319336,
          15.446209907531738,
          11.005865097045898,
          17.916601181030273,
          12.839509010314941,
          16.848064422607422,
          16.25497817993164,
          11.86681842803955,
          14.39008617401123,
          13.915759086608887,
          12.68203067779541,
          18.589561462402344,
          11.568243980407715,
          17.7642879486084,
          11.085987091064453,
          12.801981925964355,
          11.187677383422852,
          13.490242004394531,
          11.828593254089355,
          17.926713943481445,
          12.680636405944824,
          17.9544677734375,
          12.291900634765625,
          11.178282737731934,
          13.752614974975586,
          13.854520797729492,
          12.10693073272705,
          12.088876724243164,
          14.529759407043457,
          13.42929744720459,
          11.750521659851074,
          14.564635276794434,
          12.624824523925781,
          17.284961700439453,
          13.390287399291992,
          13.268309593200684,
          17.531579971313477,
          15.218024253845215,
          15.279236793518066,
          10.906949043273926,
          15.5134859085083,
          10.81149673461914,
          18.494604110717773,
          12.932019233703613,
          13.541407585144043,
          15.71163272857666,
          15.104779243469238,
          13.83707046508789,
          11.70715045928955,
          17.32627296447754,
          10.880278587341309,
          13.571653366088867,
          13.47354507446289,
          12.510159492492676,
          13.48311996459961,
          11.177507400512695,
          15.443411827087402,
          15.037742614746094,
          13.335634231567383,
          16.084077835083008,
          13.455705642700195,
          15.481130599975586,
          14.10356330871582,
          12.938070297241211,
          18.295942306518555,
          10.978239059448242,
          16.8707218170166,
          12.83600902557373,
          15.637432098388672,
          15.135120391845703,
          13.846689224243164,
          13.14197063446045,
          15.876895904541016,
          13.273124694824219,
          11.656295776367188,
          13.362531661987305,
          11.321769714355469,
          12.437220573425293,
          15.945164680480957,
          13.301483154296875,
          16.289587020874023,
          15.815524101257324,
          12.303509712219238,
          15.852696418762207,
          12.915182113647461,
          16.406566619873047,
          12.453784942626953,
          17.973779678344727,
          16.832895278930664,
          11.917977333068848,
          11.964502334594727,
          13.171293258666992,
          13.534716606140137,
          15.511879920959473,
          15.576918601989746,
          14.985458374023438,
          13.571261405944824,
          12.549210548400879,
          15.071883201599121,
          11.060187339782715,
          12.912015914916992,
          12.821885108947754,
          10.8353271484375,
          16.667470932006836,
          13.59221363067627,
          15.115710258483887,
          13.40012264251709,
          11.938081741333008,
          11.642818450927734,
          11.310331344604492,
          15.533896446228027,
          14.591083526611328,
          12.873200416564941,
          16.419687271118164,
          13.99008560180664,
          13.962431907653809,
          12.77298355102539,
          11.207677841186523,
          16.83289337158203,
          15.853303909301758,
          14.37553596496582,
          17.919397354125977,
          12.81525993347168,
          10.981795310974121,
          14.023894309997559,
          11.487817764282227,
          13.997366905212402,
          15.70197582244873,
          10.867012023925781,
          15.810187339782715,
          15.620640754699707,
          15.281964302062988,
          16.63831901550293,
          12.953794479370117,
          13.692523956298828,
          15.554644584655762,
          10.886496543884277,
          13.340047836303711,
          15.657838821411133,
          15.200664520263672,
          15.258761405944824,
          14.08259105682373,
          13.205726623535156,
          11.277552604675293,
          15.208134651184082,
          14.92971134185791,
          11.41527271270752,
          12.668191909790039,
          17.976558685302734,
          14.522923469543457,
          11.534748077392578,
          12.53856372833252,
          11.557927131652832,
          15.033888816833496,
          15.149503707885742,
          14.789305686950684,
          17.22815704345703,
          16.646194458007812,
          13.600519180297852,
          12.720720291137695,
          11.234718322753906,
          17.69285774230957,
          13.055760383605957,
          12.734756469726562,
          15.690519332885742,
          13.712030410766602,
          15.251934051513672,
          13.452869415283203,
          11.604686737060547,
          15.890955924987793,
          17.633636474609375,
          13.036702156066895,
          15.688935279846191,
          12.301478385925293,
          15.125709533691406,
          15.81946086883545,
          13.807405471801758,
          14.448307991027832,
          11.044649124145508,
          13.576379776000977,
          15.992937088012695,
          13.068138122558594,
          14.325063705444336,
          14.52109432220459,
          16.688430786132812,
          11.38451099395752,
          15.115914344787598,
          11.30894947052002,
          14.0729341506958,
          13.46827220916748,
          15.578496932983398,
          13.621947288513184,
          17.024141311645508,
          17.98422622680664,
          14.328208923339844,
          14.328144073486328,
          17.8670597076416,
          18.56464385986328,
          18.01533317565918,
          11.400479316711426,
          17.22585105895996,
          13.492311477661133,
          11.52360725402832,
          15.35603141784668,
          11.565083503723145,
          17.265522003173828,
          14.037607192993164,
          12.778824806213379,
          10.926671981811523,
          14.030770301818848,
          15.163877487182617,
          15.172711372375488,
          11.668299674987793,
          11.63631820678711,
          14.67431640625,
          12.324687957763672,
          16.84430503845215,
          11.38851547241211,
          11.389490127563477,
          13.562503814697266,
          11.3760404586792,
          17.25564956665039,
          17.162092208862305,
          12.46980094909668,
          14.721040725708008,
          13.433785438537598,
          16.810007095336914,
          11.204737663269043,
          11.97732925415039,
          11.385822296142578,
          17.87745475769043,
          16.622316360473633,
          13.366835594177246,
          13.515417098999023,
          15.078446388244629,
          15.084754943847656,
          16.8547420501709,
          17.330949783325195,
          11.228864669799805,
          15.634459495544434,
          14.787691116333008,
          11.741271018981934,
          15.265752792358398,
          13.646590232849121,
          11.569740295410156,
          16.111886978149414,
          12.14609146118164,
          13.383291244506836,
          18.331369400024414,
          13.6624755859375,
          12.923290252685547,
          15.402135848999023,
          17.996936798095703,
          17.374496459960938,
          13.124685287475586,
          17.903635025024414,
          13.958144187927246,
          14.944923400878906,
          12.316508293151855,
          14.1614990234375,
          12.606149673461914,
          16.844770431518555,
          12.33578109741211,
          17.722030639648438,
          15.126779556274414,
          14.009151458740234,
          15.098759651184082,
          17.210262298583984,
          14.53152847290039,
          11.108587265014648,
          11.415780067443848,
          17.726530075073242,
          13.430157661437988,
          15.17680549621582,
          12.643230438232422,
          15.176901817321777,
          17.52047348022461,
          13.598958969116211,
          16.057125091552734,
          13.774691581726074,
          11.466170310974121,
          11.68575668334961,
          15.516359329223633,
          15.170804023742676,
          15.645967483520508,
          10.889848709106445,
          15.37859058380127,
          12.298064231872559,
          17.23831558227539,
          12.717829704284668,
          17.79840660095215,
          15.518853187561035,
          15.508888244628906,
          10.987196922302246,
          16.389083862304688,
          13.25097942352295,
          14.986189842224121,
          13.634626388549805,
          14.217154502868652,
          17.624696731567383,
          17.344663619995117,
          12.382787704467773,
          11.776333808898926,
          14.885807991027832,
          11.01081657409668,
          12.902355194091797,
          12.641280174255371,
          15.689074516296387,
          12.34813117980957,
          16.19281005859375,
          16.3901424407959,
          12.686088562011719,
          16.227293014526367,
          16.134279251098633,
          16.855192184448242,
          12.234702110290527,
          12.269510269165039,
          16.258615493774414,
          18.07096290588379,
          15.470816612243652,
          14.163511276245117,
          10.920541763305664,
          16.25205421447754,
          14.891298294067383,
          10.944483757019043,
          11.231565475463867,
          11.512311935424805,
          12.851879119873047,
          12.763106346130371,
          14.477092742919922,
          16.463476181030273,
          14.573908805847168,
          12.482041358947754,
          15.316734313964844,
          14.58377456665039,
          15.164328575134277,
          13.055164337158203,
          11.578782081604004,
          15.09865951538086,
          11.480655670166016,
          15.631230354309082,
          11.40764331817627,
          16.520355224609375,
          12.533121109008789,
          14.968284606933594,
          18.090333938598633,
          12.73425006866455,
          14.070231437683105,
          13.083763122558594,
          11.080009460449219,
          17.357624053955078,
          11.025214195251465,
          16.00079345703125,
          12.920022010803223,
          12.38044261932373,
          18.53891944885254,
          13.889260292053223,
          11.102338790893555,
          15.031440734863281,
          18.242591857910156,
          14.677812576293945,
          14.406580924987793,
          12.87865924835205,
          16.61975860595703,
          13.341075897216797,
          13.464314460754395,
          12.238178253173828,
          13.250272750854492,
          15.013163566589355,
          11.468047142028809,
          11.541656494140625,
          13.714873313903809,
          16.806421279907227,
          11.022346496582031,
          14.914912223815918,
          16.615385055541992,
          13.224810600280762,
          10.958932876586914,
          18.49501609802246,
          11.37893295288086,
          12.966181755065918,
          12.296112060546875,
          11.303617477416992,
          16.28978729248047,
          17.91698455810547,
          11.16417407989502,
          18.448375701904297,
          12.359884262084961,
          14.05040454864502,
          15.694793701171875,
          12.995501518249512,
          13.66433048248291,
          13.525928497314453,
          14.412836074829102,
          15.419001579284668,
          13.249835968017578,
          18.396135330200195,
          13.66085147857666,
          18.442115783691406,
          14.815569877624512,
          15.76198959350586,
          12.411079406738281,
          11.758794784545898,
          12.846076965332031,
          16.242908477783203,
          17.724769592285156,
          12.79393482208252,
          14.773481369018555,
          15.458988189697266,
          13.715326309204102,
          16.854793548583984,
          16.29024887084961,
          13.456168174743652,
          14.273371696472168,
          11.87629222869873,
          15.096993446350098,
          13.326800346374512,
          13.919922828674316,
          11.764345169067383,
          11.088738441467285,
          13.80585765838623,
          13.404218673706055,
          16.890710830688477,
          15.153779029846191,
          16.309967041015625,
          15.690685272216797,
          13.832335472106934,
          11.580259323120117,
          15.155776977539062,
          10.877002716064453,
          15.446928024291992,
          11.454007148742676,
          12.990941047668457,
          15.203143119812012,
          13.69159984588623,
          14.989143371582031,
          15.027017593383789,
          18.000690460205078,
          14.326745986938477,
          18.417808532714844,
          15.119243621826172,
          16.846452713012695,
          14.187917709350586,
          14.188569068908691,
          16.568389892578125,
          17.41176414489746,
          12.79116153717041,
          11.436758995056152,
          13.344000816345215,
          14.34528636932373,
          15.179828643798828,
          16.107446670532227,
          13.435555458068848,
          13.641400337219238,
          18.317867279052734,
          11.434253692626953,
          16.766252517700195,
          14.18382453918457,
          13.040665626525879,
          13.64300537109375,
          13.3043212890625,
          13.936776161193848,
          11.918769836425781,
          13.079421997070312,
          15.740588188171387,
          15.640586853027344,
          14.025322914123535,
          14.325189590454102,
          15.648411750793457,
          12.991615295410156,
          15.009257316589355,
          17.68703269958496,
          12.955331802368164,
          11.750706672668457,
          13.806683540344238,
          15.060154914855957,
          11.664523124694824,
          11.217975616455078,
          12.537025451660156,
          15.65967082977295,
          17.833763122558594,
          12.997818946838379,
          16.061405181884766,
          12.349406242370605,
          15.000490188598633,
          13.018169403076172,
          17.1851806640625,
          13.064784049987793,
          13.845748901367188,
          17.22408103942871,
          15.528793334960938,
          12.855003356933594,
          10.963665008544922,
          14.865534782409668,
          13.506808280944824,
          15.956283569335938,
          15.09080696105957,
          15.882551193237305,
          18.003108978271484,
          11.323417663574219,
          14.41734790802002,
          12.669266700744629,
          11.352039337158203,
          13.616865158081055,
          12.11638355255127,
          12.853509902954102,
          15.682954788208008,
          13.250131607055664,
          15.176017761230469,
          15.039633750915527,
          12.44666576385498,
          17.49124526977539,
          13.553531646728516,
          17.750370025634766,
          15.00070858001709,
          11.421432495117188,
          17.981746673583984,
          17.969072341918945,
          15.482000350952148,
          13.781367301940918,
          15.96854019165039,
          12.110051155090332,
          16.760482788085938,
          16.634634017944336,
          12.909852027893066,
          13.049967765808105,
          11.502127647399902,
          14.469281196594238,
          14.198748588562012,
          17.895999908447266,
          16.509754180908203,
          11.049049377441406,
          11.512052536010742,
          11.85098648071289,
          11.248100280761719,
          11.663458824157715,
          13.164521217346191,
          11.448201179504395,
          11.199543952941895,
          13.480618476867676,
          14.558445930480957,
          14.17180061340332,
          13.475180625915527,
          11.24734878540039,
          13.295228004455566,
          16.985088348388672,
          15.19494342803955,
          14.414447784423828,
          13.162681579589844,
          11.978107452392578,
          11.858318328857422,
          14.009051322937012,
          14.496219635009766,
          11.3533296585083,
          15.315171241760254,
          11.044795989990234,
          11.15951919555664,
          15.203277587890625,
          13.00696849822998,
          15.183218002319336,
          12.614692687988281,
          12.320823669433594,
          13.385503768920898,
          10.912903785705566,
          11.529414176940918,
          15.605440139770508,
          12.327352523803711,
          12.94412899017334,
          16.68012809753418,
          15.01992416381836,
          12.471060752868652,
          13.176539421081543,
          16.288959503173828,
          13.701825141906738,
          13.032404899597168,
          13.605573654174805,
          13.106776237487793,
          12.233545303344727,
          15.055558204650879,
          15.09160327911377,
          11.562963485717773,
          10.999428749084473,
          16.196239471435547,
          16.09797477722168,
          13.340715408325195,
          15.008304595947266,
          12.705601692199707,
          12.797260284423828,
          13.402372360229492,
          11.800957679748535,
          13.591670989990234,
          15.626338958740234,
          12.925901412963867,
          16.208969116210938,
          11.123848915100098,
          15.497886657714844,
          11.039730072021484,
          16.20876121520996,
          14.99705696105957,
          12.4422025680542,
          13.645560264587402,
          18.027576446533203,
          17.076889038085938,
          13.338845252990723,
          13.414690971374512,
          18.337833404541016,
          12.495011329650879,
          14.00264835357666,
          15.430453300476074,
          13.993437767028809,
          11.884339332580566,
          15.003182411193848,
          11.96409797668457,
          13.821320533752441,
          15.264671325683594,
          11.251456260681152,
          17.74552345275879,
          15.548714637756348,
          16.06907081604004,
          15.32886028289795,
          13.28255558013916,
          11.31262493133545,
          13.314119338989258,
          12.617846488952637,
          11.426097869873047,
          13.407651901245117,
          15.04687213897705,
          15.510468482971191,
          15.059109687805176,
          13.90568733215332,
          11.152299880981445,
          14.275786399841309,
          12.826751708984375,
          13.453699111938477,
          13.832257270812988,
          16.16598129272461,
          12.782312393188477,
          16.864694595336914,
          12.745911598205566,
          14.482733726501465,
          12.853381156921387,
          14.07732105255127,
          18.331045150756836,
          13.444643020629883,
          15.493680000305176,
          16.275293350219727,
          17.129953384399414,
          13.405024528503418,
          15.683063507080078,
          15.266668319702148,
          11.389934539794922,
          14.133352279663086,
          11.55877685546875,
          13.543905258178711,
          11.620267868041992,
          14.533909797668457,
          11.230401992797852,
          14.551283836364746,
          17.364795684814453,
          12.15605354309082,
          16.196834564208984,
          11.787521362304688,
          12.922260284423828,
          15.522721290588379,
          17.36808967590332,
          13.38347053527832,
          17.28258514404297,
          15.217682838439941,
          12.831686973571777,
          11.58767032623291,
          13.081222534179688,
          11.482544898986816,
          16.204395294189453,
          13.598614692687988,
          13.43620777130127,
          13.28332233428955,
          15.534224510192871,
          13.535383224487305,
          15.475668907165527,
          12.983461380004883,
          16.059505462646484,
          14.09288501739502,
          11.00212287902832,
          11.1585693359375,
          17.705652236938477,
          14.5062894821167,
          15.193872451782227,
          12.83275318145752,
          11.063627243041992,
          11.22970199584961,
          13.01956558227539,
          11.474742889404297,
          17.996593475341797,
          15.098689079284668,
          15.854864120483398,
          15.678669929504395,
          12.823569297790527,
          12.7549409866333,
          11.958246231079102,
          13.985472679138184,
          11.496755599975586,
          12.683266639709473,
          15.145650863647461,
          11.486774444580078,
          15.526856422424316,
          15.23554801940918,
          15.519139289855957,
          15.505446434020996,
          15.173338890075684,
          13.886908531188965,
          15.053075790405273,
          12.496859550476074,
          12.994882583618164,
          17.23082160949707,
          17.827421188354492,
          10.944304466247559,
          13.916168212890625,
          11.337136268615723,
          12.978477478027344,
          12.854461669921875,
          13.935368537902832,
          11.029436111450195,
          11.6096830368042,
          11.334977149963379,
          14.015548706054688,
          15.304008483886719,
          10.839925765991211,
          12.690764427185059,
          16.22163963317871,
          11.222251892089844,
          15.773103713989258,
          15.456067085266113,
          14.87608528137207,
          15.959575653076172,
          11.642110824584961,
          15.695779800415039,
          15.263158798217773,
          11.873946189880371,
          13.394125938415527,
          13.040876388549805,
          13.466697692871094,
          16.807861328125,
          11.902020454406738,
          17.29897689819336,
          16.190631866455078,
          13.287774085998535,
          12.255866050720215,
          14.25081729888916,
          13.661050796508789,
          16.68759536743164,
          14.673818588256836,
          14.49237060546875,
          15.709383010864258,
          12.45318603515625,
          15.380664825439453,
          17.713459014892578,
          13.375564575195312,
          14.994678497314453,
          12.415223121643066,
          16.6634578704834,
          12.72379207611084,
          16.305334091186523,
          10.957527160644531,
          12.706135749816895,
          15.286048889160156,
          17.527528762817383,
          17.18243408203125,
          13.558870315551758,
          11.461009979248047,
          15.851981163024902,
          15.286738395690918,
          12.044332504272461,
          12.848137855529785,
          11.192435264587402,
          13.662004470825195,
          13.443474769592285,
          12.879024505615234,
          11.688241004943848,
          12.32024097442627,
          15.628806114196777,
          15.705711364746094,
          11.241954803466797,
          12.77118968963623,
          13.52250862121582,
          11.499367713928223,
          11.041781425476074,
          13.571091651916504,
          18.00920867919922,
          15.822266578674316,
          14.489553451538086,
          11.522241592407227,
          13.223153114318848,
          11.128935813903809,
          11.22473430633545,
          11.459728240966797,
          15.238886833190918,
          11.509492874145508,
          17.34963035583496,
          13.989190101623535,
          17.237464904785156,
          18.53470230102539,
          15.32354736328125,
          11.2789306640625,
          14.485047340393066,
          17.86875343322754,
          14.784286499023438,
          13.512930870056152,
          11.184199333190918,
          13.119821548461914,
          13.337235450744629,
          13.427435874938965,
          12.82448959350586,
          12.409351348876953,
          17.39101219177246,
          15.060555458068848,
          11.428059577941895,
          11.765519142150879,
          15.892465591430664,
          10.898932456970215,
          12.473827362060547,
          10.923900604248047,
          18.57858657836914,
          11.917915344238281,
          15.593140602111816,
          17.597740173339844,
          11.031867027282715,
          18.17438316345215,
          11.273538589477539,
          14.234031677246094,
          16.1800537109375,
          11.5543794631958,
          13.599797248840332,
          18.414127349853516,
          18.472482681274414,
          15.7153902053833,
          15.607002258300781,
          15.497506141662598,
          12.65046501159668,
          11.814116477966309,
          12.699161529541016,
          16.80650520324707,
          13.330851554870605,
          11.374739646911621,
          14.74689769744873,
          15.899024963378906,
          15.694798469543457,
          16.152494430541992,
          14.408219337463379,
          11.894937515258789,
          15.154608726501465,
          13.892130851745605,
          13.930536270141602,
          10.947114944458008,
          15.48234748840332,
          11.373095512390137,
          13.124238014221191,
          13.350908279418945,
          11.23803424835205,
          14.50783634185791,
          16.523141860961914,
          16.446748733520508,
          16.134136199951172,
          15.363166809082031,
          17.326871871948242,
          15.487666130065918,
          17.31561279296875,
          15.263575553894043,
          13.789680480957031,
          14.862061500549316,
          14.059691429138184,
          11.37457275390625,
          13.31728744506836,
          13.112407684326172,
          12.229735374450684,
          16.219146728515625,
          12.875778198242188,
          11.129545211791992,
          16.060304641723633,
          15.192270278930664,
          16.136030197143555,
          12.602452278137207,
          15.7291841506958,
          17.214595794677734,
          12.050520896911621,
          11.150455474853516,
          13.490626335144043,
          16.127674102783203,
          13.150896072387695,
          13.52188491821289,
          12.351361274719238,
          11.997727394104004,
          15.101335525512695,
          17.743131637573242,
          17.966693878173828,
          12.230023384094238,
          13.816699981689453,
          13.544929504394531,
          15.336806297302246,
          14.939530372619629,
          13.418628692626953,
          12.757782936096191,
          15.244260787963867,
          13.534723281860352,
          15.567291259765625,
          13.551676750183105,
          16.481420516967773,
          14.162703514099121,
          13.46039867401123,
          12.783400535583496,
          16.236248016357422,
          17.171188354492188,
          17.793415069580078,
          15.11512279510498,
          17.621549606323242,
          14.38746166229248,
          12.418045043945312,
          12.468843460083008,
          17.478300094604492,
          15.271964073181152,
          13.434751510620117,
          18.344038009643555,
          12.232073783874512,
          14.602545738220215,
          12.262112617492676,
          11.841591835021973,
          12.77645206451416,
          12.931492805480957,
          14.40941047668457,
          17.276386260986328,
          17.33675765991211,
          15.895551681518555,
          13.92074966430664,
          15.298404693603516,
          14.82209587097168,
          10.947690963745117,
          15.626449584960938,
          17.30760955810547,
          10.929962158203125,
          16.17392349243164,
          17.79170036315918,
          17.70901107788086,
          15.609562873840332,
          12.296051025390625,
          15.115419387817383,
          11.035453796386719,
          11.066319465637207,
          10.958728790283203,
          11.40959358215332,
          16.621929168701172,
          15.42134952545166,
          15.175045013427734,
          17.496047973632812,
          12.494131088256836,
          15.057247161865234,
          13.718096733093262,
          16.4152774810791,
          15.415857315063477,
          15.0961275100708,
          16.09278106689453,
          11.349864959716797,
          16.874807357788086,
          10.963088989257812,
          16.684057235717773,
          14.616952896118164,
          13.92332649230957,
          10.98769760131836,
          13.462474822998047,
          17.306636810302734,
          15.573259353637695,
          13.031209945678711,
          12.8506441116333,
          12.901084899902344,
          11.1842622756958,
          15.134031295776367,
          15.300700187683105,
          14.318099975585938,
          11.252762794494629,
          11.389551162719727,
          16.14920997619629,
          15.576708793640137,
          10.867429733276367,
          16.741863250732422,
          13.08084774017334,
          15.801056861877441,
          15.24051570892334,
          13.399988174438477,
          13.800225257873535,
          15.618003845214844,
          13.39978313446045,
          17.276851654052734,
          11.00162124633789,
          15.583630561828613,
          14.875614166259766,
          17.975173950195312,
          12.429837226867676,
          17.976089477539062,
          15.339253425598145,
          13.619622230529785,
          12.306995391845703,
          11.613668441772461,
          14.568053245544434,
          12.502870559692383,
          13.523900985717773,
          13.52565860748291,
          16.234203338623047,
          11.764458656311035,
          17.376623153686523,
          12.769773483276367,
          13.395869255065918,
          18.451066970825195,
          16.387720108032227,
          13.493391990661621,
          11.207208633422852,
          18.470630645751953,
          18.301956176757812,
          14.925843238830566,
          11.086880683898926,
          18.423479080200195,
          17.481657028198242,
          16.83585548400879,
          13.402359008789062,
          11.963537216186523,
          15.160844802856445,
          14.165407180786133,
          12.756227493286133,
          12.251850128173828,
          13.220955848693848,
          15.093390464782715,
          15.218420028686523,
          13.542457580566406,
          13.928925514221191,
          17.95953369140625,
          13.678038597106934,
          12.504241943359375,
          16.13201141357422
         ],
         "xaxis": "x",
         "y": [
          11.57730484008789,
          9.183829307556152,
          5.970569610595703,
          9.11075496673584,
          6.000087261199951,
          9.851109504699707,
          8.503488540649414,
          9.543424606323242,
          9.241616249084473,
          8.332252502441406,
          11.34427547454834,
          12.139541625976562,
          11.522802352905273,
          9.193159103393555,
          11.632794380187988,
          11.534382820129395,
          10.340710639953613,
          8.971466064453125,
          5.496462345123291,
          8.581104278564453,
          6.0643839836120605,
          10.825243949890137,
          6.922867774963379,
          7.284987926483154,
          7.915891170501709,
          9.233717918395996,
          8.351472854614258,
          9.210798263549805,
          7.478514671325684,
          9.492424964904785,
          11.516871452331543,
          7.8471455574035645,
          7.287993907928467,
          8.46078872680664,
          9.911328315734863,
          6.737115383148193,
          9.191731452941895,
          9.940141677856445,
          8.362838745117188,
          8.136780738830566,
          8.33671760559082,
          10.16300106048584,
          8.201541900634766,
          8.571727752685547,
          6.418215751647949,
          9.39886474609375,
          10.271767616271973,
          9.471842765808105,
          8.879674911499023,
          7.95797061920166,
          12.995401382446289,
          10.338221549987793,
          8.075512886047363,
          7.003921985626221,
          8.031204223632812,
          8.305659294128418,
          7.953508377075195,
          13.045014381408691,
          11.733156204223633,
          7.749231338500977,
          6.9357476234436035,
          9.218145370483398,
          9.427206039428711,
          8.602107048034668,
          6.64612340927124,
          10.150162696838379,
          7.732921600341797,
          9.543863296508789,
          8.436847686767578,
          11.394214630126953,
          9.153252601623535,
          9.415985107421875,
          9.254064559936523,
          11.236441612243652,
          6.002945423126221,
          8.714863777160645,
          6.969573497772217,
          11.729092597961426,
          10.089308738708496,
          11.885689735412598,
          8.41318130493164,
          8.226059913635254,
          9.52774715423584,
          7.1846699714660645,
          10.061660766601562,
          11.914063453674316,
          8.55836296081543,
          9.875653266906738,
          12.604607582092285,
          8.905475616455078,
          9.296127319335938,
          8.569201469421387,
          6.794373035430908,
          9.774107933044434,
          8.993440628051758,
          9.212780952453613,
          8.003175735473633,
          10.01376724243164,
          6.864197731018066,
          10.10387134552002,
          9.12800121307373,
          8.70504093170166,
          13.005292892456055,
          10.228018760681152,
          8.483654975891113,
          7.878958702087402,
          9.653766632080078,
          11.940369606018066,
          9.40904426574707,
          10.914270401000977,
          12.973103523254395,
          9.908945083618164,
          6.813657283782959,
          7.901415824890137,
          5.789946556091309,
          9.503421783447266,
          8.997292518615723,
          11.026124000549316,
          9.682148933410645,
          9.221844673156738,
          7.662802696228027,
          8.270957946777344,
          11.427465438842773,
          5.075870990753174,
          12.156526565551758,
          8.662505149841309,
          9.977436065673828,
          9.368805885314941,
          6.8119354248046875,
          5.081500053405762,
          7.966277122497559,
          5.708476543426514,
          8.075081825256348,
          8.782587051391602,
          7.754331588745117,
          8.92779541015625,
          9.130300521850586,
          11.588448524475098,
          11.995223045349121,
          7.446460247039795,
          13.413092613220215,
          10.143819808959961,
          9.422310829162598,
          6.900869369506836,
          10.332013130187988,
          6.040703773498535,
          8.662936210632324,
          11.571227073669434,
          11.836860656738281,
          5.099456787109375,
          5.8689703941345215,
          8.051553726196289,
          8.50241470336914,
          7.523531436920166,
          9.848206520080566,
          9.8894681930542,
          8.528299331665039,
          7.6023688316345215,
          8.565268516540527,
          9.926553726196289,
          6.576971054077148,
          11.096789360046387,
          8.15481948852539,
          12.007223129272461,
          11.924346923828125,
          11.737409591674805,
          7.060980319976807,
          8.141454696655273,
          7.407462120056152,
          11.439229011535645,
          9.245945930480957,
          13.343997955322266,
          6.354207992553711,
          7.531314849853516,
          8.267821311950684,
          8.816431045532227,
          8.24507999420166,
          9.290595054626465,
          6.159844398498535,
          6.686351299285889,
          10.072343826293945,
          10.130590438842773,
          11.602997779846191,
          9.33368968963623,
          7.8678178787231445,
          8.652607917785645,
          8.925581932067871,
          8.080117225646973,
          11.629786491394043,
          9.228256225585938,
          12.015856742858887,
          9.9824800491333,
          6.672252655029297,
          6.940853595733643,
          7.576788425445557,
          12.992559432983398,
          6.197681903839111,
          12.516180992126465,
          9.110560417175293,
          9.270012855529785,
          11.564526557922363,
          11.545938491821289,
          9.821331024169922,
          8.924966812133789,
          9.834111213684082,
          5.502832889556885,
          10.266425132751465,
          12.488137245178223,
          5.324812412261963,
          10.12790584564209,
          5.375547885894775,
          8.455488204956055,
          8.4431791305542,
          9.526219367980957,
          7.903886795043945,
          7.981459617614746,
          8.486549377441406,
          5.848360061645508,
          7.24291467666626,
          8.674642562866211,
          11.058307647705078,
          12.608160972595215,
          9.250524520874023,
          5.4505534172058105,
          8.452089309692383,
          8.66515827178955,
          7.094322681427002,
          10.259719848632812,
          10.356608390808105,
          12.45832633972168,
          8.077312469482422,
          12.584647178649902,
          9.215584754943848,
          6.921172618865967,
          8.553959846496582,
          8.449888229370117,
          8.66494369506836,
          11.087566375732422,
          8.057750701904297,
          11.902900695800781,
          10.08443546295166,
          5.923527240753174,
          12.15312671661377,
          10.316490173339844,
          6.2490057945251465,
          9.023512840270996,
          8.700666427612305,
          7.931302070617676,
          9.409132957458496,
          12.503904342651367,
          8.476336479187012,
          10.055351257324219,
          7.436690330505371,
          7.423163414001465,
          9.349347114562988,
          7.103735446929932,
          9.425710678100586,
          6.329893589019775,
          9.827289581298828,
          8.140508651733398,
          9.246556282043457,
          9.656335830688477,
          6.973448753356934,
          8.54538345336914,
          12.613975524902344,
          11.410021781921387,
          7.89027214050293,
          12.112570762634277,
          7.31430196762085,
          8.136157035827637,
          7.6740193367004395,
          8.307246208190918,
          9.879219055175781,
          8.36104679107666,
          9.886119842529297,
          9.379196166992188,
          5.6043806076049805,
          8.170379638671875,
          13.06447982788086,
          5.99757194519043,
          11.600448608398438,
          7.787303924560547,
          8.387508392333984,
          13.017036437988281,
          11.547491073608398,
          13.348761558532715,
          10.155413627624512,
          5.926113128662109,
          9.678506851196289,
          8.758420944213867,
          10.132121086120605,
          7.759003162384033,
          7.863995552062988,
          7.261803150177002,
          8.634490966796875,
          11.689920425415039,
          8.186142921447754,
          6.182733535766602,
          7.9367194175720215,
          4.992568492889404,
          8.66348648071289,
          11.786905288696289,
          8.564739227294922,
          11.902754783630371,
          9.405734062194824,
          8.330192565917969,
          10.283554077148438,
          7.705441951751709,
          8.044163703918457,
          5.932878017425537,
          9.290472030639648,
          9.106815338134766,
          7.314627170562744,
          8.826909065246582,
          7.3919453620910645,
          11.308720588684082,
          11.440473556518555,
          7.791372776031494,
          11.421104431152344,
          9.098321914672852,
          9.294931411743164,
          12.68242073059082,
          8.858722686767578,
          11.513134956359863,
          9.161816596984863,
          7.91240119934082,
          8.448966026306152,
          7.9334821701049805,
          8.577609062194824,
          11.009148597717285,
          4.987067699432373,
          5.9686455726623535,
          5.273926258087158,
          11.357049942016602,
          11.442293167114258,
          9.687792778015137,
          8.537667274475098,
          8.09235954284668,
          7.0628485679626465,
          11.601009368896484,
          9.267077445983887,
          7.826478004455566,
          7.44854736328125,
          8.667611122131348,
          7.930282115936279,
          5.37084436416626,
          9.035444259643555,
          5.765481948852539,
          11.008260726928711,
          10.238336563110352,
          10.94572925567627,
          9.750049591064453,
          11.85810661315918,
          8.400856018066406,
          9.660386085510254,
          9.254733085632324,
          8.40327262878418,
          7.913390159606934,
          10.224006652832031,
          9.353326797485352,
          6.672469139099121,
          8.918658256530762,
          11.455689430236816,
          9.420928955078125,
          5.924134254455566,
          9.583917617797852,
          9.916701316833496,
          11.680171966552734,
          9.080175399780273,
          11.980447769165039,
          8.067527770996094,
          12.963778495788574,
          6.758863925933838,
          11.709169387817383,
          9.086063385009766,
          9.918697357177734,
          10.007452964782715,
          7.078852653503418,
          12.09951400756836,
          7.139750003814697,
          11.069872856140137,
          11.09424877166748,
          12.35839557647705,
          5.07883358001709,
          8.934717178344727,
          7.157657146453857,
          6.618296146392822,
          12.633881568908691,
          6.036628723144531,
          11.557056427001953,
          9.224440574645996,
          9.363842964172363,
          8.98595905303955,
          8.880241394042969,
          7.4554762840271,
          6.11767053604126,
          11.472880363464355,
          13.282221794128418,
          12.925270080566406,
          10.004064559936523,
          7.978679656982422,
          7.966915607452393,
          9.113574981689453,
          13.363253593444824,
          9.229576110839844,
          11.063989639282227,
          9.174915313720703,
          6.619303226470947,
          7.9061970710754395,
          8.087068557739258,
          11.461835861206055,
          8.230910301208496,
          11.554929733276367,
          11.035445213317871,
          10.209565162658691,
          13.234307289123535,
          9.128087997436523,
          8.937268257141113,
          12.486527442932129,
          9.618949890136719,
          8.55121898651123,
          5.84993839263916,
          11.979122161865234,
          7.819196701049805,
          7.929048538208008,
          6.1177473068237305,
          13.347491264343262,
          11.876530647277832,
          9.205625534057617,
          5.993170261383057,
          8.69288158416748,
          6.317781925201416,
          11.400479316711426,
          7.006780624389648,
          8.375104904174805,
          7.842925071716309,
          8.087289810180664,
          10.03946304321289,
          9.821104049682617,
          8.579800605773926,
          7.0201826095581055,
          11.019174575805664,
          5.958933353424072,
          9.79422378540039,
          9.39830493927002,
          9.34790325164795,
          11.508237838745117,
          9.220830917358398,
          11.531031608581543,
          8.204399108886719,
          11.063982009887695,
          10.188210487365723,
          9.475834846496582,
          5.580463886260986,
          7.296426296234131,
          11.69406509399414,
          5.814542770385742,
          10.158527374267578,
          13.051046371459961,
          12.584559440612793,
          9.266181945800781,
          5.511270046234131,
          12.029580116271973,
          11.380168914794922,
          11.273045539855957,
          13.135515213012695,
          8.287582397460938,
          7.829657554626465,
          7.233306884765625,
          9.893845558166504,
          8.94165325164795,
          6.04999303817749,
          8.265111923217773,
          11.331246376037598,
          10.226339340209961,
          12.09721851348877,
          5.785994529724121,
          8.237747192382812,
          9.620612144470215,
          6.984317302703857,
          11.917325019836426,
          9.061026573181152,
          5.806715965270996,
          8.070676803588867,
          7.539785385131836,
          6.115088939666748,
          8.448505401611328,
          9.812657356262207,
          8.650548934936523,
          7.417032241821289,
          5.936989784240723,
          11.21992301940918,
          10.126813888549805,
          7.51422643661499,
          6.973557949066162,
          8.663949966430664,
          6.225881099700928,
          11.521451950073242,
          5.096042156219482,
          7.497487545013428,
          11.865668296813965,
          10.197372436523438,
          9.860184669494629,
          10.058682441711426,
          9.771843910217285,
          7.063354015350342,
          11.707448959350586,
          10.425493240356445,
          9.93894100189209,
          12.58195686340332,
          8.183806419372559,
          9.29894733428955,
          6.104477405548096,
          11.794700622558594,
          10.048128128051758,
          7.658476829528809,
          7.245724201202393,
          8.194003105163574,
          11.733619689941406,
          8.111564636230469,
          9.21041488647461,
          7.129463195800781,
          9.269619941711426,
          9.777194023132324,
          9.209678649902344,
          13.309670448303223,
          8.65948486328125,
          9.2160005569458,
          11.06489372253418,
          11.103109359741211,
          10.447308540344238,
          7.5008625984191895,
          8.560616493225098,
          11.670171737670898,
          8.678078651428223,
          9.225037574768066,
          11.048519134521484,
          5.071602821350098,
          5.695625305175781,
          7.786853313446045,
          7.102488994598389,
          8.448162078857422,
          9.365731239318848,
          8.557884216308594,
          5.032533645629883,
          12.593368530273438,
          11.181317329406738,
          11.379375457763672,
          7.391213893890381,
          6.828775882720947,
          7.428877830505371,
          9.11911392211914,
          9.159759521484375,
          11.662495613098145,
          11.69346809387207,
          8.555177688598633,
          5.906701564788818,
          11.953046798706055,
          9.912446022033691,
          8.544873237609863,
          6.10603141784668,
          6.137949466705322,
          9.346512794494629,
          11.486700057983398,
          9.468825340270996,
          5.90056848526001,
          7.90446662902832,
          12.59666919708252,
          11.703475952148438,
          7.834606647491455,
          7.179206371307373,
          6.2425127029418945,
          12.607032775878906,
          9.06766414642334,
          11.088011741638184,
          6.000843048095703,
          7.689638137817383,
          9.305670738220215,
          11.57168960571289,
          13.309500694274902,
          7.440539836883545,
          13.078190803527832,
          7.44234037399292,
          12.678043365478516,
          7.900381565093994,
          9.162081718444824,
          8.466232299804688,
          7.843564510345459,
          8.728575706481934,
          10.163376808166504,
          7.615894317626953,
          9.182413101196289,
          10.332663536071777,
          11.007462501525879,
          11.746662139892578,
          7.877058029174805,
          6.937530994415283,
          9.012974739074707,
          9.723786354064941,
          10.052001953125,
          9.392632484436035,
          9.350628852844238,
          6.149117469787598,
          8.626056671142578,
          8.084421157836914,
          7.09591817855835,
          12.943272590637207,
          9.777498245239258,
          10.17090129852295,
          8.113540649414062,
          8.230169296264648,
          9.511567115783691,
          6.597808837890625,
          12.068093299865723,
          6.302844047546387,
          7.730716705322266,
          8.094036102294922,
          9.956185340881348,
          7.907581329345703,
          6.769194602966309,
          11.556105613708496,
          7.051255226135254,
          8.263044357299805,
          7.925218105316162,
          10.110128402709961,
          9.57498836517334,
          11.869534492492676,
          6.125455856323242,
          8.282890319824219,
          7.515233516693115,
          5.157098293304443,
          7.376229286193848,
          9.906842231750488,
          6.2515869140625,
          5.953428268432617,
          13.284100532531738,
          5.047696113586426,
          11.345696449279785,
          9.300643920898438,
          7.6100568771362305,
          13.291426658630371,
          11.305892944335938,
          11.397552490234375,
          12.168832778930664,
          11.828743934631348,
          9.325983047485352,
          11.367792129516602,
          11.434083938598633,
          9.460501670837402,
          12.45709228515625,
          8.046862602233887,
          11.50954532623291,
          10.234275817871094,
          11.925278663635254,
          9.983967781066895,
          11.502674102783203,
          5.620645046234131,
          7.759980201721191,
          5.501635551452637,
          12.510478973388672,
          5.8876872062683105,
          9.963987350463867,
          6.234335899353027,
          9.187223434448242,
          8.394697189331055,
          9.152132034301758,
          11.3861665725708,
          5.838549613952637,
          9.695870399475098,
          9.497611045837402,
          8.253710746765137,
          8.218243598937988,
          8.62778377532959,
          7.875361919403076,
          6.59229850769043,
          5.2921319007873535,
          7.483247756958008,
          10.037616729736328,
          10.032095909118652,
          12.6625394821167,
          8.705428123474121,
          8.085738182067871,
          9.563653945922852,
          6.8204755783081055,
          7.961659908294678,
          7.325338840484619,
          10.164254188537598,
          11.897250175476074,
          5.157466411590576,
          6.1457438468933105,
          8.406731605529785,
          9.374082565307617,
          7.853003978729248,
          9.426892280578613,
          6.135837554931641,
          9.13228988647461,
          8.015677452087402,
          5.344484329223633,
          9.789060592651367,
          9.211563110351562,
          8.677827835083008,
          6.1167216300964355,
          6.61120080947876,
          10.331957817077637,
          9.20216178894043,
          7.781684875488281,
          5.583943843841553,
          10.431034088134766,
          7.909236907958984,
          8.501139640808105,
          9.517234802246094,
          9.353741645812988,
          9.466591835021973,
          8.151226997375488,
          5.89052677154541,
          11.661966323852539,
          5.911736488342285,
          7.586442947387695,
          7.435760974884033,
          10.290973663330078,
          8.252891540527344,
          7.798266887664795,
          12.008936882019043,
          9.925468444824219,
          9.192591667175293,
          9.648500442504883,
          12.02799129486084,
          7.923462867736816,
          8.343616485595703,
          9.95116901397705,
          7.585949897766113,
          11.575491905212402,
          9.428159713745117,
          10.402416229248047,
          9.996273040771484,
          9.499185562133789,
          8.749095916748047,
          10.229949951171875,
          7.732978343963623,
          10.079405784606934,
          6.950372219085693,
          10.114537239074707,
          8.924151420593262,
          7.962003707885742,
          6.800079822540283,
          9.648538589477539,
          11.86180591583252,
          12.107928276062012,
          9.180267333984375,
          8.087729454040527,
          11.40866756439209,
          6.655442714691162,
          9.028905868530273,
          9.606681823730469,
          8.497748374938965,
          12.02043628692627,
          11.12580680847168,
          9.360404968261719,
          9.226639747619629,
          7.105904579162598,
          10.250997543334961,
          8.24239730834961,
          12.508613586425781,
          5.930975437164307,
          7.16448450088501,
          10.968879699707031,
          9.499249458312988,
          11.582189559936523,
          7.948890209197998,
          10.410659790039062,
          11.570195198059082,
          8.280759811401367,
          8.258476257324219,
          6.925981521606445,
          10.04263687133789,
          9.050959587097168,
          11.511923789978027,
          8.677703857421875,
          8.183676719665527,
          7.12855339050293,
          11.89710521697998,
          11.892584800720215,
          7.332571983337402,
          5.929666519165039,
          7.218908309936523,
          6.1129536628723145,
          9.383223533630371,
          7.061933517456055,
          11.932209014892578,
          7.601675987243652,
          5.460984230041504,
          5.099287509918213,
          11.849699020385742,
          8.713252067565918,
          8.993475914001465,
          9.943488121032715,
          5.37855863571167,
          10.238720893859863,
          9.266376495361328,
          6.186441421508789,
          10.07487678527832,
          5.961589813232422,
          5.413165092468262,
          8.171478271484375,
          8.43874740600586,
          8.610237121582031,
          8.890416145324707,
          8.789947509765625,
          7.120655536651611,
          9.462336540222168,
          9.701159477233887,
          8.106622695922852,
          13.103537559509277,
          6.056243896484375,
          7.276228427886963,
          10.108439445495605,
          6.794553279876709,
          10.619270324707031,
          7.485532283782959,
          8.590595245361328,
          5.924723148345947,
          10.034830093383789,
          5.875123500823975,
          10.1171875,
          7.817909240722656,
          7.467670440673828,
          9.414546966552734,
          8.958428382873535,
          9.179498672485352,
          6.33572244644165,
          8.121842384338379,
          6.176848411560059,
          9.06374740600586,
          7.158196926116943,
          9.474275588989258,
          11.296171188354492,
          5.244605541229248,
          6.9714460372924805,
          9.148686408996582,
          8.917713165283203,
          10.389225959777832,
          6.3456244468688965,
          6.4361677169799805,
          10.399876594543457,
          7.778307914733887,
          11.579564094543457,
          12.104581832885742,
          7.37987756729126,
          9.839875221252441,
          11.149476051330566,
          8.699614524841309,
          6.139852046966553,
          11.386636734008789,
          9.519509315490723,
          9.28535270690918,
          6.508399963378906,
          11.4360933303833,
          11.782146453857422,
          9.306196212768555,
          6.235537052154541,
          6.86775541305542,
          7.283124923706055,
          11.798476219177246,
          6.094628810882568,
          9.502418518066406,
          8.580310821533203,
          8.691976547241211,
          10.055699348449707,
          7.8177385330200195,
          8.577995300292969,
          6.289883613586426,
          8.724571228027344,
          11.53874397277832,
          13.329216003417969,
          11.050762176513672,
          8.805754661560059,
          6.175017833709717,
          8.05372428894043,
          7.453579425811768,
          8.283598899841309,
          11.437498092651367,
          9.417947769165039,
          7.975547790527344,
          10.002541542053223,
          5.908756256103516,
          8.747021675109863,
          6.704057216644287,
          10.273186683654785,
          10.268841743469238,
          8.354473114013672,
          9.354796409606934,
          7.67323637008667,
          10.098301887512207,
          10.158543586730957,
          8.326692581176758,
          6.703511714935303,
          9.12646770477295,
          9.263470649719238,
          8.122544288635254,
          9.266325950622559,
          12.6825590133667,
          11.651328086853027,
          13.010856628417969,
          11.468741416931152,
          8.064247131347656,
          8.199674606323242,
          11.521080017089844,
          9.382174491882324,
          13.06418514251709,
          9.097946166992188,
          11.925328254699707,
          8.535578727722168,
          11.515899658203125,
          6.97361946105957,
          11.427129745483398,
          11.495071411132812,
          8.316276550292969,
          8.765199661254883,
          6.637836456298828,
          8.4630708694458,
          9.427151679992676,
          7.273399829864502,
          7.561154365539551,
          8.218517303466797,
          5.935023784637451,
          8.209545135498047,
          9.46509075164795,
          12.69830322265625,
          9.162985801696777,
          9.018311500549316,
          5.931110858917236,
          11.489116668701172,
          9.37728500366211,
          11.664956092834473,
          8.501444816589355,
          8.196643829345703,
          8.686363220214844,
          6.908087253570557,
          9.570874214172363,
          11.077383995056152,
          5.099714279174805,
          6.049196243286133,
          8.74494457244873,
          7.879969120025635,
          10.039316177368164,
          8.756166458129883,
          8.425315856933594,
          9.310884475708008,
          7.545206546783447,
          9.851361274719238,
          4.998596668243408,
          6.154263496398926,
          5.027722358703613,
          7.1657023429870605,
          9.161423683166504,
          6.368770122528076,
          11.5070161819458,
          8.233774185180664,
          7.150387763977051,
          10.128498077392578,
          7.036046981811523,
          8.534220695495605,
          6.207663536071777,
          7.776347637176514,
          8.754389762878418,
          7.024692535400391,
          9.111311912536621,
          9.353597640991211,
          9.269220352172852,
          9.923364639282227,
          7.904444217681885,
          7.755921840667725,
          12.608602523803711,
          8.696810722351074,
          6.228588581085205,
          12.262267112731934,
          8.176774024963379,
          7.36095666885376,
          7.175209999084473,
          5.8768534660339355,
          9.54455280303955,
          9.990484237670898,
          9.23452377319336,
          5.484835624694824,
          11.299641609191895,
          9.695596694946289,
          9.411103248596191,
          12.014751434326172,
          10.292089462280273,
          8.580093383789062,
          9.507827758789062,
          11.991362571716309,
          7.019261837005615,
          9.25831413269043,
          12.450689315795898,
          8.202004432678223,
          8.013561248779297,
          10.162005424499512,
          10.908953666687012,
          9.809622764587402,
          7.26248836517334,
          9.317344665527344,
          7.9146294593811035,
          13.029155731201172,
          7.340828895568848,
          8.40553092956543,
          9.26394271850586,
          7.08821439743042,
          6.787114143371582,
          11.922986030578613,
          9.992143630981445,
          5.886816024780273,
          8.564769744873047,
          11.409082412719727,
          12.430402755737305,
          9.258286476135254,
          11.229233741760254,
          13.005668640136719,
          8.12903881072998,
          8.939143180847168,
          9.285388946533203,
          10.009358406066895,
          6.084352970123291,
          9.415633201599121,
          8.399789810180664,
          12.1388578414917,
          7.5336384773254395,
          9.226814270019531,
          5.785717487335205,
          11.39299488067627,
          9.409616470336914,
          6.612654209136963,
          11.163603782653809,
          8.136626243591309,
          5.937596797943115,
          12.701570510864258,
          11.538915634155273,
          9.178915977478027,
          7.013438701629639,
          7.655853748321533,
          10.03361701965332
         ],
         "yaxis": "y"
        },
        {
         "hovertemplate": "Outlier<extra></extra>",
         "marker": {
          "color": "grey",
          "size": 1
         },
         "mode": "markers",
         "name": "Outliers",
         "type": "scattergl",
         "x": [
          12.538542747497559,
          15.71178913116455,
          15.408501625061035,
          13.563409805297852,
          11.68049144744873,
          18.453296661376953,
          15.286535263061523,
          18.256486892700195,
          13.016502380371094,
          15.319611549377441,
          11.249953269958496,
          17.99024772644043,
          10.580410957336426,
          12.648356437683105,
          14.152064323425293,
          18.251422882080078,
          16.5101375579834,
          15.342330932617188,
          14.810808181762695,
          13.15363597869873,
          12.298851013183594,
          12.292194366455078,
          13.420465469360352,
          14.205410957336426,
          18.04555320739746,
          14.26183795928955,
          13.69666576385498,
          18.630422592163086,
          13.310907363891602,
          13.774981498718262,
          12.47862720489502,
          11.466910362243652,
          11.549415588378906,
          13.847264289855957,
          16.756145477294922,
          15.430009841918945,
          13.944280624389648,
          12.676761627197266,
          18.425479888916016,
          12.243094444274902,
          13.6653470993042,
          11.935439109802246,
          18.07477569580078,
          11.703790664672852,
          14.25042724609375,
          12.371902465820312,
          14.793462753295898,
          11.906661987304688,
          14.22170639038086,
          14.192901611328125,
          14.115267753601074,
          14.217158317565918,
          12.870966911315918,
          10.705620765686035,
          13.035748481750488,
          10.613114356994629,
          14.584388732910156,
          15.113011360168457,
          12.75406551361084,
          16.397598266601562,
          12.731931686401367,
          14.845527648925781,
          12.791674613952637,
          14.16623592376709,
          11.724705696105957,
          13.242330551147461,
          18.479787826538086,
          13.164158821105957,
          17.99846649169922,
          14.489701271057129,
          17.990615844726562,
          14.354130744934082,
          12.869873046875,
          11.946317672729492,
          12.055832862854004,
          13.111207008361816,
          11.427105903625488,
          18.123262405395508,
          14.025691032409668,
          13.133916854858398,
          14.521614074707031,
          13.649765014648438,
          16.93288230895996,
          13.992995262145996,
          13.941214561462402,
          16.483867645263672,
          14.545332908630371,
          17.405168533325195,
          12.840222358703613,
          16.219810485839844,
          13.06383228302002,
          12.456727981567383,
          11.098094940185547,
          13.658671379089355,
          13.649453163146973,
          12.126477241516113,
          14.049962043762207,
          13.777329444885254,
          16.230043411254883,
          12.652997970581055,
          14.390290260314941,
          11.625370979309082,
          15.835286140441895,
          10.586627006530762,
          13.55009651184082,
          12.373920440673828,
          11.59593391418457,
          18.31584358215332,
          10.754576683044434,
          11.09329891204834,
          12.025983810424805,
          13.632502555847168,
          14.078042030334473,
          12.24100112915039,
          11.152934074401855,
          15.652840614318848,
          16.85901641845703,
          13.100571632385254,
          10.589841842651367,
          14.997209548950195,
          16.276315689086914,
          12.783604621887207,
          15.228888511657715,
          11.005718231201172,
          14.708667755126953,
          11.769492149353027,
          12.39061450958252,
          11.802403450012207,
          12.583688735961914,
          12.960705757141113,
          11.675883293151855,
          15.455486297607422,
          14.194795608520508,
          14.301299095153809,
          11.013195991516113,
          13.738452911376953,
          13.939300537109375,
          15.467562675476074,
          14.015244483947754,
          13.829484939575195,
          15.122352600097656,
          17.090373992919922,
          11.990744590759277,
          15.510239601135254,
          11.774347305297852,
          13.894543647766113,
          11.852750778198242,
          16.29921531677246,
          15.59453296661377,
          13.26131820678711,
          14.563774108886719,
          14.193351745605469,
          12.695781707763672,
          13.878617286682129,
          14.076516151428223,
          13.885088920593262,
          13.358805656433105,
          13.815415382385254,
          16.881175994873047,
          10.706106185913086,
          11.715892791748047,
          14.24933910369873,
          13.360403060913086,
          12.310677528381348,
          11.249990463256836,
          13.217314720153809,
          18.151573181152344,
          12.630002975463867,
          14.191980361938477,
          13.04572582244873,
          14.01241397857666,
          15.407368659973145,
          16.06429100036621,
          13.297981262207031,
          11.846376419067383,
          16.238771438598633,
          13.925228118896484,
          11.087328910827637,
          13.843036651611328,
          12.020862579345703,
          14.127108573913574,
          14.497367858886719,
          15.638023376464844,
          18.268478393554688,
          12.852078437805176,
          14.225513458251953,
          14.602383613586426,
          11.778655052185059,
          13.1669282913208,
          15.220817565917969,
          16.099821090698242,
          13.24351978302002,
          15.332744598388672,
          17.696754455566406,
          14.381439208984375,
          18.296937942504883,
          11.904634475708008,
          10.751832962036133,
          13.973840713500977,
          14.037891387939453,
          13.647480964660645,
          17.91794204711914,
          11.406486511230469,
          14.201271057128906,
          13.213735580444336,
          13.925030708312988,
          17.056310653686523,
          12.155030250549316,
          12.834324836730957,
          18.36689567565918,
          14.230292320251465,
          11.539996147155762,
          14.005425453186035,
          12.498978614807129,
          15.437341690063477,
          16.331981658935547,
          10.518326759338379,
          13.667031288146973,
          13.252217292785645,
          13.724977493286133,
          14.788294792175293,
          16.031686782836914,
          18.156435012817383,
          13.456206321716309,
          17.946327209472656,
          11.38623046875,
          12.54650592803955,
          12.858233451843262,
          11.914122581481934,
          15.524677276611328,
          12.93681812286377,
          15.078082084655762,
          13.609757423400879,
          11.033026695251465,
          15.286867141723633,
          14.530502319335938,
          16.182876586914062,
          13.884833335876465,
          14.677734375,
          14.630476951599121,
          11.46460247039795,
          15.884720802307129,
          14.630518913269043,
          13.959663391113281,
          15.142069816589355,
          16.903167724609375,
          16.919706344604492,
          11.664580345153809,
          12.717951774597168,
          12.9392671585083,
          16.865644454956055,
          18.37494659423828,
          17.585559844970703,
          13.545952796936035,
          13.999479293823242,
          13.844775199890137,
          13.633970260620117,
          10.793542861938477,
          15.38845443725586,
          12.648538589477539,
          13.556004524230957,
          10.705955505371094,
          11.943756103515625,
          13.616288185119629,
          11.63691520690918,
          11.673189163208008,
          12.316678047180176,
          13.646641731262207,
          14.676064491271973,
          12.405868530273438,
          13.209207534790039,
          16.653329849243164,
          13.287402153015137,
          13.543554306030273,
          11.426485061645508,
          15.54684829711914,
          15.28261661529541,
          12.693925857543945,
          13.871541023254395,
          15.310527801513672,
          12.034002304077148,
          14.609397888183594,
          17.773893356323242,
          14.465497016906738,
          13.487279891967773,
          14.124171257019043,
          12.92013168334961,
          12.09327507019043,
          13.14483642578125,
          13.759307861328125,
          13.707864761352539,
          13.099942207336426,
          14.767324447631836,
          15.053167343139648,
          11.817413330078125,
          14.541462898254395,
          11.77673625946045,
          18.376497268676758,
          13.475479125976562,
          14.011138916015625,
          13.8445405960083,
          13.935148239135742,
          11.517858505249023,
          12.8616361618042,
          15.967531204223633,
          14.059572219848633,
          13.947745323181152,
          12.895145416259766,
          11.459071159362793,
          12.53248119354248,
          14.737103462219238,
          12.58529281616211,
          14.682122230529785,
          14.246115684509277,
          14.606637001037598,
          15.514642715454102,
          11.528437614440918,
          12.184560775756836,
          13.575461387634277,
          14.824472427368164,
          13.0912446975708,
          12.440225601196289,
          18.04148292541504,
          11.189041137695312,
          13.481032371520996,
          13.806525230407715,
          16.62486457824707,
          16.410696029663086,
          16.648374557495117,
          12.199991226196289,
          15.109155654907227,
          12.156394958496094,
          12.265748977661133,
          12.975221633911133,
          14.638347625732422,
          14.920762062072754,
          11.506508827209473,
          12.456016540527344,
          12.239514350891113,
          12.796086311340332,
          14.033794403076172,
          13.818656921386719,
          13.647909164428711,
          11.96801471710205,
          12.389554977416992,
          12.000460624694824,
          18.546184539794922,
          14.493146896362305,
          16.511625289916992,
          12.027974128723145,
          13.907027244567871,
          12.569931983947754,
          14.093490600585938,
          14.153651237487793,
          14.043061256408691,
          14.70741081237793,
          15.251628875732422,
          13.835271835327148,
          13.230813980102539,
          14.182250022888184,
          13.599387168884277,
          13.837980270385742,
          11.25247573852539,
          15.145889282226562,
          12.783796310424805,
          12.92364501953125,
          13.070965766906738,
          13.445603370666504,
          16.91132164001465,
          12.010642051696777,
          15.572591781616211,
          10.625194549560547,
          11.914580345153809,
          14.67418098449707,
          15.117729187011719,
          13.434438705444336,
          11.821249008178711,
          11.46686840057373,
          14.645553588867188,
          14.677108764648438,
          14.131155014038086,
          13.40073299407959,
          14.073101043701172,
          12.161785125732422,
          15.16920280456543,
          13.564592361450195,
          16.55441665649414,
          12.576626777648926,
          10.706680297851562,
          12.030169486999512,
          15.715160369873047,
          14.450440406799316,
          13.860441207885742,
          11.196412086486816,
          11.721349716186523,
          15.788975715637207,
          14.313817977905273,
          13.764775276184082,
          13.9202241897583,
          14.22889232635498,
          13.879111289978027,
          12.314691543579102,
          13.868791580200195,
          17.66714096069336,
          11.949637413024902,
          11.34544563293457,
          13.046451568603516,
          11.186476707458496,
          13.414520263671875,
          13.998284339904785,
          14.310665130615234,
          18.798095703125,
          11.005366325378418,
          17.89840316772461,
          13.644371032714844,
          13.240364074707031,
          14.83777141571045,
          13.56932544708252,
          15.155108451843262,
          14.548897743225098,
          13.562421798706055,
          12.729754447937012,
          15.616570472717285,
          14.492618560791016,
          11.01250171661377,
          14.079771041870117,
          12.754890441894531,
          12.808058738708496,
          14.57400894165039,
          15.236981391906738,
          13.286506652832031,
          16.286855697631836,
          15.138346672058105,
          12.782028198242188,
          12.860281944274902,
          14.698740005493164,
          18.370468139648438,
          11.151519775390625,
          16.882936477661133,
          14.11160945892334,
          11.62198543548584,
          15.628219604492188,
          17.431217193603516,
          18.146469116210938,
          11.903392791748047,
          13.83679485321045,
          13.65330696105957,
          13.820228576660156,
          12.280756950378418,
          11.405747413635254,
          17.902341842651367,
          14.789031028747559,
          14.32235050201416,
          13.86275863647461,
          14.585412979125977,
          14.272195816040039,
          18.123348236083984,
          14.369444847106934,
          15.884622573852539,
          15.182832717895508,
          11.29879379272461,
          11.99460506439209,
          18.368980407714844,
          17.645124435424805,
          14.039351463317871,
          14.862120628356934,
          12.888710021972656,
          14.269948959350586,
          15.639127731323242,
          12.25706672668457,
          12.339009284973145,
          15.405790328979492,
          14.226887702941895,
          15.027725219726562,
          13.981090545654297,
          14.031064987182617,
          16.386558532714844,
          13.188960075378418,
          14.616520881652832,
          15.54220199584961,
          12.28116226196289,
          12.386900901794434,
          18.321491241455078,
          13.590198516845703,
          15.132932662963867,
          16.778627395629883,
          15.303305625915527,
          13.389163970947266,
          17.11016082763672,
          12.854369163513184,
          13.924448013305664,
          13.979926109313965,
          17.399669647216797,
          16.235910415649414,
          16.674842834472656,
          13.27403450012207,
          15.06051254272461,
          11.415977478027344,
          13.919134140014648,
          13.238715171813965,
          13.446847915649414,
          12.079916000366211,
          15.576071739196777,
          11.864529609680176,
          15.774850845336914,
          12.132617950439453,
          13.671563148498535,
          14.606437683105469,
          12.938732147216797,
          15.405641555786133,
          13.957137107849121,
          12.413857460021973,
          12.708698272705078,
          11.931646347045898,
          14.07649040222168,
          13.418357849121094,
          14.697661399841309,
          12.089695930480957,
          14.155065536499023,
          10.774675369262695,
          13.808432579040527,
          15.610084533691406,
          13.634026527404785,
          14.010881423950195,
          13.230077743530273,
          12.861727714538574,
          15.821273803710938,
          14.673797607421875,
          14.861562728881836,
          13.734832763671875,
          13.354174613952637,
          18.39259147644043,
          11.720333099365234,
          14.500109672546387,
          13.960089683532715,
          16.793834686279297,
          14.448001861572266,
          15.212000846862793,
          13.368618965148926,
          11.366612434387207,
          14.184820175170898,
          11.082923889160156,
          13.301477432250977,
          11.00361442565918,
          13.49720573425293,
          12.15099048614502,
          12.310297012329102,
          11.90358829498291,
          12.550293922424316,
          16.88812828063965,
          10.769017219543457,
          12.695028305053711,
          18.272947311401367,
          15.806782722473145,
          12.63249397277832,
          13.407196044921875,
          13.444849967956543,
          16.307661056518555,
          16.461973190307617,
          18.25786590576172,
          13.230788230895996,
          16.247283935546875,
          12.802817344665527,
          11.48991584777832,
          18.183805465698242,
          11.862691879272461,
          14.643769264221191,
          14.485949516296387,
          13.768301963806152,
          14.144442558288574,
          13.657631874084473,
          16.173107147216797,
          14.734395027160645,
          16.001726150512695,
          13.976020812988281,
          13.264716148376465,
          11.34136962890625,
          18.786457061767578,
          13.350299835205078,
          15.208166122436523,
          13.35982608795166,
          16.7785701751709,
          12.026589393615723,
          15.96076774597168,
          18.24172019958496,
          13.35269832611084,
          18.076173782348633,
          13.831762313842773,
          11.421316146850586,
          11.039502143859863,
          13.642794609069824,
          11.846755027770996,
          15.92383861541748,
          13.64997673034668,
          14.438921928405762,
          13.60859489440918,
          15.309675216674805,
          15.55837345123291,
          15.66484546661377,
          13.533843040466309,
          11.164093971252441,
          15.460862159729004,
          13.66030502319336,
          18.04676055908203,
          13.746000289916992,
          15.180270195007324,
          15.06259822845459,
          14.207930564880371,
          12.247922897338867,
          13.052108764648438,
          15.564559936523438,
          14.880780220031738,
          13.029257774353027,
          13.926115036010742,
          11.076126098632812,
          17.11127281188965,
          13.16373348236084,
          12.825393676757812,
          13.84583568572998,
          12.413446426391602,
          14.308146476745605,
          15.375423431396484,
          14.542974472045898,
          13.803759574890137,
          14.788013458251953,
          14.684650421142578,
          11.53749942779541,
          11.034529685974121,
          15.327059745788574,
          13.176003456115723,
          13.910223960876465,
          14.062077522277832,
          15.473313331604004,
          13.274057388305664,
          13.616302490234375,
          12.111204147338867,
          14.941258430480957,
          14.390408515930176,
          14.22388744354248,
          12.890413284301758,
          10.731657981872559,
          11.326248168945312,
          14.82226276397705,
          12.115538597106934,
          14.545377731323242,
          12.818882942199707,
          14.992207527160645,
          15.468445777893066,
          11.635027885437012,
          17.876792907714844,
          13.003552436828613,
          18.426143646240234,
          11.73310375213623,
          18.23881721496582,
          13.848564147949219,
          11.30965805053711,
          11.950231552124023,
          11.69597053527832,
          12.541926383972168,
          13.862324714660645,
          13.603157043457031,
          15.135849952697754,
          14.926609992980957,
          14.949104309082031,
          13.54043960571289,
          11.834832191467285,
          11.160431861877441,
          13.993643760681152,
          14.05883502960205,
          13.303811073303223,
          14.543609619140625,
          13.499199867248535,
          11.630620956420898,
          16.594070434570312,
          14.195869445800781,
          11.48243236541748,
          18.18474769592285,
          14.330342292785645,
          15.492646217346191,
          14.006793975830078,
          12.665197372436523,
          16.738147735595703,
          17.60948371887207,
          13.750690460205078,
          11.758569717407227,
          15.621858596801758,
          13.882782936096191,
          12.584391593933105,
          14.764168739318848,
          13.163785934448242,
          12.052566528320312,
          15.41037654876709,
          11.341965675354004,
          13.097238540649414,
          13.125894546508789,
          11.474306106567383,
          14.033720016479492,
          15.33201789855957,
          12.065842628479004,
          14.660355567932129,
          12.749218940734863,
          11.434468269348145,
          18.13673210144043,
          12.291295051574707,
          12.971087455749512,
          17.721582412719727,
          11.875670433044434,
          15.584620475769043,
          15.126228332519531,
          13.442471504211426,
          18.148937225341797,
          11.680856704711914,
          12.813953399658203,
          11.647194862365723,
          17.692867279052734,
          14.57223129272461,
          12.888195037841797,
          14.146943092346191,
          14.629110336303711,
          12.934377670288086,
          18.774885177612305,
          15.6603364944458,
          14.204981803894043,
          13.419862747192383,
          14.164137840270996,
          14.693524360656738,
          12.827651977539062,
          18.06692123413086,
          12.03427505493164,
          11.918880462646484,
          12.059371948242188,
          13.161916732788086,
          13.358004570007324,
          14.803680419921875,
          13.250357627868652,
          13.742813110351562,
          13.91563606262207,
          15.397356986999512,
          12.876843452453613,
          13.103276252746582,
          18.287872314453125,
          16.81499481201172,
          12.104047775268555,
          12.928682327270508,
          13.1871337890625,
          13.675642013549805,
          13.844029426574707,
          18.7659912109375,
          14.199048042297363,
          12.86359977722168,
          15.484213829040527,
          12.486933708190918,
          13.366649627685547,
          13.630953788757324,
          15.19237995147705,
          14.348987579345703,
          15.74806022644043,
          13.622974395751953,
          15.194436073303223,
          18.450021743774414,
          14.569145202636719,
          17.73986053466797,
          12.242974281311035,
          13.63701057434082,
          15.826022148132324,
          15.349039077758789,
          13.596197128295898,
          16.373498916625977,
          14.46538257598877,
          14.589370727539062,
          13.554089546203613,
          11.015046119689941,
          13.680344581604004,
          13.109923362731934,
          16.50241470336914,
          14.051806449890137,
          11.767788887023926,
          14.594636917114258,
          14.58945083618164,
          11.92902660369873,
          12.003252983093262,
          16.019296646118164,
          12.010357856750488,
          15.999139785766602,
          15.209017753601074,
          13.273138046264648,
          15.377120018005371,
          13.969176292419434,
          16.84210205078125,
          11.029378890991211,
          14.232929229736328,
          11.993714332580566,
          15.62275218963623,
          13.186988830566406,
          12.43300724029541,
          13.6763277053833,
          12.212411880493164,
          13.293695449829102,
          12.46760082244873,
          16.753440856933594,
          14.320000648498535,
          12.808223724365234,
          13.258894920349121,
          18.281475067138672,
          16.918540954589844,
          17.57408905029297,
          14.609131813049316,
          18.225723266601562,
          12.146066665649414,
          13.962907791137695,
          11.80176830291748,
          17.004438400268555,
          12.554679870605469,
          12.377824783325195,
          12.821756362915039,
          12.203758239746094,
          18.281896591186523,
          13.584793090820312,
          11.764662742614746,
          14.042137145996094,
          14.57619857788086,
          12.444171905517578,
          11.874711036682129,
          13.193058967590332,
          12.141016006469727,
          11.547477722167969,
          17.575651168823242,
          14.079874992370605,
          11.737079620361328,
          16.24718475341797,
          14.058586120605469,
          13.329971313476562,
          10.524328231811523,
          12.591923713684082,
          10.963888168334961,
          14.52426528930664,
          13.796884536743164,
          12.694969177246094,
          13.480066299438477,
          13.592839241027832,
          15.268243789672852,
          14.687141418457031,
          12.606093406677246,
          12.076644897460938,
          12.578776359558105,
          14.53487491607666,
          13.824380874633789,
          15.079805374145508,
          11.298632621765137,
          11.219261169433594,
          13.322197914123535,
          13.323265075683594,
          13.14962387084961,
          13.386759757995605,
          11.168780326843262,
          13.895462036132812,
          14.336176872253418,
          15.36852741241455,
          13.42116928100586,
          11.652610778808594,
          13.163596153259277,
          12.367267608642578,
          15.075177192687988,
          13.103243827819824,
          15.195472717285156,
          15.625468254089355,
          18.33709144592285,
          15.231477737426758,
          13.672394752502441,
          11.648347854614258,
          12.547099113464355,
          16.322813034057617,
          14.826384544372559,
          14.14824390411377,
          14.174670219421387,
          14.209099769592285,
          13.008797645568848,
          17.585918426513672,
          14.307636260986328,
          11.572473526000977,
          14.721691131591797,
          14.182619094848633,
          14.988678932189941,
          15.443034172058105,
          16.76004409790039,
          12.740812301635742,
          14.621306419372559,
          14.904643058776855,
          17.45941734313965,
          10.707385063171387,
          14.298911094665527,
          13.478541374206543,
          11.645124435424805,
          13.515975952148438,
          14.07571029663086,
          12.995169639587402,
          13.15238094329834,
          12.605700492858887,
          11.794557571411133,
          13.408065795898438,
          15.348362922668457,
          12.983817100524902,
          15.877134323120117,
          12.807324409484863,
          14.697388648986816,
          14.921359062194824,
          13.213630676269531,
          18.360563278198242,
          14.296469688415527,
          13.188650131225586,
          12.65986156463623,
          13.565058708190918,
          11.541300773620605,
          13.891075134277344,
          15.340289115905762,
          14.338068008422852,
          14.642189025878906,
          13.90234088897705,
          15.001319885253906,
          13.261580467224121,
          12.495560646057129,
          13.77639102935791,
          14.674336433410645,
          12.205068588256836,
          15.193952560424805,
          13.980121612548828,
          14.042600631713867,
          11.808146476745605,
          16.37230110168457,
          12.723798751831055,
          12.799092292785645,
          15.507013320922852,
          13.675740242004395,
          14.942645072937012,
          13.324734687805176,
          11.812707901000977,
          12.125944137573242,
          18.319204330444336,
          13.361871719360352,
          13.221717834472656,
          13.115042686462402,
          13.523707389831543,
          12.778273582458496,
          12.669983863830566,
          13.881842613220215,
          14.09968090057373,
          14.514347076416016,
          15.415794372558594,
          14.534610748291016,
          13.379799842834473,
          14.59554672241211,
          17.63106346130371,
          18.321640014648438,
          13.038111686706543,
          13.321309089660645,
          16.368484497070312,
          14.650022506713867,
          14.900568008422852,
          15.766130447387695,
          18.16986846923828,
          11.192243576049805,
          14.41038990020752,
          14.803349494934082,
          14.028264999389648,
          14.548625946044922,
          14.130703926086426,
          14.121268272399902,
          14.054709434509277,
          14.810701370239258,
          11.906593322753906,
          13.23595142364502,
          15.5001859664917,
          14.200331687927246,
          14.327780723571777,
          12.050629615783691,
          11.935772895812988,
          11.501291275024414,
          11.175466537475586,
          13.185285568237305,
          12.7836332321167,
          12.022926330566406,
          11.441492080688477,
          17.259929656982422,
          15.43791389465332,
          12.691195487976074,
          13.96288013458252,
          15.492659568786621,
          11.661715507507324,
          18.771759033203125,
          13.659293174743652,
          11.00367259979248,
          13.882543563842773,
          15.114544868469238,
          14.180577278137207,
          13.793268203735352,
          13.231963157653809,
          15.131547927856445,
          14.959354400634766,
          14.221043586730957,
          14.61405086517334,
          15.509503364562988,
          15.307456970214844,
          10.672107696533203,
          14.238397598266602,
          12.08355712890625,
          14.379705429077148
         ],
         "xaxis": "x",
         "y": [
          7.025052547454834,
          10.521783828735352,
          10.510664939880371,
          8.642156600952148,
          5.266886234283447,
          9.114206314086914,
          8.48682689666748,
          8.326409339904785,
          10.06682300567627,
          7.628028869628906,
          5.0856122970581055,
          9.534131050109863,
          7.176355838775635,
          12.332615852355957,
          9.066494941711426,
          8.80579662322998,
          10.473649978637695,
          6.981489658355713,
          9.175071716308594,
          12.598162651062012,
          8.17668342590332,
          5.273721694946289,
          12.261741638183594,
          6.23816442489624,
          8.385512351989746,
          12.519227981567383,
          9.286568641662598,
          8.959097862243652,
          11.064332962036133,
          13.093039512634277,
          7.983267307281494,
          10.371419906616211,
          5.757678985595703,
          9.578044891357422,
          7.797967910766602,
          6.966964244842529,
          13.02581787109375,
          10.861178398132324,
          9.526023864746094,
          11.453018188476562,
          10.146770477294922,
          6.41571569442749,
          8.697248458862305,
          5.005558967590332,
          12.310709953308105,
          12.08535099029541,
          8.54435920715332,
          8.253702163696289,
          7.422123908996582,
          7.585485935211182,
          12.703104019165039,
          7.560904502868652,
          10.753963470458984,
          3.8384180068969727,
          7.909529209136963,
          7.179007530212402,
          12.085699081420898,
          5.562750339508057,
          12.208109855651855,
          8.289732933044434,
          7.075066089630127,
          7.558154106140137,
          10.719146728515625,
          12.944575309753418,
          5.965380668640137,
          11.33757209777832,
          9.309776306152344,
          13.171442985534668,
          9.424019813537598,
          7.662413120269775,
          9.422989845275879,
          6.861668109893799,
          7.06703519821167,
          7.201672077178955,
          9.65449047088623,
          6.945396423339844,
          6.063869476318359,
          8.823469161987305,
          12.776786804199219,
          12.075615882873535,
          11.417811393737793,
          5.753451824188232,
          7.805225849151611,
          10.102212905883789,
          10.595465660095215,
          11.28012466430664,
          8.081518173217773,
          9.195591926574707,
          8.201996803283691,
          9.762733459472656,
          8.949286460876465,
          8.568918228149414,
          5.467421054840088,
          11.222244262695312,
          6.299015522003174,
          7.455718040466309,
          7.236590385437012,
          12.783068656921387,
          9.81986141204834,
          6.7016472816467285,
          12.427456855773926,
          5.4744439125061035,
          9.333251953125,
          7.183166980743408,
          7.2240447998046875,
          9.564602851867676,
          8.945594787597656,
          8.764201164245605,
          6.705711364746094,
          8.223287582397461,
          9.694031715393066,
          12.853276252746582,
          12.852460861206055,
          6.279445648193359,
          5.726866722106934,
          10.481934547424316,
          7.8008575439453125,
          10.813216209411621,
          7.177820682525635,
          8.744378089904785,
          9.017290115356445,
          8.896642684936523,
          7.183388710021973,
          5.723280906677246,
          9.554633140563965,
          6.008636951446533,
          8.54410457611084,
          5.787239074707031,
          8.124431610107422,
          9.051868438720703,
          8.719408988952637,
          7.142727851867676,
          7.367448806762695,
          12.371757507324219,
          8.244731903076172,
          13.448116302490234,
          6.549664497375488,
          8.665536880493164,
          13.212808609008789,
          10.971435546875,
          6.467867374420166,
          7.865618705749512,
          5.67118501663208,
          6.658839225769043,
          6.816771030426025,
          10.851461410522461,
          7.297768592834473,
          9.153435707092285,
          6.461367607116699,
          12.961217880249023,
          7.1738762855529785,
          12.905020713806152,
          7.839407444000244,
          10.531167030334473,
          9.531538963317871,
          12.468031883239746,
          10.854615211486816,
          7.9456257820129395,
          8.853480339050293,
          3.8389976024627686,
          11.61751651763916,
          8.045439720153809,
          8.723878860473633,
          12.034859657287598,
          8.082819938659668,
          11.543540000915527,
          9.043255805969238,
          8.507721900939941,
          9.647317886352539,
          8.007089614868164,
          10.079161643981934,
          8.706502914428711,
          9.731188774108887,
          12.893985748291016,
          7.648268699645996,
          9.798089027404785,
          11.267007827758789,
          5.670592308044434,
          12.204663276672363,
          11.615588188171387,
          10.431136131286621,
          8.818039894104004,
          10.542632102966309,
          9.193236351013184,
          6.694188594818115,
          8.879804611206055,
          11.970803260803223,
          10.03898811340332,
          13.245133399963379,
          7.443683624267578,
          8.020322799682617,
          12.145920753479004,
          10.794743537902832,
          9.160269737243652,
          12.064033508300781,
          8.719791412353516,
          6.385712146759033,
          6.707228660583496,
          10.105690956115723,
          11.618221282958984,
          11.101273536682129,
          8.586254119873047,
          6.140050888061523,
          8.909924507141113,
          11.581012725830078,
          12.099783897399902,
          8.458765029907227,
          7.963380336761475,
          6.4430317878723145,
          9.525640487670898,
          10.968273162841797,
          7.687320232391357,
          6.875304222106934,
          6.443835258483887,
          10.58000659942627,
          9.594266891479492,
          7.177664756774902,
          9.361927032470703,
          12.95169448852539,
          8.843743324279785,
          10.70002555847168,
          11.011941909790039,
          9.004072189331055,
          5.514053821563721,
          8.256632804870605,
          6.079890727996826,
          11.568625450134277,
          8.51388931274414,
          5.766073703765869,
          8.398690223693848,
          11.887909889221191,
          7.337329864501953,
          9.417105674743652,
          5.441440582275391,
          8.331185340881348,
          8.086920738220215,
          9.095113754272461,
          10.449084281921387,
          6.836632251739502,
          8.765305519104004,
          5.11441707611084,
          8.31873893737793,
          12.306483268737793,
          13.114391326904297,
          10.386411666870117,
          8.257275581359863,
          8.371355056762695,
          11.643638610839844,
          9.920683860778809,
          11.897480964660645,
          8.338371276855469,
          8.630758285522461,
          9.55362319946289,
          12.876229286193848,
          9.031254768371582,
          13.215564727783203,
          11.608051300048828,
          6.6621270179748535,
          10.141117095947266,
          10.870368957519531,
          8.647459983825684,
          3.836730718612671,
          8.745022773742676,
          12.760473251342773,
          11.678820610046387,
          6.689579486846924,
          12.02818775177002,
          6.275128364562988,
          7.333754539489746,
          9.106520652770996,
          9.251395225524902,
          7.741410732269287,
          7.661672115325928,
          9.994309425354004,
          8.194875717163086,
          6.857053279876709,
          6.894983291625977,
          6.106306076049805,
          9.636351585388184,
          8.360898971557617,
          11.615025520324707,
          6.6145429611206055,
          9.865543365478516,
          6.5258588790893555,
          5.4761152267456055,
          9.604324340820312,
          11.191099166870117,
          11.501763343811035,
          10.80675983428955,
          10.628408432006836,
          11.399901390075684,
          8.633279800415039,
          9.501270294189453,
          5.493865966796875,
          9.634337425231934,
          6.332109451293945,
          5.020179271697998,
          8.556760787963867,
          12.287077903747559,
          6.994229316711426,
          10.853313446044922,
          11.274344444274902,
          6.4649553298950195,
          6.430260181427002,
          9.7537202835083,
          10.737258911132812,
          13.21635913848877,
          7.835188388824463,
          9.112523078918457,
          8.293431282043457,
          11.344571113586426,
          12.033236503601074,
          7.122745513916016,
          8.061999320983887,
          12.307757377624512,
          11.07951545715332,
          5.764500617980957,
          7.807708740234375,
          9.256412506103516,
          8.551932334899902,
          8.57339859008789,
          8.254600524902344,
          8.398652076721191,
          5.482827663421631,
          5.487163066864014,
          9.198309898376465,
          8.662482261657715,
          11.686049461364746,
          7.773100852966309,
          8.343117713928223,
          9.706741333007812,
          5.618983268737793,
          8.704389572143555,
          12.577773094177246,
          7.55800199508667,
          10.54353141784668,
          6.1228437423706055,
          11.737659454345703,
          5.248235702514648,
          7.3553900718688965,
          12.484058380126953,
          12.017339706420898,
          6.291191101074219,
          8.879598617553711,
          10.658099174499512,
          8.565766334533691,
          9.104470252990723,
          7.111114978790283,
          8.098267555236816,
          9.719204902648926,
          12.849860191345215,
          8.11159896850586,
          11.892090797424316,
          11.271208763122559,
          12.727583885192871,
          10.138528823852539,
          7.072460174560547,
          13.3546142578125,
          6.9942145347595215,
          12.768573760986328,
          6.391647815704346,
          9.902254104614258,
          6.463046073913574,
          6.854522705078125,
          8.093460083007812,
          13.298672676086426,
          8.581742286682129,
          13.243844032287598,
          10.646331787109375,
          8.300582885742188,
          6.702428817749023,
          7.239752292633057,
          6.463699817657471,
          8.641294479370117,
          6.992622375488281,
          11.075648307800293,
          5.004046440124512,
          5.089005947113037,
          10.490249633789062,
          10.504281044006348,
          12.946650505065918,
          7.951401233673096,
          11.870275497436523,
          7.137629508972168,
          6.546657562255859,
          11.601407051086426,
          8.139884948730469,
          6.759525299072266,
          3.840364933013916,
          9.696929931640625,
          5.947725772857666,
          8.520905494689941,
          7.458588600158691,
          4.962299823760986,
          8.145157814025879,
          10.812747955322266,
          10.27975082397461,
          10.661109924316406,
          6.486569881439209,
          12.357908248901367,
          13.258322715759277,
          9.293986320495605,
          10.8494291305542,
          8.748600006103516,
          11.385412216186523,
          6.290829181671143,
          8.197300910949707,
          5.691013336181641,
          12.222742080688477,
          9.929346084594727,
          8.485275268554688,
          9.120769500732422,
          5.537609577178955,
          9.07434368133545,
          7.531493186950684,
          12.904988288879395,
          7.847414493560791,
          8.567275047302246,
          6.282295227050781,
          8.98978328704834,
          13.386090278625488,
          7.756107330322266,
          8.269400596618652,
          11.219511985778809,
          5.5655317306518555,
          8.947927474975586,
          8.85839557647705,
          12.382718086242676,
          10.865493774414062,
          8.885172843933105,
          6.566860198974609,
          10.992873191833496,
          6.738992691040039,
          13.338576316833496,
          7.060771942138672,
          7.582277297973633,
          9.053373336791992,
          5.68883752822876,
          9.812695503234863,
          7.830466270446777,
          11.668397903442383,
          6.914296627044678,
          9.020417213439941,
          8.36703872680664,
          6.330461502075195,
          12.464412689208984,
          12.426790237426758,
          13.393355369567871,
          9.042043685913086,
          5.870967388153076,
          8.875445365905762,
          10.637253761291504,
          12.371615409851074,
          8.400909423828125,
          6.824988842010498,
          12.069302558898926,
          8.989204406738281,
          11.977959632873535,
          11.354511260986328,
          9.701068878173828,
          5.175903797149658,
          11.597219467163086,
          9.5205078125,
          8.718842506408691,
          10.956050872802734,
          7.8197784423828125,
          11.873661041259766,
          12.370040893554688,
          10.520359992980957,
          7.680479049682617,
          12.066865921020508,
          10.512948989868164,
          8.182488441467285,
          6.682607650756836,
          11.184196472167969,
          12.103659629821777,
          8.261707305908203,
          12.360483169555664,
          12.304640769958496,
          9.683692932128906,
          8.258489608764648,
          12.051545143127441,
          8.78465461730957,
          10.033166885375977,
          10.971960067749023,
          7.808830738067627,
          9.054332733154297,
          13.038129806518555,
          7.876286029815674,
          10.239373207092285,
          12.312036514282227,
          10.089055061340332,
          8.833550453186035,
          8.992105484008789,
          11.202163696289062,
          12.890209197998047,
          9.008200645446777,
          9.632635116577148,
          10.860906600952148,
          8.625982284545898,
          5.528257369995117,
          7.144428730010986,
          8.63047981262207,
          10.2034330368042,
          8.100878715515137,
          6.024660110473633,
          13.218777656555176,
          12.290363311767578,
          6.902935981750488,
          10.1885404586792,
          12.540104866027832,
          8.724470138549805,
          10.961666107177734,
          7.565670490264893,
          12.994232177734375,
          11.417498588562012,
          8.907089233398438,
          9.589719772338867,
          11.984702110290527,
          6.645346164703369,
          13.110770225524902,
          7.565689563751221,
          6.29298734664917,
          13.095890045166016,
          6.573204517364502,
          11.94276237487793,
          7.928839683532715,
          6.647132873535156,
          5.9266438484191895,
          7.259040355682373,
          8.939455032348633,
          8.725786209106445,
          5.295279026031494,
          6.31757116317749,
          11.158527374267578,
          7.795870304107666,
          8.721662521362305,
          7.3821845054626465,
          12.552854537963867,
          5.697258472442627,
          9.291489601135254,
          5.476100921630859,
          7.798752307891846,
          5.798137187957764,
          5.505311012268066,
          7.925848007202148,
          11.861760139465332,
          9.99604320526123,
          6.471869468688965,
          8.335306167602539,
          6.696986198425293,
          6.081521511077881,
          8.216198921203613,
          8.439091682434082,
          7.869843482971191,
          12.8640718460083,
          11.278019905090332,
          8.951570510864258,
          8.178812026977539,
          9.527929306030273,
          12.935934066772461,
          9.10922908782959,
          6.440768718719482,
          5.177679061889648,
          8.474143028259277,
          5.38606595993042,
          12.323081016540527,
          9.07324504852295,
          9.218122482299805,
          10.436701774597168,
          8.980203628540039,
          9.204286575317383,
          11.401388168334961,
          9.717268943786621,
          12.872026443481445,
          12.782821655273438,
          8.041678428649902,
          9.11979866027832,
          9.215604782104492,
          8.212175369262695,
          10.287440299987793,
          8.338420867919922,
          8.319366455078125,
          9.753007888793945,
          9.40379810333252,
          10.550188064575195,
          9.034623146057129,
          8.447937965393066,
          7.99891471862793,
          8.287955284118652,
          9.253646850585938,
          5.451465606689453,
          9.502334594726562,
          13.23525333404541,
          8.045125007629395,
          7.681031703948975,
          6.408054828643799,
          8.258133888244629,
          6.942768573760986,
          12.679693222045898,
          5.948852062225342,
          10.918256759643555,
          12.351211547851562,
          9.487319946289062,
          12.746789932250977,
          6.750524520874023,
          5.540820121765137,
          10.80121898651123,
          5.253411769866943,
          8.74544620513916,
          6.63272762298584,
          7.500129222869873,
          13.108724594116211,
          11.095179557800293,
          8.409286499023438,
          8.970030784606934,
          10.823620796203613,
          9.976693153381348,
          9.841374397277832,
          10.700007438659668,
          10.442917823791504,
          9.139123916625977,
          6.602358341217041,
          9.165074348449707,
          10.390602111816406,
          8.08266544342041,
          8.170086860656738,
          8.286540031433105,
          10.901975631713867,
          12.772256851196289,
          6.707311153411865,
          13.0413236618042,
          6.538259029388428,
          13.085123062133789,
          13.218128204345703,
          6.774343013763428,
          10.524425506591797,
          8.649389266967773,
          6.255033493041992,
          7.808335781097412,
          3.885098934173584,
          6.4335713386535645,
          8.564123153686523,
          9.645883560180664,
          8.75732707977295,
          7.308941841125488,
          10.156208038330078,
          10.942648887634277,
          6.689247131347656,
          8.876761436462402,
          10.92372989654541,
          8.71995735168457,
          5.169840335845947,
          9.235294342041016,
          13.215096473693848,
          5.724022388458252,
          5.4060444831848145,
          6.6386823654174805,
          8.386170387268066,
          12.806949615478516,
          10.668490409851074,
          11.163451194763184,
          8.139549255371094,
          8.126341819763184,
          8.623239517211914,
          5.31138801574707,
          6.719285488128662,
          10.116646766662598,
          13.12629222869873,
          12.975146293640137,
          12.031264305114746,
          5.479645729064941,
          11.693115234375,
          8.665124893188477,
          10.916206359863281,
          8.084288597106934,
          9.24531364440918,
          8.575424194335938,
          6.740311145782471,
          13.0438871383667,
          6.891421318054199,
          7.802867889404297,
          9.128589630126953,
          12.38873291015625,
          11.718494415283203,
          6.797873497009277,
          9.929306983947754,
          10.03492546081543,
          6.533533096313477,
          12.337488174438477,
          10.375236511230469,
          7.60179328918457,
          5.804828643798828,
          8.56486988067627,
          12.599740982055664,
          10.334955215454102,
          13.135631561279297,
          8.296483993530273,
          9.677237510681152,
          6.861151218414307,
          6.430794715881348,
          5.021739482879639,
          8.899622917175293,
          11.470870018005371,
          6.922271728515625,
          8.70036506652832,
          8.624439239501953,
          10.549833297729492,
          10.426897048950195,
          13.117362976074219,
          8.933820724487305,
          11.670536994934082,
          6.449706554412842,
          5.743154525756836,
          9.256827354431152,
          5.955375671386719,
          12.42857837677002,
          9.944942474365234,
          7.2786736488342285,
          10.413516998291016,
          9.108938217163086,
          9.921895980834961,
          8.925304412841797,
          13.259392738342285,
          6.273036479949951,
          10.15180492401123,
          12.234773635864258,
          9.087615013122559,
          5.3292317390441895,
          10.186659812927246,
          10.251221656799316,
          11.06870174407959,
          13.232599258422852,
          5.934487342834473,
          9.82858943939209,
          10.21950912475586,
          12.667145729064941,
          8.807933807373047,
          13.33515739440918,
          12.645345687866211,
          8.579488754272461,
          10.86386775970459,
          5.886341571807861,
          12.469791412353516,
          9.249980926513672,
          9.002015113830566,
          9.885493278503418,
          9.105508804321289,
          10.571664810180664,
          11.150209426879883,
          7.525580883026123,
          6.043683052062988,
          11.042591094970703,
          8.082481384277344,
          6.155905246734619,
          10.928050994873047,
          9.83509635925293,
          10.024853706359863,
          7.479914665222168,
          9.325774192810059,
          12.04017448425293,
          9.261237144470215,
          5.244709014892578,
          7.657596111297607,
          9.700200080871582,
          10.748162269592285,
          11.223273277282715,
          9.489933013916016,
          11.767868995666504,
          12.346479415893555,
          8.561229705810547,
          7.175681114196777,
          11.523179054260254,
          12.65384578704834,
          8.219462394714355,
          11.648012161254883,
          5.027828693389893,
          7.242247581481934,
          7.0422749519348145,
          5.9381208419799805,
          10.222136497497559,
          9.761177062988281,
          7.079576015472412,
          9.742103576660156,
          10.358905792236328,
          11.213979721069336,
          6.038337707519531,
          12.398636817932129,
          8.336536407470703,
          8.253149032592773,
          6.470503807067871,
          10.217182159423828,
          7.321047306060791,
          7.248957633972168,
          10.679910659790039,
          9.255967140197754,
          8.40098762512207,
          9.70115852355957,
          8.75574779510498,
          10.903079986572266,
          10.47131633758545,
          6.459773063659668,
          8.849740982055664,
          8.301942825317383,
          7.808659076690674,
          9.539118766784668,
          7.929701328277588,
          8.893052101135254,
          6.762571811676025,
          8.604401588439941,
          5.294369697570801,
          8.055574417114258,
          10.168364524841309,
          7.901689052581787,
          10.75696086883545,
          6.8495869636535645,
          8.326070785522461,
          8.196924209594727,
          5.0664801597595215,
          12.983362197875977,
          7.243406772613525,
          9.106721878051758,
          8.624249458312988,
          6.534907341003418,
          9.635490417480469,
          9.135043144226074,
          9.0459566116333,
          6.270122051239014,
          7.559170246124268,
          11.021383285522461,
          8.991311073303223,
          10.145869255065918,
          7.2004923820495605,
          8.854940414428711,
          6.374495506286621,
          7.151314735412598,
          7.892612934112549,
          10.9009370803833,
          5.48895263671875,
          12.250227928161621,
          7.336755275726318,
          9.165815353393555,
          6.029347896575928,
          11.654656410217285,
          8.507414817810059,
          8.09615707397461,
          11.703593254089355,
          6.702231407165527,
          5.873398780822754,
          4.940971374511719,
          12.863151550292969,
          10.230759620666504,
          7.804453372955322,
          13.210107803344727,
          6.2991814613342285,
          10.57950496673584,
          8.520454406738281,
          6.841798305511475,
          10.48293399810791,
          11.692499160766602,
          6.722641944885254,
          12.051087379455566,
          10.896472930908203,
          10.07633113861084,
          7.462965965270996,
          8.585938453674316,
          9.06973934173584,
          7.070504665374756,
          12.49427318572998,
          11.663887977600098,
          8.7871732711792,
          9.840946197509766,
          5.933896541595459,
          12.912175178527832,
          10.8402681350708,
          8.143684387207031,
          10.906059265136719,
          8.775721549987793,
          7.047464847564697,
          8.70622730255127,
          7.493619441986084,
          8.918783187866211,
          9.273723602294922,
          5.936408519744873,
          8.800986289978027,
          7.310519695281982,
          12.015092849731445,
          10.283904075622559,
          9.576750755310059,
          7.1803436279296875,
          8.492051124572754,
          5.481153964996338,
          11.689635276794434,
          11.549753189086914,
          12.74418830871582,
          12.168630599975586,
          12.376121520996094,
          6.1189470291137695,
          7.2155442237854,
          13.274133682250977,
          6.126850128173828,
          12.193195343017578,
          9.19668960571289,
          11.939071655273438,
          10.180054664611816,
          7.573214530944824,
          11.165950775146484,
          8.739984512329102,
          7.446679592132568,
          6.65519905090332,
          6.0834174156188965,
          10.7487211227417,
          9.256631851196289,
          6.518186569213867,
          7.160275936126709,
          11.262451171875,
          6.941117286682129,
          9.165786743164062,
          10.480504989624023,
          9.179645538330078,
          8.440228462219238,
          10.79973030090332,
          12.358394622802734,
          6.709200382232666,
          6.528908729553223,
          8.16079330444336,
          9.25293254852295,
          6.150372505187988,
          11.01781177520752,
          9.755806922912598,
          8.22120189666748,
          7.130724906921387,
          8.996817588806152,
          7.3206024169921875,
          13.032824516296387,
          6.24744176864624,
          7.496228218078613,
          8.2188720703125,
          13.265358924865723,
          9.287941932678223,
          8.805289268493652,
          10.467718124389648,
          13.335151672363281,
          6.079415798187256,
          6.591007709503174,
          11.057047843933105,
          11.024787902832031,
          10.719372749328613,
          7.202372074127197,
          10.663424491882324,
          10.959851264953613,
          8.640335083007812,
          8.959320068359375,
          13.117765426635742,
          11.092743873596191,
          11.127837181091309,
          10.719192504882812,
          7.543068885803223,
          10.346030235290527,
          8.787891387939453,
          5.584191799163818,
          8.261648178100586,
          8.122225761413574,
          8.709813117980957,
          6.751251697540283,
          11.88779354095459,
          11.035054206848145,
          9.995859146118164,
          8.535621643066406,
          8.342325210571289,
          10.306880950927734,
          6.682015419006348,
          6.264315605163574,
          7.351168632507324,
          11.595938682556152,
          5.959553241729736,
          5.746131420135498,
          5.1765971183776855,
          12.111852645874023,
          8.308246612548828,
          9.704886436462402,
          7.992773056030273,
          9.188596725463867,
          6.897369384765625,
          10.946067810058594,
          6.7476935386657715,
          6.667355537414551,
          6.858942031860352,
          9.064866065979004,
          10.111933708190918,
          5.554420471191406,
          7.559928894042969,
          5.595374584197998,
          9.619235038757324,
          9.349668502807617,
          11.543540954589844,
          6.344480514526367,
          10.5660400390625,
          8.91450309753418,
          12.292343139648438,
          6.665226936340332,
          9.104619026184082,
          3.805881977081299,
          12.35648250579834,
          10.33119010925293,
          12.167367935180664
         ],
         "yaxis": "y"
        }
       ],
       "layout": {
        "annotations": [
         {
          "font": {
           "size": 16
          },
          "showarrow": false,
          "text": "Topics by HDBSCAN Cluster",
          "x": 0.5,
          "xanchor": "center",
          "xref": "paper",
          "y": 1,
          "yanchor": "bottom",
          "yref": "paper"
         }
        ],
        "height": 1000,
        "plot_bgcolor": "rgba(250,250,250,1)",
        "template": {
         "data": {
          "bar": [
           {
            "error_x": {
             "color": "#2a3f5f"
            },
            "error_y": {
             "color": "#2a3f5f"
            },
            "marker": {
             "line": {
              "color": "#E5ECF6",
              "width": 0.5
             },
             "pattern": {
              "fillmode": "overlay",
              "size": 10,
              "solidity": 0.2
             }
            },
            "type": "bar"
           }
          ],
          "barpolar": [
           {
            "marker": {
             "line": {
              "color": "#E5ECF6",
              "width": 0.5
             },
             "pattern": {
              "fillmode": "overlay",
              "size": 10,
              "solidity": 0.2
             }
            },
            "type": "barpolar"
           }
          ],
          "carpet": [
           {
            "aaxis": {
             "endlinecolor": "#2a3f5f",
             "gridcolor": "white",
             "linecolor": "white",
             "minorgridcolor": "white",
             "startlinecolor": "#2a3f5f"
            },
            "baxis": {
             "endlinecolor": "#2a3f5f",
             "gridcolor": "white",
             "linecolor": "white",
             "minorgridcolor": "white",
             "startlinecolor": "#2a3f5f"
            },
            "type": "carpet"
           }
          ],
          "choropleth": [
           {
            "colorbar": {
             "outlinewidth": 0,
             "ticks": ""
            },
            "type": "choropleth"
           }
          ],
          "contour": [
           {
            "colorbar": {
             "outlinewidth": 0,
             "ticks": ""
            },
            "colorscale": [
             [
              0,
              "#0d0887"
             ],
             [
              0.1111111111111111,
              "#46039f"
             ],
             [
              0.2222222222222222,
              "#7201a8"
             ],
             [
              0.3333333333333333,
              "#9c179e"
             ],
             [
              0.4444444444444444,
              "#bd3786"
             ],
             [
              0.5555555555555556,
              "#d8576b"
             ],
             [
              0.6666666666666666,
              "#ed7953"
             ],
             [
              0.7777777777777778,
              "#fb9f3a"
             ],
             [
              0.8888888888888888,
              "#fdca26"
             ],
             [
              1,
              "#f0f921"
             ]
            ],
            "type": "contour"
           }
          ],
          "contourcarpet": [
           {
            "colorbar": {
             "outlinewidth": 0,
             "ticks": ""
            },
            "type": "contourcarpet"
           }
          ],
          "heatmap": [
           {
            "colorbar": {
             "outlinewidth": 0,
             "ticks": ""
            },
            "colorscale": [
             [
              0,
              "#0d0887"
             ],
             [
              0.1111111111111111,
              "#46039f"
             ],
             [
              0.2222222222222222,
              "#7201a8"
             ],
             [
              0.3333333333333333,
              "#9c179e"
             ],
             [
              0.4444444444444444,
              "#bd3786"
             ],
             [
              0.5555555555555556,
              "#d8576b"
             ],
             [
              0.6666666666666666,
              "#ed7953"
             ],
             [
              0.7777777777777778,
              "#fb9f3a"
             ],
             [
              0.8888888888888888,
              "#fdca26"
             ],
             [
              1,
              "#f0f921"
             ]
            ],
            "type": "heatmap"
           }
          ],
          "heatmapgl": [
           {
            "colorbar": {
             "outlinewidth": 0,
             "ticks": ""
            },
            "colorscale": [
             [
              0,
              "#0d0887"
             ],
             [
              0.1111111111111111,
              "#46039f"
             ],
             [
              0.2222222222222222,
              "#7201a8"
             ],
             [
              0.3333333333333333,
              "#9c179e"
             ],
             [
              0.4444444444444444,
              "#bd3786"
             ],
             [
              0.5555555555555556,
              "#d8576b"
             ],
             [
              0.6666666666666666,
              "#ed7953"
             ],
             [
              0.7777777777777778,
              "#fb9f3a"
             ],
             [
              0.8888888888888888,
              "#fdca26"
             ],
             [
              1,
              "#f0f921"
             ]
            ],
            "type": "heatmapgl"
           }
          ],
          "histogram": [
           {
            "marker": {
             "pattern": {
              "fillmode": "overlay",
              "size": 10,
              "solidity": 0.2
             }
            },
            "type": "histogram"
           }
          ],
          "histogram2d": [
           {
            "colorbar": {
             "outlinewidth": 0,
             "ticks": ""
            },
            "colorscale": [
             [
              0,
              "#0d0887"
             ],
             [
              0.1111111111111111,
              "#46039f"
             ],
             [
              0.2222222222222222,
              "#7201a8"
             ],
             [
              0.3333333333333333,
              "#9c179e"
             ],
             [
              0.4444444444444444,
              "#bd3786"
             ],
             [
              0.5555555555555556,
              "#d8576b"
             ],
             [
              0.6666666666666666,
              "#ed7953"
             ],
             [
              0.7777777777777778,
              "#fb9f3a"
             ],
             [
              0.8888888888888888,
              "#fdca26"
             ],
             [
              1,
              "#f0f921"
             ]
            ],
            "type": "histogram2d"
           }
          ],
          "histogram2dcontour": [
           {
            "colorbar": {
             "outlinewidth": 0,
             "ticks": ""
            },
            "colorscale": [
             [
              0,
              "#0d0887"
             ],
             [
              0.1111111111111111,
              "#46039f"
             ],
             [
              0.2222222222222222,
              "#7201a8"
             ],
             [
              0.3333333333333333,
              "#9c179e"
             ],
             [
              0.4444444444444444,
              "#bd3786"
             ],
             [
              0.5555555555555556,
              "#d8576b"
             ],
             [
              0.6666666666666666,
              "#ed7953"
             ],
             [
              0.7777777777777778,
              "#fb9f3a"
             ],
             [
              0.8888888888888888,
              "#fdca26"
             ],
             [
              1,
              "#f0f921"
             ]
            ],
            "type": "histogram2dcontour"
           }
          ],
          "mesh3d": [
           {
            "colorbar": {
             "outlinewidth": 0,
             "ticks": ""
            },
            "type": "mesh3d"
           }
          ],
          "parcoords": [
           {
            "line": {
             "colorbar": {
              "outlinewidth": 0,
              "ticks": ""
             }
            },
            "type": "parcoords"
           }
          ],
          "pie": [
           {
            "automargin": true,
            "type": "pie"
           }
          ],
          "scatter": [
           {
            "fillpattern": {
             "fillmode": "overlay",
             "size": 10,
             "solidity": 0.2
            },
            "type": "scatter"
           }
          ],
          "scatter3d": [
           {
            "line": {
             "colorbar": {
              "outlinewidth": 0,
              "ticks": ""
             }
            },
            "marker": {
             "colorbar": {
              "outlinewidth": 0,
              "ticks": ""
             }
            },
            "type": "scatter3d"
           }
          ],
          "scattercarpet": [
           {
            "marker": {
             "colorbar": {
              "outlinewidth": 0,
              "ticks": ""
             }
            },
            "type": "scattercarpet"
           }
          ],
          "scattergeo": [
           {
            "marker": {
             "colorbar": {
              "outlinewidth": 0,
              "ticks": ""
             }
            },
            "type": "scattergeo"
           }
          ],
          "scattergl": [
           {
            "marker": {
             "colorbar": {
              "outlinewidth": 0,
              "ticks": ""
             }
            },
            "type": "scattergl"
           }
          ],
          "scattermapbox": [
           {
            "marker": {
             "colorbar": {
              "outlinewidth": 0,
              "ticks": ""
             }
            },
            "type": "scattermapbox"
           }
          ],
          "scatterpolar": [
           {
            "marker": {
             "colorbar": {
              "outlinewidth": 0,
              "ticks": ""
             }
            },
            "type": "scatterpolar"
           }
          ],
          "scatterpolargl": [
           {
            "marker": {
             "colorbar": {
              "outlinewidth": 0,
              "ticks": ""
             }
            },
            "type": "scatterpolargl"
           }
          ],
          "scatterternary": [
           {
            "marker": {
             "colorbar": {
              "outlinewidth": 0,
              "ticks": ""
             }
            },
            "type": "scatterternary"
           }
          ],
          "surface": [
           {
            "colorbar": {
             "outlinewidth": 0,
             "ticks": ""
            },
            "colorscale": [
             [
              0,
              "#0d0887"
             ],
             [
              0.1111111111111111,
              "#46039f"
             ],
             [
              0.2222222222222222,
              "#7201a8"
             ],
             [
              0.3333333333333333,
              "#9c179e"
             ],
             [
              0.4444444444444444,
              "#bd3786"
             ],
             [
              0.5555555555555556,
              "#d8576b"
             ],
             [
              0.6666666666666666,
              "#ed7953"
             ],
             [
              0.7777777777777778,
              "#fb9f3a"
             ],
             [
              0.8888888888888888,
              "#fdca26"
             ],
             [
              1,
              "#f0f921"
             ]
            ],
            "type": "surface"
           }
          ],
          "table": [
           {
            "cells": {
             "fill": {
              "color": "#EBF0F8"
             },
             "line": {
              "color": "white"
             }
            },
            "header": {
             "fill": {
              "color": "#C8D4E3"
             },
             "line": {
              "color": "white"
             }
            },
            "type": "table"
           }
          ]
         },
         "layout": {
          "annotationdefaults": {
           "arrowcolor": "#2a3f5f",
           "arrowhead": 0,
           "arrowwidth": 1
          },
          "autotypenumbers": "strict",
          "coloraxis": {
           "colorbar": {
            "outlinewidth": 0,
            "ticks": ""
           }
          },
          "colorscale": {
           "diverging": [
            [
             0,
             "#8e0152"
            ],
            [
             0.1,
             "#c51b7d"
            ],
            [
             0.2,
             "#de77ae"
            ],
            [
             0.3,
             "#f1b6da"
            ],
            [
             0.4,
             "#fde0ef"
            ],
            [
             0.5,
             "#f7f7f7"
            ],
            [
             0.6,
             "#e6f5d0"
            ],
            [
             0.7,
             "#b8e186"
            ],
            [
             0.8,
             "#7fbc41"
            ],
            [
             0.9,
             "#4d9221"
            ],
            [
             1,
             "#276419"
            ]
           ],
           "sequential": [
            [
             0,
             "#0d0887"
            ],
            [
             0.1111111111111111,
             "#46039f"
            ],
            [
             0.2222222222222222,
             "#7201a8"
            ],
            [
             0.3333333333333333,
             "#9c179e"
            ],
            [
             0.4444444444444444,
             "#bd3786"
            ],
            [
             0.5555555555555556,
             "#d8576b"
            ],
            [
             0.6666666666666666,
             "#ed7953"
            ],
            [
             0.7777777777777778,
             "#fb9f3a"
            ],
            [
             0.8888888888888888,
             "#fdca26"
            ],
            [
             1,
             "#f0f921"
            ]
           ],
           "sequentialminus": [
            [
             0,
             "#0d0887"
            ],
            [
             0.1111111111111111,
             "#46039f"
            ],
            [
             0.2222222222222222,
             "#7201a8"
            ],
            [
             0.3333333333333333,
             "#9c179e"
            ],
            [
             0.4444444444444444,
             "#bd3786"
            ],
            [
             0.5555555555555556,
             "#d8576b"
            ],
            [
             0.6666666666666666,
             "#ed7953"
            ],
            [
             0.7777777777777778,
             "#fb9f3a"
            ],
            [
             0.8888888888888888,
             "#fdca26"
            ],
            [
             1,
             "#f0f921"
            ]
           ]
          },
          "colorway": [
           "#636efa",
           "#EF553B",
           "#00cc96",
           "#ab63fa",
           "#FFA15A",
           "#19d3f3",
           "#FF6692",
           "#B6E880",
           "#FF97FF",
           "#FECB52"
          ],
          "font": {
           "color": "#2a3f5f"
          },
          "geo": {
           "bgcolor": "white",
           "lakecolor": "white",
           "landcolor": "#E5ECF6",
           "showlakes": true,
           "showland": true,
           "subunitcolor": "white"
          },
          "hoverlabel": {
           "align": "left"
          },
          "hovermode": "closest",
          "mapbox": {
           "style": "light"
          },
          "paper_bgcolor": "white",
          "plot_bgcolor": "#E5ECF6",
          "polar": {
           "angularaxis": {
            "gridcolor": "white",
            "linecolor": "white",
            "ticks": ""
           },
           "bgcolor": "#E5ECF6",
           "radialaxis": {
            "gridcolor": "white",
            "linecolor": "white",
            "ticks": ""
           }
          },
          "scene": {
           "xaxis": {
            "backgroundcolor": "#E5ECF6",
            "gridcolor": "white",
            "gridwidth": 2,
            "linecolor": "white",
            "showbackground": true,
            "ticks": "",
            "zerolinecolor": "white"
           },
           "yaxis": {
            "backgroundcolor": "#E5ECF6",
            "gridcolor": "white",
            "gridwidth": 2,
            "linecolor": "white",
            "showbackground": true,
            "ticks": "",
            "zerolinecolor": "white"
           },
           "zaxis": {
            "backgroundcolor": "#E5ECF6",
            "gridcolor": "white",
            "gridwidth": 2,
            "linecolor": "white",
            "showbackground": true,
            "ticks": "",
            "zerolinecolor": "white"
           }
          },
          "shapedefaults": {
           "line": {
            "color": "#2a3f5f"
           }
          },
          "ternary": {
           "aaxis": {
            "gridcolor": "white",
            "linecolor": "white",
            "ticks": ""
           },
           "baxis": {
            "gridcolor": "white",
            "linecolor": "white",
            "ticks": ""
           },
           "bgcolor": "#E5ECF6",
           "caxis": {
            "gridcolor": "white",
            "linecolor": "white",
            "ticks": ""
           }
          },
          "title": {
           "x": 0.05
          },
          "xaxis": {
           "automargin": true,
           "gridcolor": "white",
           "linecolor": "white",
           "ticks": "",
           "title": {
            "standoff": 15
           },
           "zerolinecolor": "white",
           "zerolinewidth": 2
          },
          "yaxis": {
           "automargin": true,
           "gridcolor": "white",
           "linecolor": "white",
           "ticks": "",
           "title": {
            "standoff": 15
           },
           "zerolinecolor": "white",
           "zerolinewidth": 2
          }
         }
        },
        "width": 1000,
        "xaxis": {
         "anchor": "y",
         "domain": [
          0,
          1
         ],
         "visible": false
        },
        "yaxis": {
         "anchor": "x",
         "domain": [
          0,
          1
         ],
         "visible": false
        }
       }
      }
     },
     "metadata": {},
     "output_type": "display_data"
    }
   ],
   "source": [
    "trace_cluster_2d, trace_outlier_2d = result_tracer_wrapper(embs_2d, clusters_2d.labels_, df[\"title_clean\"].to_numpy())\n",
    "\n",
    "\n",
    "col11 = [trace_cluster_2d, trace_outlier_2d]\n",
    "\n",
    "\n",
    "row1 = [col11]\n",
    "\n",
    "\n",
    "trace_list = [row1]\n",
    "\n",
    "fig = subplotter(trace_list, [\"Topics by HDBSCAN Cluster\", ])\n",
    "\n",
    "fig_show_save(fig, \"topics-by-hdbscan-clusters\")"
   ]
  },
  {
   "cell_type": "markdown",
   "metadata": {},
   "source": [
    "## Showing topic per cluster\n",
    "\n",
    "This last part is just showing the topic per cluster. This means that we list each cluster_label which corresponds with the cluster_id. The we see what topics each cluster_label is about and how many videos that are a part of each topic. "
   ]
  },
  {
   "cell_type": "code",
   "execution_count": 20,
   "metadata": {},
   "outputs": [
    {
     "data": {
      "text/html": [
       "<div>\n",
       "<style scoped>\n",
       "    .dataframe tbody tr th:only-of-type {\n",
       "        vertical-align: middle;\n",
       "    }\n",
       "\n",
       "    .dataframe tbody tr th {\n",
       "        vertical-align: top;\n",
       "    }\n",
       "\n",
       "    .dataframe thead th {\n",
       "        text-align: right;\n",
       "    }\n",
       "</style>\n",
       "<table border=\"1\" class=\"dataframe\">\n",
       "  <thead>\n",
       "    <tr style=\"text-align: right;\">\n",
       "      <th></th>\n",
       "      <th>cluster_label</th>\n",
       "      <th>topics</th>\n",
       "      <th>vidoes_count</th>\n",
       "    </tr>\n",
       "  </thead>\n",
       "  <tbody>\n",
       "    <tr>\n",
       "      <th>0</th>\n",
       "      <td>-1</td>\n",
       "      <td>official video trailer 2018 music</td>\n",
       "      <td>1006</td>\n",
       "    </tr>\n",
       "    <tr>\n",
       "      <th>31</th>\n",
       "      <td>30</td>\n",
       "      <td>meghan markle scene harry bellas</td>\n",
       "      <td>74</td>\n",
       "    </tr>\n",
       "    <tr>\n",
       "      <th>13</th>\n",
       "      <td>12</td>\n",
       "      <td>trailers honest star wars jedi</td>\n",
       "      <td>58</td>\n",
       "    </tr>\n",
       "    <tr>\n",
       "      <th>35</th>\n",
       "      <td>34</td>\n",
       "      <td>snl kevin trump hart matters</td>\n",
       "      <td>39</td>\n",
       "    </tr>\n",
       "    <tr>\n",
       "      <th>41</th>\n",
       "      <td>40</td>\n",
       "      <td>pond diving scuba treasure shell</td>\n",
       "      <td>36</td>\n",
       "    </tr>\n",
       "    <tr>\n",
       "      <th>38</th>\n",
       "      <td>37</td>\n",
       "      <td>ft shawn mendes makeup young</td>\n",
       "      <td>35</td>\n",
       "    </tr>\n",
       "    <tr>\n",
       "      <th>22</th>\n",
       "      <td>21</td>\n",
       "      <td>game history battle happening emblem</td>\n",
       "      <td>33</td>\n",
       "    </tr>\n",
       "    <tr>\n",
       "      <th>33</th>\n",
       "      <td>32</td>\n",
       "      <td>boy audio imagine dragons live</td>\n",
       "      <td>32</td>\n",
       "    </tr>\n",
       "    <tr>\n",
       "      <th>30</th>\n",
       "      <td>29</td>\n",
       "      <td>jenner hannah kris instagram rogers</td>\n",
       "      <td>32</td>\n",
       "    </tr>\n",
       "    <tr>\n",
       "      <th>21</th>\n",
       "      <td>20</td>\n",
       "      <td>makeup tutorial beauty everyday challenge</td>\n",
       "      <td>32</td>\n",
       "    </tr>\n",
       "    <tr>\n",
       "      <th>37</th>\n",
       "      <td>36</td>\n",
       "      <td>ft audio cover maroon big</td>\n",
       "      <td>29</td>\n",
       "    </tr>\n",
       "    <tr>\n",
       "      <th>20</th>\n",
       "      <td>19</td>\n",
       "      <td>makeup skin wearing testing face</td>\n",
       "      <td>28</td>\n",
       "    </tr>\n",
       "    <tr>\n",
       "      <th>36</th>\n",
       "      <td>35</td>\n",
       "      <td>house true mom day bought</td>\n",
       "      <td>28</td>\n",
       "    </tr>\n",
       "    <tr>\n",
       "      <th>42</th>\n",
       "      <td>41</td>\n",
       "      <td>bitcoin make giertz useless simone</td>\n",
       "      <td>28</td>\n",
       "    </tr>\n",
       "    <tr>\n",
       "      <th>40</th>\n",
       "      <td>39</td>\n",
       "      <td>cat simons white black earth</td>\n",
       "      <td>27</td>\n",
       "    </tr>\n",
       "    <tr>\n",
       "      <th>6</th>\n",
       "      <td>5</td>\n",
       "      <td>iphone apple 2007 original unboxing</td>\n",
       "      <td>27</td>\n",
       "    </tr>\n",
       "    <tr>\n",
       "      <th>15</th>\n",
       "      <td>14</td>\n",
       "      <td>hydraulic ball hulkbuster homemade challenge</td>\n",
       "      <td>26</td>\n",
       "    </tr>\n",
       "    <tr>\n",
       "      <th>16</th>\n",
       "      <td>15</td>\n",
       "      <td>trailer official hd teaser season</td>\n",
       "      <td>24</td>\n",
       "    </tr>\n",
       "    <tr>\n",
       "      <th>12</th>\n",
       "      <td>11</td>\n",
       "      <td>make appétit bon potato sandwich</td>\n",
       "      <td>23</td>\n",
       "    </tr>\n",
       "    <tr>\n",
       "      <th>29</th>\n",
       "      <td>28</td>\n",
       "      <td>fortnite ride olympic bobsledder meteor</td>\n",
       "      <td>22</td>\n",
       "    </tr>\n",
       "  </tbody>\n",
       "</table>\n",
       "</div>"
      ],
      "text/plain": [
       "    cluster_label                                        topics  vidoes_count\n",
       "0              -1             official video trailer 2018 music          1006\n",
       "31             30              meghan markle scene harry bellas            74\n",
       "13             12                trailers honest star wars jedi            58\n",
       "35             34                  snl kevin trump hart matters            39\n",
       "41             40              pond diving scuba treasure shell            36\n",
       "38             37                  ft shawn mendes makeup young            35\n",
       "22             21          game history battle happening emblem            33\n",
       "33             32                boy audio imagine dragons live            32\n",
       "30             29           jenner hannah kris instagram rogers            32\n",
       "21             20     makeup tutorial beauty everyday challenge            32\n",
       "37             36                     ft audio cover maroon big            29\n",
       "20             19              makeup skin wearing testing face            28\n",
       "36             35                     house true mom day bought            28\n",
       "42             41            bitcoin make giertz useless simone            28\n",
       "40             39                  cat simons white black earth            27\n",
       "6               5           iphone apple 2007 original unboxing            27\n",
       "15             14  hydraulic ball hulkbuster homemade challenge            26\n",
       "16             15             trailer official hd teaser season            24\n",
       "12             11              make appétit bon potato sandwich            23\n",
       "29             28       fortnite ride olympic bobsledder meteor            22"
      ]
     },
     "execution_count": 20,
     "metadata": {},
     "output_type": "execute_result"
    }
   ],
   "source": [
    "result_2d = result_df_maker(embs_2d, clusters_2d.labels_, df[\"title_clean\"].to_numpy())\n",
    "\n",
    "result_2d[[\"cluster_label\", \"topics\"]].groupby([\"cluster_label\", \"topics\"])[\"topics\"].count().reset_index(name=\"vidoes_count\").sort_values(by=\"vidoes_count\", ascending=False).head(20)"
   ]
  }
 ],
 "metadata": {
  "kernelspec": {
   "display_name": "Python 3.8.13 ('Intro_ai')",
   "language": "python",
   "name": "python3"
  },
  "language_info": {
   "codemirror_mode": {
    "name": "ipython",
    "version": 3
   },
   "file_extension": ".py",
   "mimetype": "text/x-python",
   "name": "python",
   "nbconvert_exporter": "python",
   "pygments_lexer": "ipython3",
   "version": "3.8.13"
  },
  "orig_nbformat": 4,
  "vscode": {
   "interpreter": {
    "hash": "e215ae6c0be94389873225c112a0c87624a9fcaac52f32d22a7ed445ee0844ad"
   }
  }
 },
 "nbformat": 4,
 "nbformat_minor": 2
}
